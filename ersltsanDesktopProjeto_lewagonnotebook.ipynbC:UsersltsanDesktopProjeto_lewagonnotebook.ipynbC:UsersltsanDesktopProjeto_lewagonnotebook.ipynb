[1mdiff --git a/notebooks/notebook-leo.ipynb b/notebooks/notebook-leo.ipynb[m
[1mindex 0422abf..9c8944d 100644[m
[1m--- a/notebooks/notebook-leo.ipynb[m
[1m+++ b/notebooks/notebook-leo.ipynb[m
[36m@@ -17,7 +17,7 @@[m
     "from selenium.webdriver.support import expected_conditions as EC\n",[m
     "from selenium.webdriver.common.keys import Keys\n",[m
     "from selenium.webdriver.chrome.options import Options\n",[m
[31m-    "\n",[m
[32m+[m[32m    "import json\n",[m
     "import pandas as pd\n",[m
     "import requests\n",[m
     "from bs4 import BeautifulSoup\n"[m
[36m@@ -45,9 +45,9 @@[m
     "\n",[m
     "        info = name.find_elements_by_xpath(\".//td\")\n",[m
     "        temp_list = [i.text for i in info]\n",[m
[31m-    "        print(temp_list)\n",[m
     "        infos_main_screen.append(temp_list)\n",[m
[31m-    "        # breakpoint()\n"[m
[32m+[m[32m    "        # breakpoint()\n",[m
[32m+[m[32m    "    driver.quit()\n"[m
    ][m
   },[m
   {[m
[36m@@ -61,7 +61,7 @@[m
     "    \"ATH Since IDO\", \"Ended in (UTC)\", \"Networks\"\n",[m
     "]\n",[m
     "\n",[m
[31m-    "df = pd.DataFrame(infos_main_screen, columns=[cols]).drop_duplicates()"[m
[32m+[m[32m    "df = pd.DataFrame(infos_main_screen, columns=cols).drop_duplicates()"[m
    ][m
   },[m
   {[m
[36m@@ -70,7 +70,7 @@[m
    "metadata": {},[m
    "outputs": [],[m
    "source": [[m
[31m-    "df[['Project Name', 'Ticker']] = df['Project Name'].str.split(\"\\n\",\n",[m
[32m+[m[32m    "df[['Project Name', 'Ticker']] = pd.Series(df['Project Name']).str.split(\"\\n\",\n",[m
     "                                                              expand=True)"[m
    ][m
   },[m
[36m@@ -85,6 +85,15 @@[m
     "        \".\", \"-\")\n"[m
    ][m
   },[m
[32m+[m[32m  {[m
[32m+[m[32m   "cell_type": "code",[m
[32m+[m[32m   "execution_count": null,[m
[32m+[m[32m   "metadata": {},[m
[32m+[m[32m   "outputs": [],[m
[32m+[m[32m   "source": [[m
[32m+[m[32m    "df"[m
[32m+[m[32m   ][m
[32m+[m[32m  },[m
   {[m
    "cell_type": "code",[m
    "execution_count": null,[m
[36m@@ -105,11 +114,11 @@[m
     "for url in df['Link']:\n",[m
     "    print(url)\n",[m
     "    content = requests.get(url)\n",[m
[32m+[m[32m    "    breakpoint()\n",[m
     "    soup = BeautifulSoup(content.content, 'html.parser')\n",[m
     "    data = soup.find(\"div\", {\"id\": \"app-content\"}).find_next()\n",[m
[31m-    "    start = str(data).find(\"{\")\n",[m
[31m-    "    end = str(data).find(\"}\")\n",[m
[31m-    "    cont_final.append(str(data)[start:end])\n"[m
[32m+[m[32m    "    dc = json.loads(data.attrs['data-project-json'])\n",[m
[32m+[m[32m    "    cont_final.append(dc)\n"[m
    ][m
   },[m
   {[m
[36m@@ -144,7 +153,7 @@[m
    "name": "python",[m
    "nbconvert_exporter": "python",[m
    "pygments_lexer": "ipython3",[m
[31m-   "version": "3.7.8"[m
[32m+[m[32m   "version": "3.7.8rc1"[m
   },[m
   "orig_nbformat": 4[m
  },[m
