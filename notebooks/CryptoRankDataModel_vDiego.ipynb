{
 "cells": [
  {
   "cell_type": "markdown",
   "id": "09f27ce7-96a1-418d-9318-cf82579a63eb",
   "metadata": {},
   "source": [
    "# ML Workflow"
   ]
  },
  {
   "cell_type": "code",
   "execution_count": 1,
   "id": "32d1f7b3-15ea-492d-9cd6-703199349c57",
   "metadata": {},
   "outputs": [],
   "source": [
    "import pandas as pd\n",
    "import numpy as np\n",
    "import seaborn as sns\n",
    "import matplotlib.pyplot as plt\n",
    "import regex as re\n",
    "import requests\n",
    "import xmltodict"
   ]
  },
  {
   "cell_type": "markdown",
   "id": "e7f81635-d2fd-4d36-893c-32ab6e1b4b56",
   "metadata": {},
   "source": [
    "### 1. GET THE DATA"
   ]
  },
  {
   "cell_type": "code",
   "execution_count": 4,
   "id": "cb20de1f-7ffe-450e-93d7-a364aff130b7",
   "metadata": {},
   "outputs": [],
   "source": [
    "df = pd.read_csv(\"../raw_data/cryptoranktable_220410.csv\", sep = \";\", decimal = \",\")"
   ]
  },
  {
   "cell_type": "code",
   "execution_count": 11,
   "id": "cd238e1c-b2a6-4224-9801-5f8328aa3a51",
   "metadata": {},
   "outputs": [
    {
     "data": {
      "text/plain": [
       "2880             0chainZCN\n",
       "3121        0x ProtocolZRX\n",
       "1893          0x_NODESBIOS\n",
       "2643    0xcert ProtocolZXC\n",
       "468          11MinutesELVN\n",
       "               ...        \n",
       "66          ritestreamRITE\n",
       "879           xHashtagXTAG\n",
       "928           xHashtagXTAG\n",
       "1652     xNFT ProtocolXNFT\n",
       "118            ​​AxelarAXL\n",
       "Name: Name, Length: 3254, dtype: object"
      ]
     },
     "execution_count": 11,
     "metadata": {},
     "output_type": "execute_result"
    }
   ],
   "source": [
    "df['Name'].sort_values()"
   ]
  },
  {
   "cell_type": "code",
   "execution_count": 20,
   "id": "c2ea4330-25fa-4aaf-940b-544eccf76f19",
   "metadata": {},
   "outputs": [
    {
     "name": "stdout",
     "output_type": "stream",
     "text": [
      "<class 'pandas.core.frame.DataFrame'>\n",
      "RangeIndex: 3254 entries, 0 to 3253\n",
      "Data columns (total 11 columns):\n",
      " #   Column        Non-Null Count  Dtype  \n",
      "---  ------        --------------  -----  \n",
      " 0   Name          3254 non-null   object \n",
      " 1   Price         3118 non-null   float64\n",
      " 2   Sale Price    3223 non-null   float64\n",
      " 3   Market Cap    2835 non-null   float64\n",
      " 4   Raise         2941 non-null   object \n",
      " 5   ROI USD       3092 non-null   float64\n",
      " 6   ATH ROI USD   3092 non-null   float64\n",
      " 7   Type          3254 non-null   object \n",
      " 8   TGE Platform  2203 non-null   object \n",
      " 9   Ended         3163 non-null   object \n",
      " 10  Category      3171 non-null   object \n",
      "dtypes: float64(5), object(6)\n",
      "memory usage: 279.8+ KB\n"
     ]
    }
   ],
   "source": [
    "df.info()"
   ]
  },
  {
   "cell_type": "code",
   "execution_count": 22,
   "id": "59f83ef2-62dc-4595-9889-978e5094200e",
   "metadata": {},
   "outputs": [],
   "source": [
    "df['ticker'] = df['Name'].apply(getTicker)"
   ]
  },
  {
   "cell_type": "markdown",
   "id": "e3409116-b167-4691-ab2d-27c2bdf16948",
   "metadata": {},
   "source": [
    "Get the URLs of the coins, names and slugs"
   ]
  },
  {
   "cell_type": "code",
   "execution_count": 90,
   "id": "c12f3205-2b55-4d30-9ee3-4aa738cb2d63",
   "metadata": {},
   "outputs": [],
   "source": [
    "# some urls of coinrank\n",
    "url_coins = 'https://cryptorank.io/sitemap-coins.xml'\n",
    "\n",
    "response = requests.get(url_coins)\n",
    "urlcoins_data = xmltodict.parse(response.content)"
   ]
  },
  {
   "cell_type": "code",
   "execution_count": 94,
   "id": "546f43c6-3aa6-4ae6-a977-6de4671fff62",
   "metadata": {},
   "outputs": [],
   "source": [
    "url_list = []\n",
    "for url in urlcoins_data['urlset']['url']:\n",
    "    url_list.append(url['loc'])"
   ]
  },
  {
   "cell_type": "code",
   "execution_count": 177,
   "id": "50df1617-2fd4-4c8e-83ad-0f9c1a0e01e9",
   "metadata": {},
   "outputs": [
    {
     "data": {
      "text/plain": [
       "['https:', '', 'cryptorank.io', 'price', 'w3coin', 'arbitrage']"
      ]
     },
     "execution_count": 177,
     "metadata": {},
     "output_type": "execute_result"
    }
   ],
   "source": [
    "url_list[38].rsplit('/')"
   ]
  },
  {
   "cell_type": "code",
   "execution_count": 224,
   "id": "fee51b17-b2e7-498f-88f1-d0ac41c827ec",
   "metadata": {},
   "outputs": [],
   "source": [
    "coin_names = []\n",
    "for row in url_list:\n",
    "    if row.rsplit('/')[3] == 'ico':\n",
    "        coin_names.append(row.rsplit('/')[4])"
   ]
  },
  {
   "cell_type": "markdown",
   "id": "d157c4b4-3d7e-4b71-837b-275e4b7cf7ad",
   "metadata": {},
   "source": [
    "Get the data from request /coins/{id}"
   ]
  },
  {
   "cell_type": "code",
   "execution_count": 226,
   "id": "8e77afc8-fb4a-47cc-9321-2ec6d6ecfb8a",
   "metadata": {},
   "outputs": [],
   "source": [
    "request_coins = 'https://api.coingecko.com/api/v3/coins/gamium'\n",
    "\n",
    "response = requests.get(request_coins).json()"
   ]
  },
  {
   "cell_type": "code",
   "execution_count": 236,
   "id": "c7319b03-3a4d-408a-997c-3afab975b782",
   "metadata": {},
   "outputs": [
    {
     "ename": "KeyError",
     "evalue": "'total_value_locked'",
     "output_type": "error",
     "traceback": [
      "\u001b[0;31m---------------------------------------------------------------------------\u001b[0m",
      "\u001b[0;31mKeyError\u001b[0m                                  Traceback (most recent call last)",
      "\u001b[0;32m/var/folders/ct/hz49ts_123q0xjdwrm22m8400000gn/T/ipykernel_13953/50551702.py\u001b[0m in \u001b[0;36m<module>\u001b[0;34m\u001b[0m\n\u001b[1;32m     25\u001b[0m \u001b[0mcoin_data\u001b[0m\u001b[0;34m[\u001b[0m\u001b[0;34m'public_interest_score'\u001b[0m\u001b[0;34m]\u001b[0m \u001b[0;34m=\u001b[0m \u001b[0mresponse\u001b[0m\u001b[0;34m[\u001b[0m\u001b[0;34m'public_interest_score'\u001b[0m\u001b[0;34m]\u001b[0m\u001b[0;34m\u001b[0m\u001b[0;34m\u001b[0m\u001b[0m\n\u001b[1;32m     26\u001b[0m \u001b[0;31m#market data\u001b[0m\u001b[0;34m\u001b[0m\u001b[0;34m\u001b[0m\u001b[0;34m\u001b[0m\u001b[0m\n\u001b[0;32m---> 27\u001b[0;31m \u001b[0mcoin_data\u001b[0m\u001b[0;34m[\u001b[0m\u001b[0;34m'total_value_locked'\u001b[0m\u001b[0;34m]\u001b[0m \u001b[0;34m=\u001b[0m \u001b[0mresponse\u001b[0m\u001b[0;34m[\u001b[0m\u001b[0;34m'total_value_locked'\u001b[0m\u001b[0;34m]\u001b[0m\u001b[0;34m\u001b[0m\u001b[0;34m\u001b[0m\u001b[0m\n\u001b[0m\u001b[1;32m     28\u001b[0m \u001b[0mcoin_data\u001b[0m\u001b[0;34m[\u001b[0m\u001b[0;34m'mcap_to_tvl_ratio'\u001b[0m\u001b[0;34m]\u001b[0m \u001b[0;34m=\u001b[0m \u001b[0mresponse\u001b[0m\u001b[0;34m[\u001b[0m\u001b[0;34m'mcap_to_tvl_ratio'\u001b[0m\u001b[0;34m]\u001b[0m\u001b[0;34m\u001b[0m\u001b[0;34m\u001b[0m\u001b[0m\n\u001b[1;32m     29\u001b[0m \u001b[0mcoin_data\u001b[0m\u001b[0;34m[\u001b[0m\u001b[0;34m'fdv_to_tvl_ratio'\u001b[0m\u001b[0;34m]\u001b[0m \u001b[0;34m=\u001b[0m \u001b[0mresponse\u001b[0m\u001b[0;34m[\u001b[0m\u001b[0;34m'fdv_to_tvl_ratio'\u001b[0m\u001b[0;34m]\u001b[0m\u001b[0;34m\u001b[0m\u001b[0;34m\u001b[0m\u001b[0m\n",
      "\u001b[0;31mKeyError\u001b[0m: 'total_value_locked'"
     ]
    }
   ],
   "source": [
    "coin_data = {}\n",
    "# symbols and names\n",
    "coin_data['id'] = response['id']\n",
    "coin_data['symbol'] = response['symbol']\n",
    "coin_data['name'] = response['name']\n",
    "# platform, categories and coin info\n",
    "coin_data['asset_platform_id'] = response['asset_platform_id']\n",
    "coin_data['block_time_in_minutes'] = response['block_time_in_minutes']\n",
    "coin_data['hashing_algorithm'] = response['hashing_algorithm']\n",
    "coin_data['categories'] = response['categories']\n",
    "coin_data['public_notice'] = response['public_notice']\n",
    "coin_data['additional_notices'] = response['additional_notices']\n",
    "coin_data['description'] = response['description']['en']\n",
    "coin_data['country_origin'] = response['country_origin']\n",
    "coin_data['genesis_date'] = response['genesis_date']\n",
    "#sentiment and scores\n",
    "coin_data['sentiment_votes_up_percentage'] = response['sentiment_votes_up_percentage']\n",
    "coin_data['sentiment_votes_down_percentage'] = response['sentiment_votes_down_percentage']\n",
    "coin_data['market_cap_rank'] = response['market_cap_rank']\n",
    "coin_data['coingecko_rank'] = response['coingecko_rank']\n",
    "coin_data['coingecko_score'] = response['coingecko_score']\n",
    "coin_data['developer_score'] = response['developer_score']\n",
    "coin_data['community_score'] = response['community_score']\n",
    "coin_data['liquidity_score'] = response['liquidity_score']\n",
    "coin_data['public_interest_score'] = response['public_interest_score']\n",
    "#market data\n",
    "coin_data['total_value_locked'] = response['total_value_locked']\n",
    "coin_data['mcap_to_tvl_ratio'] = response['mcap_to_tvl_ratio']\n",
    "coin_data['fdv_to_tvl_ratio'] = response['fdv_to_tvl_ratio']\n",
    "coin_data['roi'] = response['roi']\n",
    "#market data - all time high data\n",
    "coin_data['ath_usd'] = response['ath']['usd']\n",
    "coin_data['ath_btc'] = response['ath']['btc']\n",
    "coin_data['ath_eth'] = response['ath']['eth']\n",
    "coin_data['ath_change_percentage_usd'] = response['ath_change_percentage']['usd']\n",
    "coin_data['ath_change_percentage_btc'] = response['ath_change_percentage']['btc']\n",
    "coin_data['ath_change_percentage_eth'] = response['ath_change_percentage']['eth']\n",
    "coin_data['ath_date_usd'] = response['ath_date']['usd']\n",
    "coin_data['ath_date_btc'] = response['ath_date']['btc']\n",
    "coin_data['ath_date_eth'] = response['ath_date']['eth']\n",
    "#market data - all time low data\n",
    "coin_data['atl_usd'] = response['market_data']['atl']['usd']\n",
    "coin_data['atl_btc'] = response['market_data']['atl']['btc']\n",
    "coin_data['atl_eth'] = response['market_data']['atl']['eth']\n",
    "coin_data['atl_change_percentage_usd'] = response['market_data']['atl_change_percentage']['usd']\n",
    "coin_data['atl_change_percentage_btc'] = response['market_data']['atl_change_percentage']['btc']\n",
    "coin_data['atl_change_percentage_eth'] = response['market_data']['atl_change_percentage']['eth']\n",
    "coin_data['atl_date_usd'] = response['market_data']['atl_date']['usd']\n",
    "coin_data['atl_date_btc'] = response['market_data']['atl_date']['btc']\n",
    "coin_data['atl_date_eth'] = response['market_data']['atl_date']['eth']\n",
    "#market data - market cap data\n",
    "coin_data['market_cap_usd'] = response['market_data']['market_cap']['usd']\n",
    "coin_data['market_cap_btc'] = response['market_data']['market_cap']['btc']\n",
    "coin_data['market_cap_eth'] = response['market_data']['market_cap']['eth']\n",
    "coin_data['market_cap_rank'] = response['market_data']['market_cap_rank']\n",
    "#community data\n",
    "coin_data['facebook_likes'] = response['community_data']['facebook_likes']\n",
    "coin_data['twitter_followers'] = response['community_data']['twitter_followers']\n",
    "coin_data['reddit_average_posts_48h'] = response['community_data']['reddit_average_posts_48h']\n",
    "coin_data['reddit_average_comments_48h'] = response['community_data']['reddit_average_comments_48h']\n",
    "coin_data['reddit_subscribers'] = response['community_data']['reddit_subscribers']\n",
    "coin_data['reddit_accounts_active_48h'] = response['community_data']['reddit_accounts_active_48h']\n",
    "coin_data['telegram_channel_user_count'] = response['community_data']['telegram_channel_user_count']\n",
    "#developers data\n",
    "coin_data['developer_data'] = response['developer_data']\n",
    "coin_data['public_interest_stats'] = response['public_interest_stats']\n"
   ]
  },
  {
   "cell_type": "code",
   "execution_count": 232,
   "id": "89205f27-6879-41fa-84f7-eddcf702468e",
   "metadata": {},
   "outputs": [
    {
     "data": {
      "text/plain": [
       "{}"
      ]
     },
     "execution_count": 232,
     "metadata": {},
     "output_type": "execute_result"
    }
   ],
   "source": [
    "coin_data = {}\n",
    "coin_data"
   ]
  },
  {
   "cell_type": "code",
   "execution_count": 220,
   "id": "8f07cce0-0232-47c8-980d-d54f5ad8a70a",
   "metadata": {},
   "outputs": [
    {
     "data": {
      "text/plain": [
       "'Gamium is building the first decentralized social metaverse and the digital identity of humans.\\r\\nCreate your avatar, exchange NFTs, get a job, socialize and earn in the Gamium world'"
      ]
     },
     "execution_count": 220,
     "metadata": {},
     "output_type": "execute_result"
    }
   ],
   "source": [
    "for coin in coin_names:\n",
    "    request_coin = f'https://api.coingecko.com/api/v3/coins/{coin}'\n",
    "    response.json()['description']['en']"
   ]
  },
  {
   "cell_type": "code",
   "execution_count": 225,
   "id": "43627cd0-9ae0-4959-b86a-953914cb697e",
   "metadata": {},
   "outputs": [
    {
     "data": {
      "text/html": [
       "<div>\n",
       "<style scoped>\n",
       "    .dataframe tbody tr th:only-of-type {\n",
       "        vertical-align: middle;\n",
       "    }\n",
       "\n",
       "    .dataframe tbody tr th {\n",
       "        vertical-align: top;\n",
       "    }\n",
       "\n",
       "    .dataframe thead th {\n",
       "        text-align: right;\n",
       "    }\n",
       "</style>\n",
       "<table border=\"1\" class=\"dataframe\">\n",
       "  <thead>\n",
       "    <tr style=\"text-align: right;\">\n",
       "      <th></th>\n",
       "      <th>id</th>\n",
       "      <th>symbol</th>\n",
       "      <th>name</th>\n",
       "      <th>asset_platform_id</th>\n",
       "      <th>block_time_in_minutes</th>\n",
       "      <th>hashing_algorithm</th>\n",
       "      <th>categories</th>\n",
       "      <th>public_notice</th>\n",
       "      <th>additional_notices</th>\n",
       "      <th>country_origin</th>\n",
       "      <th>...</th>\n",
       "      <th>developer_data.total_issues</th>\n",
       "      <th>developer_data.closed_issues</th>\n",
       "      <th>developer_data.pull_requests_merged</th>\n",
       "      <th>developer_data.pull_request_contributors</th>\n",
       "      <th>developer_data.code_additions_deletions_4_weeks.additions</th>\n",
       "      <th>developer_data.code_additions_deletions_4_weeks.deletions</th>\n",
       "      <th>developer_data.commit_count_4_weeks</th>\n",
       "      <th>developer_data.last_4_weeks_commit_activity_series</th>\n",
       "      <th>public_interest_stats.alexa_rank</th>\n",
       "      <th>public_interest_stats.bing_matches</th>\n",
       "    </tr>\n",
       "  </thead>\n",
       "  <tbody>\n",
       "    <tr>\n",
       "      <th>0</th>\n",
       "      <td>gamium</td>\n",
       "      <td>gmm</td>\n",
       "      <td>Gamium</td>\n",
       "      <td>binance-smart-chain</td>\n",
       "      <td>0</td>\n",
       "      <td>None</td>\n",
       "      <td>[DaoMaker Ecosystem, Binance Smart Chain Ecosy...</td>\n",
       "      <td>None</td>\n",
       "      <td>[]</td>\n",
       "      <td></td>\n",
       "      <td>...</td>\n",
       "      <td>0</td>\n",
       "      <td>0</td>\n",
       "      <td>0</td>\n",
       "      <td>0</td>\n",
       "      <td>138</td>\n",
       "      <td>0</td>\n",
       "      <td>2</td>\n",
       "      <td>[0, 0, 0, 0, 0, 0, 0, 0, 0, 0, 0, 0, 1, 0, 0, ...</td>\n",
       "      <td>None</td>\n",
       "      <td>None</td>\n",
       "    </tr>\n",
       "  </tbody>\n",
       "</table>\n",
       "<p>1 rows × 1245 columns</p>\n",
       "</div>"
      ],
      "text/plain": [
       "       id symbol    name    asset_platform_id  block_time_in_minutes  \\\n",
       "0  gamium    gmm  Gamium  binance-smart-chain                      0   \n",
       "\n",
       "  hashing_algorithm                                         categories  \\\n",
       "0              None  [DaoMaker Ecosystem, Binance Smart Chain Ecosy...   \n",
       "\n",
       "  public_notice additional_notices country_origin  ...  \\\n",
       "0          None                 []                 ...   \n",
       "\n",
       "  developer_data.total_issues developer_data.closed_issues  \\\n",
       "0                           0                            0   \n",
       "\n",
       "   developer_data.pull_requests_merged  \\\n",
       "0                                    0   \n",
       "\n",
       "   developer_data.pull_request_contributors  \\\n",
       "0                                         0   \n",
       "\n",
       "   developer_data.code_additions_deletions_4_weeks.additions  \\\n",
       "0                                                138           \n",
       "\n",
       "   developer_data.code_additions_deletions_4_weeks.deletions  \\\n",
       "0                                                  0           \n",
       "\n",
       "   developer_data.commit_count_4_weeks  \\\n",
       "0                                    2   \n",
       "\n",
       "   developer_data.last_4_weeks_commit_activity_series  \\\n",
       "0  [0, 0, 0, 0, 0, 0, 0, 0, 0, 0, 0, 0, 1, 0, 0, ...    \n",
       "\n",
       "   public_interest_stats.alexa_rank  public_interest_stats.bing_matches  \n",
       "0                              None                                None  \n",
       "\n",
       "[1 rows x 1245 columns]"
      ]
     },
     "execution_count": 225,
     "metadata": {},
     "output_type": "execute_result"
    }
   ],
   "source": [
    "coins_dict = {}\n",
    "cd = pd.json_normalize(response.json())\n",
    "cd"
   ]
  },
  {
   "cell_type": "code",
   "execution_count": 197,
   "id": "eaaf52d2-8b9b-4c07-9ca8-351b59c8d7b7",
   "metadata": {},
   "outputs": [
    {
     "data": {
      "text/plain": [
       "{'id': 0    gamium\n",
       " Name: id, dtype: object,\n",
       " 'symbol': 0    gmm\n",
       " Name: symbol, dtype: object,\n",
       " 'name': 0    Gamium\n",
       " Name: name, dtype: object,\n",
       " 'asset_platform_id': 0    binance-smart-chain\n",
       " Name: asset_platform_id, dtype: object,\n",
       " 'block_time_in_minutes': 0    0\n",
       " Name: block_time_in_minutes, dtype: int64,\n",
       " 'hashing_algorithm': 0    None\n",
       " Name: hashing_algorithm, dtype: object}"
      ]
     },
     "execution_count": 197,
     "metadata": {},
     "output_type": "execute_result"
    }
   ],
   "source": [
    "coins_dict"
   ]
  },
  {
   "cell_type": "markdown",
   "id": "711000b0-9ad6-46a3-b1e7-f9bdafb7c6c9",
   "metadata": {},
   "source": [
    "### 2. Clean the Data"
   ]
  },
  {
   "cell_type": "code",
   "execution_count": 38,
   "id": "6ca04ae4-9f51-4ad6-a56a-1d3103b0dfb7",
   "metadata": {},
   "outputs": [],
   "source": [
    "# Duplicate -> Sabemos que tem muitos projetos duplicados com os mesmos numeros em todos! Sendo a unica diferenca a plataforma lancada\n",
    "# Existem 2210 projetos diferentes na base de dados com 3254 IDOs/ICOs/IEOs\n",
    "# 1593 projetos fizeram somente um IDO, ou um ICO, ou um IEO - ou tambem pode ser que fizeram um IDO, e apos um tempo um IEO para arrecadar mais capital e entrar num exchange grande\n",
    "# 617 projetos fizeram o IDO em diferentes plataformas, no geral finalizando sempre no mesmo dia. o maximo foi o projeto Solschick com o IDO em 15 plataformas diferentes, mas a media tende a ser muito menor (1,4), sendo a mediana igual a 1 "
   ]
  },
  {
   "cell_type": "code",
   "execution_count": 40,
   "id": "ac2234de-1441-4803-a1fd-96f4fc8af095",
   "metadata": {},
   "outputs": [
    {
     "data": {
      "text/plain": [
       "TGE Platform    0.322987\n",
       "Market Cap      0.128765\n",
       "Raise           0.096189\n",
       "ROI USD         0.049785\n",
       "ATH ROI USD     0.049785\n",
       "Price           0.041795\n",
       "Ended           0.027966\n",
       "Category        0.025507\n",
       "Sale Price      0.009527\n",
       "Name            0.000000\n",
       "Type            0.000000\n",
       "ticker          0.000000\n",
       "dtype: float64"
      ]
     },
     "execution_count": 40,
     "metadata": {},
     "output_type": "execute_result"
    }
   ],
   "source": [
    "df.isnull().sum().sort_values(ascending=False)/len(df) #NaN percentage for each column"
   ]
  },
  {
   "cell_type": "code",
   "execution_count": 12,
   "id": "f8c67c16-1ede-4d04-87f3-1534abe503fc",
   "metadata": {},
   "outputs": [],
   "source": [
    "string_c = 'Raiders NFTR4ID'"
   ]
  },
  {
   "cell_type": "code",
   "execution_count": 36,
   "id": "a7262826-9b41-4afa-8d0c-e1e10cde29a2",
   "metadata": {},
   "outputs": [
    {
     "data": {
      "text/plain": [
       "0                 EdgeSwapEGS\n",
       "1                 EdgeSwapEGS\n",
       "2           Drunk RobotsMETAL\n",
       "3                   WinerzWNZ\n",
       "4                   WinerzWNZ\n",
       "                ...          \n",
       "3249            TealTokenTEAT\n",
       "3250            InfomatixINFO\n",
       "3251               WadzPayWTK\n",
       "3252               iBetYouIBY\n",
       "3253    Escrow ProtocolESCROW\n",
       "Name: Name, Length: 3254, dtype: object"
      ]
     },
     "execution_count": 36,
     "metadata": {},
     "output_type": "execute_result"
    }
   ],
   "source": [
    "df['Name']"
   ]
  },
  {
   "cell_type": "code",
   "execution_count": 80,
   "id": "8989e2eb-442c-47c7-97f5-d5550da05201",
   "metadata": {},
   "outputs": [
    {
     "ename": "error",
     "evalue": "nothing to repeat at position 11",
     "output_type": "error",
     "traceback": [
      "\u001b[0;31m---------------------------------------------------------------------------\u001b[0m",
      "\u001b[0;31merror\u001b[0m                                     Traceback (most recent call last)",
      "\u001b[0;32m/var/folders/ct/hz49ts_123q0xjdwrm22m8400000gn/T/ipykernel_2297/4165891550.py\u001b[0m in \u001b[0;36m<module>\u001b[0;34m\u001b[0m\n\u001b[0;32m----> 1\u001b[0;31m \u001b[0mdf\u001b[0m\u001b[0;34m[\u001b[0m\u001b[0;34m'Name'\u001b[0m\u001b[0;34m]\u001b[0m\u001b[0;34m.\u001b[0m\u001b[0mstr\u001b[0m\u001b[0;34m.\u001b[0m\u001b[0mextract\u001b[0m\u001b[0;34m(\u001b[0m\u001b[0;34mr'([A-Z]|\\d)${3,}'\u001b[0m\u001b[0;34m)\u001b[0m\u001b[0;34m\u001b[0m\u001b[0;34m\u001b[0m\u001b[0m\n\u001b[0m",
      "\u001b[0;32m~/.pyenv/versions/3.8.12/envs/lewagon/lib/python3.8/site-packages/pandas/core/strings/accessor.py\u001b[0m in \u001b[0;36mwrapper\u001b[0;34m(self, *args, **kwargs)\u001b[0m\n\u001b[1;32m    114\u001b[0m                 )\n\u001b[1;32m    115\u001b[0m                 \u001b[0;32mraise\u001b[0m \u001b[0mTypeError\u001b[0m\u001b[0;34m(\u001b[0m\u001b[0mmsg\u001b[0m\u001b[0;34m)\u001b[0m\u001b[0;34m\u001b[0m\u001b[0;34m\u001b[0m\u001b[0m\n\u001b[0;32m--> 116\u001b[0;31m             \u001b[0;32mreturn\u001b[0m \u001b[0mfunc\u001b[0m\u001b[0;34m(\u001b[0m\u001b[0mself\u001b[0m\u001b[0;34m,\u001b[0m \u001b[0;34m*\u001b[0m\u001b[0margs\u001b[0m\u001b[0;34m,\u001b[0m \u001b[0;34m**\u001b[0m\u001b[0mkwargs\u001b[0m\u001b[0;34m)\u001b[0m\u001b[0;34m\u001b[0m\u001b[0;34m\u001b[0m\u001b[0m\n\u001b[0m\u001b[1;32m    117\u001b[0m \u001b[0;34m\u001b[0m\u001b[0m\n\u001b[1;32m    118\u001b[0m         \u001b[0mwrapper\u001b[0m\u001b[0;34m.\u001b[0m\u001b[0m__name__\u001b[0m \u001b[0;34m=\u001b[0m \u001b[0mfunc_name\u001b[0m\u001b[0;34m\u001b[0m\u001b[0;34m\u001b[0m\u001b[0m\n",
      "\u001b[0;32m~/.pyenv/versions/3.8.12/envs/lewagon/lib/python3.8/site-packages/pandas/core/strings/accessor.py\u001b[0m in \u001b[0;36mextract\u001b[0;34m(self, pat, flags, expand)\u001b[0m\n\u001b[1;32m   2401\u001b[0m             \u001b[0;32mraise\u001b[0m \u001b[0mValueError\u001b[0m\u001b[0;34m(\u001b[0m\u001b[0;34m\"expand must be True or False\"\u001b[0m\u001b[0;34m)\u001b[0m\u001b[0;34m\u001b[0m\u001b[0;34m\u001b[0m\u001b[0m\n\u001b[1;32m   2402\u001b[0m \u001b[0;34m\u001b[0m\u001b[0m\n\u001b[0;32m-> 2403\u001b[0;31m         \u001b[0mregex\u001b[0m \u001b[0;34m=\u001b[0m \u001b[0mre\u001b[0m\u001b[0;34m.\u001b[0m\u001b[0mcompile\u001b[0m\u001b[0;34m(\u001b[0m\u001b[0mpat\u001b[0m\u001b[0;34m,\u001b[0m \u001b[0mflags\u001b[0m\u001b[0;34m=\u001b[0m\u001b[0mflags\u001b[0m\u001b[0;34m)\u001b[0m\u001b[0;34m\u001b[0m\u001b[0;34m\u001b[0m\u001b[0m\n\u001b[0m\u001b[1;32m   2404\u001b[0m         \u001b[0;32mif\u001b[0m \u001b[0mregex\u001b[0m\u001b[0;34m.\u001b[0m\u001b[0mgroups\u001b[0m \u001b[0;34m==\u001b[0m \u001b[0;36m0\u001b[0m\u001b[0;34m:\u001b[0m\u001b[0;34m\u001b[0m\u001b[0;34m\u001b[0m\u001b[0m\n\u001b[1;32m   2405\u001b[0m             \u001b[0;32mraise\u001b[0m \u001b[0mValueError\u001b[0m\u001b[0;34m(\u001b[0m\u001b[0;34m\"pattern contains no capture groups\"\u001b[0m\u001b[0;34m)\u001b[0m\u001b[0;34m\u001b[0m\u001b[0;34m\u001b[0m\u001b[0m\n",
      "\u001b[0;32m~/.pyenv/versions/3.8.12/lib/python3.8/re.py\u001b[0m in \u001b[0;36mcompile\u001b[0;34m(pattern, flags)\u001b[0m\n\u001b[1;32m    250\u001b[0m \u001b[0;32mdef\u001b[0m \u001b[0mcompile\u001b[0m\u001b[0;34m(\u001b[0m\u001b[0mpattern\u001b[0m\u001b[0;34m,\u001b[0m \u001b[0mflags\u001b[0m\u001b[0;34m=\u001b[0m\u001b[0;36m0\u001b[0m\u001b[0;34m)\u001b[0m\u001b[0;34m:\u001b[0m\u001b[0;34m\u001b[0m\u001b[0;34m\u001b[0m\u001b[0m\n\u001b[1;32m    251\u001b[0m     \u001b[0;34m\"Compile a regular expression pattern, returning a Pattern object.\"\u001b[0m\u001b[0;34m\u001b[0m\u001b[0;34m\u001b[0m\u001b[0m\n\u001b[0;32m--> 252\u001b[0;31m     \u001b[0;32mreturn\u001b[0m \u001b[0m_compile\u001b[0m\u001b[0;34m(\u001b[0m\u001b[0mpattern\u001b[0m\u001b[0;34m,\u001b[0m \u001b[0mflags\u001b[0m\u001b[0;34m)\u001b[0m\u001b[0;34m\u001b[0m\u001b[0;34m\u001b[0m\u001b[0m\n\u001b[0m\u001b[1;32m    253\u001b[0m \u001b[0;34m\u001b[0m\u001b[0m\n\u001b[1;32m    254\u001b[0m \u001b[0;32mdef\u001b[0m \u001b[0mpurge\u001b[0m\u001b[0;34m(\u001b[0m\u001b[0;34m)\u001b[0m\u001b[0;34m:\u001b[0m\u001b[0;34m\u001b[0m\u001b[0;34m\u001b[0m\u001b[0m\n",
      "\u001b[0;32m~/.pyenv/versions/3.8.12/lib/python3.8/re.py\u001b[0m in \u001b[0;36m_compile\u001b[0;34m(pattern, flags)\u001b[0m\n\u001b[1;32m    302\u001b[0m     \u001b[0;32mif\u001b[0m \u001b[0;32mnot\u001b[0m \u001b[0msre_compile\u001b[0m\u001b[0;34m.\u001b[0m\u001b[0misstring\u001b[0m\u001b[0;34m(\u001b[0m\u001b[0mpattern\u001b[0m\u001b[0;34m)\u001b[0m\u001b[0;34m:\u001b[0m\u001b[0;34m\u001b[0m\u001b[0;34m\u001b[0m\u001b[0m\n\u001b[1;32m    303\u001b[0m         \u001b[0;32mraise\u001b[0m \u001b[0mTypeError\u001b[0m\u001b[0;34m(\u001b[0m\u001b[0;34m\"first argument must be string or compiled pattern\"\u001b[0m\u001b[0;34m)\u001b[0m\u001b[0;34m\u001b[0m\u001b[0;34m\u001b[0m\u001b[0m\n\u001b[0;32m--> 304\u001b[0;31m     \u001b[0mp\u001b[0m \u001b[0;34m=\u001b[0m \u001b[0msre_compile\u001b[0m\u001b[0;34m.\u001b[0m\u001b[0mcompile\u001b[0m\u001b[0;34m(\u001b[0m\u001b[0mpattern\u001b[0m\u001b[0;34m,\u001b[0m \u001b[0mflags\u001b[0m\u001b[0;34m)\u001b[0m\u001b[0;34m\u001b[0m\u001b[0;34m\u001b[0m\u001b[0m\n\u001b[0m\u001b[1;32m    305\u001b[0m     \u001b[0;32mif\u001b[0m \u001b[0;32mnot\u001b[0m \u001b[0;34m(\u001b[0m\u001b[0mflags\u001b[0m \u001b[0;34m&\u001b[0m \u001b[0mDEBUG\u001b[0m\u001b[0;34m)\u001b[0m\u001b[0;34m:\u001b[0m\u001b[0;34m\u001b[0m\u001b[0;34m\u001b[0m\u001b[0m\n\u001b[1;32m    306\u001b[0m         \u001b[0;32mif\u001b[0m \u001b[0mlen\u001b[0m\u001b[0;34m(\u001b[0m\u001b[0m_cache\u001b[0m\u001b[0;34m)\u001b[0m \u001b[0;34m>=\u001b[0m \u001b[0m_MAXCACHE\u001b[0m\u001b[0;34m:\u001b[0m\u001b[0;34m\u001b[0m\u001b[0;34m\u001b[0m\u001b[0m\n",
      "\u001b[0;32m~/.pyenv/versions/3.8.12/lib/python3.8/sre_compile.py\u001b[0m in \u001b[0;36mcompile\u001b[0;34m(p, flags)\u001b[0m\n\u001b[1;32m    762\u001b[0m     \u001b[0;32mif\u001b[0m \u001b[0misstring\u001b[0m\u001b[0;34m(\u001b[0m\u001b[0mp\u001b[0m\u001b[0;34m)\u001b[0m\u001b[0;34m:\u001b[0m\u001b[0;34m\u001b[0m\u001b[0;34m\u001b[0m\u001b[0m\n\u001b[1;32m    763\u001b[0m         \u001b[0mpattern\u001b[0m \u001b[0;34m=\u001b[0m \u001b[0mp\u001b[0m\u001b[0;34m\u001b[0m\u001b[0;34m\u001b[0m\u001b[0m\n\u001b[0;32m--> 764\u001b[0;31m         \u001b[0mp\u001b[0m \u001b[0;34m=\u001b[0m \u001b[0msre_parse\u001b[0m\u001b[0;34m.\u001b[0m\u001b[0mparse\u001b[0m\u001b[0;34m(\u001b[0m\u001b[0mp\u001b[0m\u001b[0;34m,\u001b[0m \u001b[0mflags\u001b[0m\u001b[0;34m)\u001b[0m\u001b[0;34m\u001b[0m\u001b[0;34m\u001b[0m\u001b[0m\n\u001b[0m\u001b[1;32m    765\u001b[0m     \u001b[0;32melse\u001b[0m\u001b[0;34m:\u001b[0m\u001b[0;34m\u001b[0m\u001b[0;34m\u001b[0m\u001b[0m\n\u001b[1;32m    766\u001b[0m         \u001b[0mpattern\u001b[0m \u001b[0;34m=\u001b[0m \u001b[0;32mNone\u001b[0m\u001b[0;34m\u001b[0m\u001b[0;34m\u001b[0m\u001b[0m\n",
      "\u001b[0;32m~/.pyenv/versions/3.8.12/lib/python3.8/sre_parse.py\u001b[0m in \u001b[0;36mparse\u001b[0;34m(str, flags, state)\u001b[0m\n\u001b[1;32m    946\u001b[0m \u001b[0;34m\u001b[0m\u001b[0m\n\u001b[1;32m    947\u001b[0m     \u001b[0;32mtry\u001b[0m\u001b[0;34m:\u001b[0m\u001b[0;34m\u001b[0m\u001b[0;34m\u001b[0m\u001b[0m\n\u001b[0;32m--> 948\u001b[0;31m         \u001b[0mp\u001b[0m \u001b[0;34m=\u001b[0m \u001b[0m_parse_sub\u001b[0m\u001b[0;34m(\u001b[0m\u001b[0msource\u001b[0m\u001b[0;34m,\u001b[0m \u001b[0mstate\u001b[0m\u001b[0;34m,\u001b[0m \u001b[0mflags\u001b[0m \u001b[0;34m&\u001b[0m \u001b[0mSRE_FLAG_VERBOSE\u001b[0m\u001b[0;34m,\u001b[0m \u001b[0;36m0\u001b[0m\u001b[0;34m)\u001b[0m\u001b[0;34m\u001b[0m\u001b[0;34m\u001b[0m\u001b[0m\n\u001b[0m\u001b[1;32m    949\u001b[0m     \u001b[0;32mexcept\u001b[0m \u001b[0mVerbose\u001b[0m\u001b[0;34m:\u001b[0m\u001b[0;34m\u001b[0m\u001b[0;34m\u001b[0m\u001b[0m\n\u001b[1;32m    950\u001b[0m         \u001b[0;31m# the VERBOSE flag was switched on inside the pattern.  to be\u001b[0m\u001b[0;34m\u001b[0m\u001b[0;34m\u001b[0m\u001b[0;34m\u001b[0m\u001b[0m\n",
      "\u001b[0;32m~/.pyenv/versions/3.8.12/lib/python3.8/sre_parse.py\u001b[0m in \u001b[0;36m_parse_sub\u001b[0;34m(source, state, verbose, nested)\u001b[0m\n\u001b[1;32m    441\u001b[0m     \u001b[0mstart\u001b[0m \u001b[0;34m=\u001b[0m \u001b[0msource\u001b[0m\u001b[0;34m.\u001b[0m\u001b[0mtell\u001b[0m\u001b[0;34m(\u001b[0m\u001b[0;34m)\u001b[0m\u001b[0;34m\u001b[0m\u001b[0;34m\u001b[0m\u001b[0m\n\u001b[1;32m    442\u001b[0m     \u001b[0;32mwhile\u001b[0m \u001b[0;32mTrue\u001b[0m\u001b[0;34m:\u001b[0m\u001b[0;34m\u001b[0m\u001b[0;34m\u001b[0m\u001b[0m\n\u001b[0;32m--> 443\u001b[0;31m         itemsappend(_parse(source, state, verbose, nested + 1,\n\u001b[0m\u001b[1;32m    444\u001b[0m                            not nested and not items))\n\u001b[1;32m    445\u001b[0m         \u001b[0;32mif\u001b[0m \u001b[0;32mnot\u001b[0m \u001b[0msourcematch\u001b[0m\u001b[0;34m(\u001b[0m\u001b[0;34m\"|\"\u001b[0m\u001b[0;34m)\u001b[0m\u001b[0;34m:\u001b[0m\u001b[0;34m\u001b[0m\u001b[0;34m\u001b[0m\u001b[0m\n",
      "\u001b[0;32m~/.pyenv/versions/3.8.12/lib/python3.8/sre_parse.py\u001b[0m in \u001b[0;36m_parse\u001b[0;34m(source, state, verbose, nested, first)\u001b[0m\n\u001b[1;32m    666\u001b[0m                 \u001b[0mitem\u001b[0m \u001b[0;34m=\u001b[0m \u001b[0;32mNone\u001b[0m\u001b[0;34m\u001b[0m\u001b[0;34m\u001b[0m\u001b[0m\n\u001b[1;32m    667\u001b[0m             \u001b[0;32mif\u001b[0m \u001b[0;32mnot\u001b[0m \u001b[0mitem\u001b[0m \u001b[0;32mor\u001b[0m \u001b[0mitem\u001b[0m\u001b[0;34m[\u001b[0m\u001b[0;36m0\u001b[0m\u001b[0;34m]\u001b[0m\u001b[0;34m[\u001b[0m\u001b[0;36m0\u001b[0m\u001b[0;34m]\u001b[0m \u001b[0;32mis\u001b[0m \u001b[0mAT\u001b[0m\u001b[0;34m:\u001b[0m\u001b[0;34m\u001b[0m\u001b[0;34m\u001b[0m\u001b[0m\n\u001b[0;32m--> 668\u001b[0;31m                 raise source.error(\"nothing to repeat\",\n\u001b[0m\u001b[1;32m    669\u001b[0m                                    source.tell() - here + len(this))\n\u001b[1;32m    670\u001b[0m             \u001b[0;32mif\u001b[0m \u001b[0mitem\u001b[0m\u001b[0;34m[\u001b[0m\u001b[0;36m0\u001b[0m\u001b[0;34m]\u001b[0m\u001b[0;34m[\u001b[0m\u001b[0;36m0\u001b[0m\u001b[0;34m]\u001b[0m \u001b[0;32min\u001b[0m \u001b[0m_REPEATCODES\u001b[0m\u001b[0;34m:\u001b[0m\u001b[0;34m\u001b[0m\u001b[0;34m\u001b[0m\u001b[0m\n",
      "\u001b[0;31merror\u001b[0m: nothing to repeat at position 11"
     ]
    }
   ],
   "source": [
    "df['Name'].str.extract(r'([A-Z]|\\d){3,}$')"
   ]
  },
  {
   "cell_type": "code",
   "execution_count": 73,
   "id": "4317720d-6c83-43e2-8685-3feea42b84c8",
   "metadata": {},
   "outputs": [
    {
     "data": {
      "text/plain": [
       "'NFTR4ID'"
      ]
     },
     "execution_count": 73,
     "metadata": {},
     "output_type": "execute_result"
    }
   ],
   "source": [
    "inp = 'Raiders NFTR4ID'\n",
    "inp = re.search(r'([A-Z]|\\d){3,}$', inp)\n",
    "inp.group(0)"
   ]
  },
  {
   "cell_type": "code",
   "execution_count": 66,
   "id": "0f158c0f-3f3f-4646-94cb-1fcd1daf3ff6",
   "metadata": {},
   "outputs": [
    {
     "data": {
      "text/plain": [
       "'UPO'"
      ]
     },
     "execution_count": 66,
     "metadata": {},
     "output_type": "execute_result"
    }
   ],
   "source": [
    "inp = 'UpOnlyUPO'\n",
    "inp = re.search(r'([A-Z]|\\d){3,}$', inp)\n",
    "inp.group(0)"
   ]
  },
  {
   "cell_type": "code",
   "execution_count": 68,
   "id": "fabfdfde-27bc-46ea-9637-060eb382e2a2",
   "metadata": {},
   "outputs": [
    {
     "data": {
      "text/plain": [
       "'BOUNTIE'"
      ]
     },
     "execution_count": 68,
     "metadata": {},
     "output_type": "execute_result"
    }
   ],
   "source": [
    "inp = 'Bountie HunterBOUNTIE'\n",
    "inp = re.search(r'([A-Z]|\\d){3,}$', inp)\n",
    "inp.group(0)"
   ]
  },
  {
   "cell_type": "code",
   "execution_count": 70,
   "id": "9623a108-25b0-4d44-addb-fec0ff218157",
   "metadata": {},
   "outputs": [
    {
     "data": {
      "text/plain": [
       "'BLUES'"
      ]
     },
     "execution_count": 70,
     "metadata": {},
     "output_type": "execute_result"
    }
   ],
   "source": [
    "inp = 'BlueshiftBLUES'\n",
    "inp = re.search(r'([A-Z]|\\d){3,}$', inp)\n",
    "inp.group(0)"
   ]
  },
  {
   "cell_type": "code",
   "execution_count": 40,
   "id": "76d8ea52-32a2-4bfc-a42e-a1e1a6c159b1",
   "metadata": {},
   "outputs": [
    {
     "data": {
      "text/plain": [
       "'WNZ'"
      ]
     },
     "execution_count": 71,
     "metadata": {},
     "output_type": "execute_result"
    }
   ],
   "source": [
    "inp = 'WinerzWNZ'\n",
    "inp = re.sub(r'(?<![A-Z\\W])(?=[A-Z])', '', inp)\n",
    "inp"
   ]
  },
  {
   "cell_type": "code",
   "execution_count": 51,
   "id": "d1a95704-fdfe-45b2-8f30-4fb95953c1ca",
   "metadata": {},
   "outputs": [
    {
     "data": {
      "text/plain": [
       "'KYOKO'"
      ]
     },
     "execution_count": 72,
     "metadata": {},
     "output_type": "execute_result"
    }
   ],
   "source": [
    "inp = 'KyokoKYOKO'\n",
    "inp = re.sub(r'([A-Z]|\\d){3,}', '', inp)\n",
    "inp"
   ]
  },
  {
   "cell_type": "code",
   "execution_count": 77,
   "id": "a549efb6-57fd-422d-bf41-b81c35456c68",
   "metadata": {},
   "outputs": [
    {
     "data": {
      "text/plain": [
       "0       [S]\n",
       "1       [S]\n",
       "2       [L]\n",
       "3       [Z]\n",
       "4       [Z]\n",
       "       ... \n",
       "3249    [T]\n",
       "3250    [O]\n",
       "3251    [K]\n",
       "3252    [Y]\n",
       "3253    [W]\n",
       "Name: Name, Length: 3254, dtype: object"
      ]
     },
     "execution_count": 77,
     "metadata": {},
     "output_type": "execute_result"
    }
   ],
   "source": [
    "df['Name'].str.findall(r'([A-Z]|\\d){3,}')"
   ]
  },
  {
   "cell_type": "code",
   "execution_count": 79,
   "id": "763eaa5c-f8fc-4264-a773-cbe09cf45e69",
   "metadata": {},
   "outputs": [
    {
     "ename": "TypeError",
     "evalue": "map() missing 1 required positional argument: 'arg'",
     "output_type": "error",
     "traceback": [
      "\u001b[0;31m---------------------------------------------------------------------------\u001b[0m",
      "\u001b[0;31mTypeError\u001b[0m                                 Traceback (most recent call last)",
      "\u001b[0;32m/var/folders/ct/hz49ts_123q0xjdwrm22m8400000gn/T/ipykernel_2297/2781621958.py\u001b[0m in \u001b[0;36m<module>\u001b[0;34m\u001b[0m\n\u001b[0;32m----> 1\u001b[0;31m \u001b[0mdf\u001b[0m\u001b[0;34m[\u001b[0m\u001b[0;34m'Name'\u001b[0m\u001b[0;34m]\u001b[0m\u001b[0;34m.\u001b[0m\u001b[0mmap\u001b[0m\u001b[0;34m(\u001b[0m\u001b[0;34m)\u001b[0m\u001b[0;34m\u001b[0m\u001b[0;34m\u001b[0m\u001b[0m\n\u001b[0m",
      "\u001b[0;31mTypeError\u001b[0m: map() missing 1 required positional argument: 'arg'"
     ]
    }
   ],
   "source": [
    "df['Name'].map()"
   ]
  },
  {
   "cell_type": "code",
   "execution_count": 108,
   "id": "46f737f9-eaa4-4b31-bb77-5c0b15c53aea",
   "metadata": {},
   "outputs": [],
   "source": [
    "def getPattern(inp):\n",
    "    inp = re.search(r'([A-Z]|\\d){3,}$', inp).group(0)\n",
    "    return inp"
   ]
  },
  {
   "cell_type": "code",
   "execution_count": 109,
   "id": "f930cb63-8911-450c-8393-f1db04f21b18",
   "metadata": {},
   "outputs": [
    {
     "ename": "AttributeError",
     "evalue": "'NoneType' object has no attribute 'group'",
     "output_type": "error",
     "traceback": [
      "\u001b[0;31m---------------------------------------------------------------------------\u001b[0m",
      "\u001b[0;31mAttributeError\u001b[0m                            Traceback (most recent call last)",
      "\u001b[0;32m/var/folders/ct/hz49ts_123q0xjdwrm22m8400000gn/T/ipykernel_2297/31770938.py\u001b[0m in \u001b[0;36m<module>\u001b[0;34m\u001b[0m\n\u001b[0;32m----> 1\u001b[0;31m \u001b[0mdf\u001b[0m\u001b[0;34m[\u001b[0m\u001b[0;34m'Name'\u001b[0m\u001b[0;34m]\u001b[0m\u001b[0;34m.\u001b[0m\u001b[0mmap\u001b[0m\u001b[0;34m(\u001b[0m\u001b[0mgetPattern\u001b[0m\u001b[0;34m)\u001b[0m\u001b[0;34m\u001b[0m\u001b[0;34m\u001b[0m\u001b[0m\n\u001b[0m",
      "\u001b[0;32m~/.pyenv/versions/3.8.12/envs/lewagon/lib/python3.8/site-packages/pandas/core/series.py\u001b[0m in \u001b[0;36mmap\u001b[0;34m(self, arg, na_action)\u001b[0m\n\u001b[1;32m   4159\u001b[0m         \u001b[0mdtype\u001b[0m\u001b[0;34m:\u001b[0m \u001b[0mobject\u001b[0m\u001b[0;34m\u001b[0m\u001b[0;34m\u001b[0m\u001b[0m\n\u001b[1;32m   4160\u001b[0m         \"\"\"\n\u001b[0;32m-> 4161\u001b[0;31m         \u001b[0mnew_values\u001b[0m \u001b[0;34m=\u001b[0m \u001b[0msuper\u001b[0m\u001b[0;34m(\u001b[0m\u001b[0;34m)\u001b[0m\u001b[0;34m.\u001b[0m\u001b[0m_map_values\u001b[0m\u001b[0;34m(\u001b[0m\u001b[0marg\u001b[0m\u001b[0;34m,\u001b[0m \u001b[0mna_action\u001b[0m\u001b[0;34m=\u001b[0m\u001b[0mna_action\u001b[0m\u001b[0;34m)\u001b[0m\u001b[0;34m\u001b[0m\u001b[0;34m\u001b[0m\u001b[0m\n\u001b[0m\u001b[1;32m   4162\u001b[0m         return self._constructor(new_values, index=self.index).__finalize__(\n\u001b[1;32m   4163\u001b[0m             \u001b[0mself\u001b[0m\u001b[0;34m,\u001b[0m \u001b[0mmethod\u001b[0m\u001b[0;34m=\u001b[0m\u001b[0;34m\"map\"\u001b[0m\u001b[0;34m\u001b[0m\u001b[0;34m\u001b[0m\u001b[0m\n",
      "\u001b[0;32m~/.pyenv/versions/3.8.12/envs/lewagon/lib/python3.8/site-packages/pandas/core/base.py\u001b[0m in \u001b[0;36m_map_values\u001b[0;34m(self, mapper, na_action)\u001b[0m\n\u001b[1;32m    868\u001b[0m \u001b[0;34m\u001b[0m\u001b[0m\n\u001b[1;32m    869\u001b[0m         \u001b[0;31m# mapper is a function\u001b[0m\u001b[0;34m\u001b[0m\u001b[0;34m\u001b[0m\u001b[0;34m\u001b[0m\u001b[0m\n\u001b[0;32m--> 870\u001b[0;31m         \u001b[0mnew_values\u001b[0m \u001b[0;34m=\u001b[0m \u001b[0mmap_f\u001b[0m\u001b[0;34m(\u001b[0m\u001b[0mvalues\u001b[0m\u001b[0;34m,\u001b[0m \u001b[0mmapper\u001b[0m\u001b[0;34m)\u001b[0m\u001b[0;34m\u001b[0m\u001b[0;34m\u001b[0m\u001b[0m\n\u001b[0m\u001b[1;32m    871\u001b[0m \u001b[0;34m\u001b[0m\u001b[0m\n\u001b[1;32m    872\u001b[0m         \u001b[0;32mreturn\u001b[0m \u001b[0mnew_values\u001b[0m\u001b[0;34m\u001b[0m\u001b[0;34m\u001b[0m\u001b[0m\n",
      "\u001b[0;32m~/.pyenv/versions/3.8.12/envs/lewagon/lib/python3.8/site-packages/pandas/_libs/lib.pyx\u001b[0m in \u001b[0;36mpandas._libs.lib.map_infer\u001b[0;34m()\u001b[0m\n",
      "\u001b[0;32m/var/folders/ct/hz49ts_123q0xjdwrm22m8400000gn/T/ipykernel_2297/977369722.py\u001b[0m in \u001b[0;36mgetPattern\u001b[0;34m(inp)\u001b[0m\n\u001b[1;32m      1\u001b[0m \u001b[0;32mdef\u001b[0m \u001b[0mgetPattern\u001b[0m\u001b[0;34m(\u001b[0m\u001b[0minp\u001b[0m\u001b[0;34m)\u001b[0m\u001b[0;34m:\u001b[0m\u001b[0;34m\u001b[0m\u001b[0;34m\u001b[0m\u001b[0m\n\u001b[0;32m----> 2\u001b[0;31m     \u001b[0minp\u001b[0m \u001b[0;34m=\u001b[0m \u001b[0mre\u001b[0m\u001b[0;34m.\u001b[0m\u001b[0msearch\u001b[0m\u001b[0;34m(\u001b[0m\u001b[0;34mr'([A-Z]|\\d){3,}$'\u001b[0m\u001b[0;34m,\u001b[0m \u001b[0minp\u001b[0m\u001b[0;34m)\u001b[0m\u001b[0;34m.\u001b[0m\u001b[0mgroup\u001b[0m\u001b[0;34m(\u001b[0m\u001b[0;36m0\u001b[0m\u001b[0;34m)\u001b[0m\u001b[0;34m\u001b[0m\u001b[0;34m\u001b[0m\u001b[0m\n\u001b[0m\u001b[1;32m      3\u001b[0m     \u001b[0;32mreturn\u001b[0m \u001b[0minp\u001b[0m\u001b[0;34m\u001b[0m\u001b[0;34m\u001b[0m\u001b[0m\n",
      "\u001b[0;31mAttributeError\u001b[0m: 'NoneType' object has no attribute 'group'"
     ]
    }
   ],
   "source": [
    "df['Name'].map(getPattern)"
   ]
  },
  {
   "cell_type": "code",
   "execution_count": 123,
   "id": "686d5bc5-c245-47ce-9691-e854fb76c68c",
   "metadata": {},
   "outputs": [
    {
     "name": "stderr",
     "output_type": "stream",
     "text": [
      "/var/folders/ct/hz49ts_123q0xjdwrm22m8400000gn/T/ipykernel_2297/489237911.py:1: SettingWithCopyWarning: \n",
      "A value is trying to be set on a copy of a slice from a DataFrame.\n",
      "Try using .loc[row_indexer,col_indexer] = value instead\n",
      "\n",
      "See the caveats in the documentation: https://pandas.pydata.org/pandas-docs/stable/user_guide/indexing.html#returning-a-view-versus-a-copy\n",
      "  df[df['Name'] == 'Heroes ChainedHeC']['Name'] = 'Heroes ChainedHEC'\n"
     ]
    }
   ],
   "source": [
    "df[df['Name'] == 'Heroes ChainedHeC']['Name'] = 'Heroes ChainedHEC'"
   ]
  },
  {
   "cell_type": "code",
   "execution_count": 139,
   "id": "5d542504-4757-412a-9a76-e5105f17fb36",
   "metadata": {},
   "outputs": [],
   "source": [
    "df['Name'].replace('Heroes ChainedHeC','Heroes ChainedHEC',inplace= True)\n",
    "df['Name'].replace('FranklinFLy','FranklinFLY',inplace= True)\n",
    "df['Name'].replace('BLinkblink','BLinkBLINK',inplace= True)\n",
    "df['Name'].replace('KairosKairos','KairosKAIROS',inplace= True)\n",
    "df['Name'].replace('Quadrant ProtocoleQuad','Quadrant ProtocoleQUAD',inplace= True)\n",
    "df['Name'].replace('VikingsChainVikC','VikingsChainVIKC',inplace= True)"
   ]
  },
  {
   "cell_type": "code",
   "execution_count": 134,
   "id": "457eae0d-c8d5-4f73-9257-d71cfbcc8450",
   "metadata": {},
   "outputs": [
    {
     "data": {
      "text/html": [
       "<div>\n",
       "<style scoped>\n",
       "    .dataframe tbody tr th:only-of-type {\n",
       "        vertical-align: middle;\n",
       "    }\n",
       "\n",
       "    .dataframe tbody tr th {\n",
       "        vertical-align: top;\n",
       "    }\n",
       "\n",
       "    .dataframe thead th {\n",
       "        text-align: right;\n",
       "    }\n",
       "</style>\n",
       "<table border=\"1\" class=\"dataframe\">\n",
       "  <thead>\n",
       "    <tr style=\"text-align: right;\">\n",
       "      <th></th>\n",
       "      <th>Name</th>\n",
       "      <th>Price</th>\n",
       "      <th>Sale Price</th>\n",
       "      <th>Market Cap</th>\n",
       "      <th>Raise</th>\n",
       "      <th>ROI USD</th>\n",
       "      <th>ATH ROI USD</th>\n",
       "      <th>Type</th>\n",
       "      <th>TGE Platform</th>\n",
       "      <th>Ended</th>\n",
       "      <th>Category</th>\n",
       "      <th>symbol</th>\n",
       "    </tr>\n",
       "  </thead>\n",
       "  <tbody>\n",
       "    <tr>\n",
       "      <th>382</th>\n",
       "      <td>Heroes ChainedHEC</td>\n",
       "      <td>1.22</td>\n",
       "      <td>0.35</td>\n",
       "      <td>2490000.0</td>\n",
       "      <td>1.000.000</td>\n",
       "      <td>3.47</td>\n",
       "      <td>9.47</td>\n",
       "      <td>IDO</td>\n",
       "      <td>Avalaunch</td>\n",
       "      <td>2022-01-17</td>\n",
       "      <td>Gaming</td>\n",
       "      <td>C</td>\n",
       "    </tr>\n",
       "    <tr>\n",
       "      <th>396</th>\n",
       "      <td>Heroes ChainedHEC</td>\n",
       "      <td>1.22</td>\n",
       "      <td>0.35</td>\n",
       "      <td>2490000.0</td>\n",
       "      <td>400.000</td>\n",
       "      <td>3.47</td>\n",
       "      <td>9.47</td>\n",
       "      <td>IDO</td>\n",
       "      <td>Seedify</td>\n",
       "      <td>2022-01-16</td>\n",
       "      <td>Gaming</td>\n",
       "      <td>Escrow Protocol ESCROW</td>\n",
       "    </tr>\n",
       "  </tbody>\n",
       "</table>\n",
       "</div>"
      ],
      "text/plain": [
       "                  Name  Price  Sale Price  Market Cap      Raise  ROI USD  \\\n",
       "382  Heroes ChainedHEC   1.22        0.35   2490000.0  1.000.000     3.47   \n",
       "396  Heroes ChainedHEC   1.22        0.35   2490000.0    400.000     3.47   \n",
       "\n",
       "     ATH ROI USD Type TGE Platform       Ended Category  \\\n",
       "382         9.47  IDO    Avalaunch  2022-01-17   Gaming   \n",
       "396         9.47  IDO      Seedify  2022-01-16   Gaming   \n",
       "\n",
       "                      symbol  \n",
       "382                        C  \n",
       "396   Escrow Protocol ESCROW  "
      ]
     },
     "execution_count": 134,
     "metadata": {},
     "output_type": "execute_result"
    }
   ],
   "source": [
    "df[df['Name'] == 'Heroes ChainedHEC']"
   ]
  },
  {
   "cell_type": "code",
   "execution_count": null,
   "id": "958676af-8245-4128-902a-1b5c86e2dba0",
   "metadata": {},
   "outputs": [],
   "source": [
    "VikingsChainVikC\n",
    "df['Name'].replace('Heroes ChainedHeC','Heroes ChainedHEC',inplace= True)"
   ]
  },
  {
   "cell_type": "code",
   "execution_count": 167,
   "id": "5713d50e-1069-4990-a7ac-2cc4747d9627",
   "metadata": {},
   "outputs": [],
   "source": [
    "symbol_list = []\n",
    "count_double = []\n",
    "i = 0\n",
    "for cname in df['Name']:\n",
    "    inp = re.search(r'([A-Z]|\\d){2,}$', cname).group(0)\n",
    "    inp = str(inp)\n",
    "    if (len(inp) > 6) & (len(inp)%2 == 0):\n",
    "       # print(inp)\n",
    "       # print(inp[0:int(len(inp)/2)])\n",
    "       # print(inp[(int(len(inp)/2)):len(inp)])\n",
    "        if (inp[0:int(len(inp)/2)]) == (inp[(int(len(inp)/2)):len(inp)]):\n",
    "            inp = inp[0:int(len(inp)/2)]\n",
    "            \n",
    "    symbol_list.append(inp)"
   ]
  },
  {
   "cell_type": "code",
   "execution_count": 168,
   "id": "d3888cb4-3419-448a-bee8-82968a5a9ad7",
   "metadata": {},
   "outputs": [
    {
     "data": {
      "text/plain": [
       "3254"
      ]
     },
     "execution_count": 168,
     "metadata": {},
     "output_type": "execute_result"
    }
   ],
   "source": [
    "len(symbol_list)"
   ]
  },
  {
   "cell_type": "code",
   "execution_count": 170,
   "id": "cf8f0e45-dbea-4792-9a22-aa6f09f0dfa9",
   "metadata": {},
   "outputs": [],
   "source": [
    "df['symbol'] = symbol_list"
   ]
  },
  {
   "cell_type": "code",
   "execution_count": 172,
   "id": "4d176dfe-fb42-4cae-bf04-e3f67899170f",
   "metadata": {},
   "outputs": [
    {
     "data": {
      "text/html": [
       "<div>\n",
       "<style scoped>\n",
       "    .dataframe tbody tr th:only-of-type {\n",
       "        vertical-align: middle;\n",
       "    }\n",
       "\n",
       "    .dataframe tbody tr th {\n",
       "        vertical-align: top;\n",
       "    }\n",
       "\n",
       "    .dataframe thead th {\n",
       "        text-align: right;\n",
       "    }\n",
       "</style>\n",
       "<table border=\"1\" class=\"dataframe\">\n",
       "  <thead>\n",
       "    <tr style=\"text-align: right;\">\n",
       "      <th></th>\n",
       "      <th>Name</th>\n",
       "      <th>Price</th>\n",
       "      <th>Sale Price</th>\n",
       "      <th>Market Cap</th>\n",
       "      <th>Raise</th>\n",
       "      <th>ROI USD</th>\n",
       "      <th>ATH ROI USD</th>\n",
       "      <th>Type</th>\n",
       "      <th>TGE Platform</th>\n",
       "      <th>Ended</th>\n",
       "      <th>Category</th>\n",
       "      <th>symbol</th>\n",
       "    </tr>\n",
       "  </thead>\n",
       "  <tbody>\n",
       "    <tr>\n",
       "      <th>0</th>\n",
       "      <td>EdgeSwapEGS</td>\n",
       "      <td>0.1170</td>\n",
       "      <td>0.0150</td>\n",
       "      <td>6640000.0</td>\n",
       "      <td>150.000</td>\n",
       "      <td>7.81</td>\n",
       "      <td>15.75</td>\n",
       "      <td>IEO</td>\n",
       "      <td>Huobi Global</td>\n",
       "      <td>2022-04-07</td>\n",
       "      <td>Exchange</td>\n",
       "      <td>EGS</td>\n",
       "    </tr>\n",
       "    <tr>\n",
       "      <th>1</th>\n",
       "      <td>EdgeSwapEGS</td>\n",
       "      <td>0.1170</td>\n",
       "      <td>0.0150</td>\n",
       "      <td>6640000.0</td>\n",
       "      <td>70.000</td>\n",
       "      <td>7.81</td>\n",
       "      <td>15.75</td>\n",
       "      <td>IEO</td>\n",
       "      <td>Gate.io</td>\n",
       "      <td>2022-04-07</td>\n",
       "      <td>Exchange</td>\n",
       "      <td>EGS</td>\n",
       "    </tr>\n",
       "    <tr>\n",
       "      <th>2</th>\n",
       "      <td>Drunk RobotsMETAL</td>\n",
       "      <td>0.0559</td>\n",
       "      <td>0.0100</td>\n",
       "      <td>1050000.0</td>\n",
       "      <td>150.000</td>\n",
       "      <td>5.59</td>\n",
       "      <td>6.90</td>\n",
       "      <td>IEO</td>\n",
       "      <td>Gate.io</td>\n",
       "      <td>2022-04-07</td>\n",
       "      <td>Gaming</td>\n",
       "      <td>METAL</td>\n",
       "    </tr>\n",
       "    <tr>\n",
       "      <th>3</th>\n",
       "      <td>WinerzWNZ</td>\n",
       "      <td>NaN</td>\n",
       "      <td>0.0200</td>\n",
       "      <td>NaN</td>\n",
       "      <td>500.000</td>\n",
       "      <td>NaN</td>\n",
       "      <td>NaN</td>\n",
       "      <td>IDO</td>\n",
       "      <td>SolRazr</td>\n",
       "      <td>2022-04-07</td>\n",
       "      <td>Gaming</td>\n",
       "      <td>WNZ</td>\n",
       "    </tr>\n",
       "    <tr>\n",
       "      <th>4</th>\n",
       "      <td>WinerzWNZ</td>\n",
       "      <td>NaN</td>\n",
       "      <td>0.0200</td>\n",
       "      <td>NaN</td>\n",
       "      <td>500.000</td>\n",
       "      <td>NaN</td>\n",
       "      <td>NaN</td>\n",
       "      <td>IDO</td>\n",
       "      <td>NaN</td>\n",
       "      <td>2022-04-07</td>\n",
       "      <td>Gaming</td>\n",
       "      <td>WNZ</td>\n",
       "    </tr>\n",
       "    <tr>\n",
       "      <th>...</th>\n",
       "      <td>...</td>\n",
       "      <td>...</td>\n",
       "      <td>...</td>\n",
       "      <td>...</td>\n",
       "      <td>...</td>\n",
       "      <td>...</td>\n",
       "      <td>...</td>\n",
       "      <td>...</td>\n",
       "      <td>...</td>\n",
       "      <td>...</td>\n",
       "      <td>...</td>\n",
       "      <td>...</td>\n",
       "    </tr>\n",
       "    <tr>\n",
       "      <th>3249</th>\n",
       "      <td>TealTokenTEAT</td>\n",
       "      <td>0.0100</td>\n",
       "      <td>1.2500</td>\n",
       "      <td>NaN</td>\n",
       "      <td>4.500.000</td>\n",
       "      <td>0.01</td>\n",
       "      <td>1.49</td>\n",
       "      <td>IEO</td>\n",
       "      <td>Probit</td>\n",
       "      <td>NaN</td>\n",
       "      <td>Marketplace</td>\n",
       "      <td>TEAT</td>\n",
       "    </tr>\n",
       "    <tr>\n",
       "      <th>3250</th>\n",
       "      <td>InfomatixINFO</td>\n",
       "      <td>0.0023</td>\n",
       "      <td>0.0050</td>\n",
       "      <td>NaN</td>\n",
       "      <td>125.000</td>\n",
       "      <td>0.46</td>\n",
       "      <td>7.22</td>\n",
       "      <td>IDO</td>\n",
       "      <td>ZeeDO</td>\n",
       "      <td>NaN</td>\n",
       "      <td>Data</td>\n",
       "      <td>INFO</td>\n",
       "    </tr>\n",
       "    <tr>\n",
       "      <th>3251</th>\n",
       "      <td>WadzPayWTK</td>\n",
       "      <td>0.3610</td>\n",
       "      <td>0.0700</td>\n",
       "      <td>NaN</td>\n",
       "      <td>50.000</td>\n",
       "      <td>5.16</td>\n",
       "      <td>6.00</td>\n",
       "      <td>IEO</td>\n",
       "      <td>BitMart</td>\n",
       "      <td>NaN</td>\n",
       "      <td>Financial</td>\n",
       "      <td>WTK</td>\n",
       "    </tr>\n",
       "    <tr>\n",
       "      <th>3252</th>\n",
       "      <td>iBetYouIBY</td>\n",
       "      <td>0.0193</td>\n",
       "      <td>0.0914</td>\n",
       "      <td>NaN</td>\n",
       "      <td>130.650</td>\n",
       "      <td>0.21</td>\n",
       "      <td>0.25</td>\n",
       "      <td>IDO</td>\n",
       "      <td>MISO</td>\n",
       "      <td>NaN</td>\n",
       "      <td>Gambling</td>\n",
       "      <td>IBY</td>\n",
       "    </tr>\n",
       "    <tr>\n",
       "      <th>3253</th>\n",
       "      <td>Escrow ProtocolESCROW</td>\n",
       "      <td>0.0155</td>\n",
       "      <td>0.0400</td>\n",
       "      <td>NaN</td>\n",
       "      <td>160.000</td>\n",
       "      <td>0.39</td>\n",
       "      <td>2.82</td>\n",
       "      <td>IDO</td>\n",
       "      <td>NaN</td>\n",
       "      <td>NaN</td>\n",
       "      <td>NaN</td>\n",
       "      <td>ESCROW</td>\n",
       "    </tr>\n",
       "  </tbody>\n",
       "</table>\n",
       "<p>3254 rows × 12 columns</p>\n",
       "</div>"
      ],
      "text/plain": [
       "                       Name   Price  Sale Price  Market Cap      Raise  \\\n",
       "0               EdgeSwapEGS  0.1170      0.0150   6640000.0    150.000   \n",
       "1               EdgeSwapEGS  0.1170      0.0150   6640000.0     70.000   \n",
       "2         Drunk RobotsMETAL  0.0559      0.0100   1050000.0    150.000   \n",
       "3                 WinerzWNZ     NaN      0.0200         NaN    500.000   \n",
       "4                 WinerzWNZ     NaN      0.0200         NaN    500.000   \n",
       "...                     ...     ...         ...         ...        ...   \n",
       "3249          TealTokenTEAT  0.0100      1.2500         NaN  4.500.000   \n",
       "3250          InfomatixINFO  0.0023      0.0050         NaN    125.000   \n",
       "3251             WadzPayWTK  0.3610      0.0700         NaN     50.000   \n",
       "3252             iBetYouIBY  0.0193      0.0914         NaN    130.650   \n",
       "3253  Escrow ProtocolESCROW  0.0155      0.0400         NaN    160.000   \n",
       "\n",
       "      ROI USD  ATH ROI USD Type  TGE Platform       Ended     Category  symbol  \n",
       "0        7.81        15.75  IEO  Huobi Global  2022-04-07     Exchange     EGS  \n",
       "1        7.81        15.75  IEO       Gate.io  2022-04-07     Exchange     EGS  \n",
       "2        5.59         6.90  IEO       Gate.io  2022-04-07       Gaming   METAL  \n",
       "3         NaN          NaN  IDO       SolRazr  2022-04-07       Gaming     WNZ  \n",
       "4         NaN          NaN  IDO           NaN  2022-04-07       Gaming     WNZ  \n",
       "...       ...          ...  ...           ...         ...          ...     ...  \n",
       "3249     0.01         1.49  IEO        Probit         NaN  Marketplace    TEAT  \n",
       "3250     0.46         7.22  IDO         ZeeDO         NaN         Data    INFO  \n",
       "3251     5.16         6.00  IEO       BitMart         NaN    Financial     WTK  \n",
       "3252     0.21         0.25  IDO          MISO         NaN     Gambling     IBY  \n",
       "3253     0.39         2.82  IDO           NaN         NaN          NaN  ESCROW  \n",
       "\n",
       "[3254 rows x 12 columns]"
      ]
     },
     "execution_count": 172,
     "metadata": {},
     "output_type": "execute_result"
    }
   ],
   "source": [
    "df"
   ]
  },
  {
   "cell_type": "code",
   "execution_count": 187,
   "id": "0fb504c8-7ac9-4f6d-a40e-dd4d3165dc05",
   "metadata": {},
   "outputs": [
    {
     "data": {
      "text/plain": [
       "Name            2004\n",
       "Price            963\n",
       "Sale Price       546\n",
       "Market Cap      1546\n",
       "Raise            821\n",
       "ROI USD          574\n",
       "ATH ROI USD     1410\n",
       "Type               3\n",
       "TGE Platform     105\n",
       "Ended            902\n",
       "Category          44\n",
       "symbol          1950\n",
       "dtype: int64"
      ]
     },
     "execution_count": 187,
     "metadata": {},
     "output_type": "execute_result"
    }
   ],
   "source": [
    "df.nunique()"
   ]
  },
  {
   "cell_type": "code",
   "execution_count": null,
   "id": "99068a41-f2c2-4629-be20-527b4c785481",
   "metadata": {},
   "outputs": [],
   "source": []
  },
  {
   "cell_type": "code",
   "execution_count": 186,
   "id": "2898fc98-9547-4922-81ce-9ad806cddf41",
   "metadata": {},
   "outputs": [
    {
     "data": {
      "text/html": [
       "<div>\n",
       "<style scoped>\n",
       "    .dataframe tbody tr th:only-of-type {\n",
       "        vertical-align: middle;\n",
       "    }\n",
       "\n",
       "    .dataframe tbody tr th {\n",
       "        vertical-align: top;\n",
       "    }\n",
       "\n",
       "    .dataframe thead th {\n",
       "        text-align: right;\n",
       "    }\n",
       "</style>\n",
       "<table border=\"1\" class=\"dataframe\">\n",
       "  <thead>\n",
       "    <tr style=\"text-align: right;\">\n",
       "      <th></th>\n",
       "      <th>Price</th>\n",
       "      <th>Sale Price</th>\n",
       "      <th>Market Cap</th>\n",
       "      <th>Raise</th>\n",
       "      <th>ROI USD</th>\n",
       "      <th>ATH ROI USD</th>\n",
       "      <th>Type</th>\n",
       "      <th>TGE Platform</th>\n",
       "      <th>Ended</th>\n",
       "      <th>Category</th>\n",
       "      <th>symbol</th>\n",
       "    </tr>\n",
       "    <tr>\n",
       "      <th>Name</th>\n",
       "      <th></th>\n",
       "      <th></th>\n",
       "      <th></th>\n",
       "      <th></th>\n",
       "      <th></th>\n",
       "      <th></th>\n",
       "      <th></th>\n",
       "      <th></th>\n",
       "      <th></th>\n",
       "      <th></th>\n",
       "      <th></th>\n",
       "    </tr>\n",
       "  </thead>\n",
       "  <tbody>\n",
       "    <tr>\n",
       "      <th>MotocoinMOTO</th>\n",
       "      <td>1</td>\n",
       "      <td>1</td>\n",
       "      <td>1</td>\n",
       "      <td>0</td>\n",
       "      <td>1</td>\n",
       "      <td>1</td>\n",
       "      <td>1</td>\n",
       "      <td>0</td>\n",
       "      <td>1</td>\n",
       "      <td>0</td>\n",
       "      <td>1</td>\n",
       "    </tr>\n",
       "    <tr>\n",
       "      <th>EristicaERT</th>\n",
       "      <td>1</td>\n",
       "      <td>1</td>\n",
       "      <td>1</td>\n",
       "      <td>0</td>\n",
       "      <td>1</td>\n",
       "      <td>1</td>\n",
       "      <td>1</td>\n",
       "      <td>0</td>\n",
       "      <td>1</td>\n",
       "      <td>1</td>\n",
       "      <td>1</td>\n",
       "    </tr>\n",
       "    <tr>\n",
       "      <th>GenesisGENT</th>\n",
       "      <td>1</td>\n",
       "      <td>0</td>\n",
       "      <td>0</td>\n",
       "      <td>0</td>\n",
       "      <td>0</td>\n",
       "      <td>0</td>\n",
       "      <td>1</td>\n",
       "      <td>0</td>\n",
       "      <td>1</td>\n",
       "      <td>1</td>\n",
       "      <td>1</td>\n",
       "    </tr>\n",
       "    <tr>\n",
       "      <th>BlitzPickXBP</th>\n",
       "      <td>1</td>\n",
       "      <td>1</td>\n",
       "      <td>1</td>\n",
       "      <td>0</td>\n",
       "      <td>1</td>\n",
       "      <td>1</td>\n",
       "      <td>1</td>\n",
       "      <td>0</td>\n",
       "      <td>1</td>\n",
       "      <td>0</td>\n",
       "      <td>1</td>\n",
       "    </tr>\n",
       "    <tr>\n",
       "      <th>BlazeCoinBLZ</th>\n",
       "      <td>1</td>\n",
       "      <td>1</td>\n",
       "      <td>1</td>\n",
       "      <td>0</td>\n",
       "      <td>1</td>\n",
       "      <td>1</td>\n",
       "      <td>1</td>\n",
       "      <td>0</td>\n",
       "      <td>1</td>\n",
       "      <td>1</td>\n",
       "      <td>1</td>\n",
       "    </tr>\n",
       "    <tr>\n",
       "      <th>...</th>\n",
       "      <td>...</td>\n",
       "      <td>...</td>\n",
       "      <td>...</td>\n",
       "      <td>...</td>\n",
       "      <td>...</td>\n",
       "      <td>...</td>\n",
       "      <td>...</td>\n",
       "      <td>...</td>\n",
       "      <td>...</td>\n",
       "      <td>...</td>\n",
       "      <td>...</td>\n",
       "    </tr>\n",
       "    <tr>\n",
       "      <th>Rainmaker GamesRAIN</th>\n",
       "      <td>1</td>\n",
       "      <td>1</td>\n",
       "      <td>1</td>\n",
       "      <td>6</td>\n",
       "      <td>1</td>\n",
       "      <td>1</td>\n",
       "      <td>1</td>\n",
       "      <td>6</td>\n",
       "      <td>2</td>\n",
       "      <td>1</td>\n",
       "      <td>1</td>\n",
       "    </tr>\n",
       "    <tr>\n",
       "      <th>Cheesus DeFiCHEESUS</th>\n",
       "      <td>1</td>\n",
       "      <td>2</td>\n",
       "      <td>1</td>\n",
       "      <td>7</td>\n",
       "      <td>1</td>\n",
       "      <td>1</td>\n",
       "      <td>1</td>\n",
       "      <td>10</td>\n",
       "      <td>9</td>\n",
       "      <td>1</td>\n",
       "      <td>1</td>\n",
       "    </tr>\n",
       "    <tr>\n",
       "      <th>Nomad ExilesPRIDE</th>\n",
       "      <td>1</td>\n",
       "      <td>1</td>\n",
       "      <td>1</td>\n",
       "      <td>7</td>\n",
       "      <td>1</td>\n",
       "      <td>1</td>\n",
       "      <td>1</td>\n",
       "      <td>7</td>\n",
       "      <td>7</td>\n",
       "      <td>1</td>\n",
       "      <td>1</td>\n",
       "    </tr>\n",
       "    <tr>\n",
       "      <th>Gari NetworkGARI</th>\n",
       "      <td>1</td>\n",
       "      <td>4</td>\n",
       "      <td>1</td>\n",
       "      <td>9</td>\n",
       "      <td>4</td>\n",
       "      <td>4</td>\n",
       "      <td>3</td>\n",
       "      <td>6</td>\n",
       "      <td>4</td>\n",
       "      <td>1</td>\n",
       "      <td>1</td>\n",
       "    </tr>\n",
       "    <tr>\n",
       "      <th>SolchicksCHICKS</th>\n",
       "      <td>1</td>\n",
       "      <td>1</td>\n",
       "      <td>1</td>\n",
       "      <td>11</td>\n",
       "      <td>1</td>\n",
       "      <td>1</td>\n",
       "      <td>1</td>\n",
       "      <td>15</td>\n",
       "      <td>13</td>\n",
       "      <td>1</td>\n",
       "      <td>1</td>\n",
       "    </tr>\n",
       "  </tbody>\n",
       "</table>\n",
       "<p>2004 rows × 11 columns</p>\n",
       "</div>"
      ],
      "text/plain": [
       "                     Price  Sale Price  Market Cap  Raise  ROI USD  \\\n",
       "Name                                                                 \n",
       "MotocoinMOTO             1           1           1      0        1   \n",
       "EristicaERT              1           1           1      0        1   \n",
       "GenesisGENT              1           0           0      0        0   \n",
       "BlitzPickXBP             1           1           1      0        1   \n",
       "BlazeCoinBLZ             1           1           1      0        1   \n",
       "...                    ...         ...         ...    ...      ...   \n",
       "Rainmaker GamesRAIN      1           1           1      6        1   \n",
       "Cheesus DeFiCHEESUS      1           2           1      7        1   \n",
       "Nomad ExilesPRIDE        1           1           1      7        1   \n",
       "Gari NetworkGARI         1           4           1      9        4   \n",
       "SolchicksCHICKS          1           1           1     11        1   \n",
       "\n",
       "                     ATH ROI USD  Type  TGE Platform  Ended  Category  symbol  \n",
       "Name                                                                           \n",
       "MotocoinMOTO                   1     1             0      1         0       1  \n",
       "EristicaERT                    1     1             0      1         1       1  \n",
       "GenesisGENT                    0     1             0      1         1       1  \n",
       "BlitzPickXBP                   1     1             0      1         0       1  \n",
       "BlazeCoinBLZ                   1     1             0      1         1       1  \n",
       "...                          ...   ...           ...    ...       ...     ...  \n",
       "Rainmaker GamesRAIN            1     1             6      2         1       1  \n",
       "Cheesus DeFiCHEESUS            1     1            10      9         1       1  \n",
       "Nomad ExilesPRIDE              1     1             7      7         1       1  \n",
       "Gari NetworkGARI               4     3             6      4         1       1  \n",
       "SolchicksCHICKS                1     1            15     13         1       1  \n",
       "\n",
       "[2004 rows x 11 columns]"
      ]
     },
     "execution_count": 186,
     "metadata": {},
     "output_type": "execute_result"
    }
   ],
   "source": [
    "df.groupby('Name').nunique().sort_values(by='Raise')"
   ]
  },
  {
   "cell_type": "code",
   "execution_count": null,
   "id": "4426aa68-8e84-4dcd-89c7-b4fdf36a25f3",
   "metadata": {},
   "outputs": [],
   "source": []
  }
 ],
 "metadata": {
  "kernelspec": {
   "display_name": "Python 3 (ipykernel)",
   "language": "python",
   "name": "python3"
  },
  "language_info": {
   "codemirror_mode": {
    "name": "ipython",
    "version": 3
   },
   "file_extension": ".py",
   "mimetype": "text/x-python",
   "name": "python",
   "nbconvert_exporter": "python",
   "pygments_lexer": "ipython3",
   "version": "3.8.12"
  }
 },
 "nbformat": 4,
 "nbformat_minor": 5
}
