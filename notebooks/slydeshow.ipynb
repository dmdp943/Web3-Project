{
 "cells": [
  {
   "cell_type": "markdown",
   "id": "569d53f3",
   "metadata": {
    "slideshow": {
     "slide_type": "slide"
    }
   },
   "source": [
    "# Web3-future Platform"
   ]
  },
  {
   "cell_type": "markdown",
   "id": "d6ce966d",
   "metadata": {
    "slideshow": {
     "slide_type": "slide"
    }
   },
   "source": [
    "# Analysing the data"
   ]
  },
  {
   "cell_type": "markdown",
   "id": "9c059355",
   "metadata": {
    "slideshow": {
     "slide_type": "subslide"
    }
   },
   "source": [
    "### The main question is, what makes a project successful?\n"
   ]
  },
  {
   "cell_type": "markdown",
   "id": "0053aa26",
   "metadata": {
    "slideshow": {
     "slide_type": "subslide"
    }
   },
   "source": [
    "The category they are in? The number of twitter followers? Or the score given to the quality of the developers?\n"
   ]
  },
  {
   "cell_type": "markdown",
   "id": "65efb7dc",
   "metadata": {
    "slideshow": {
     "slide_type": "slide"
    }
   },
   "source": [
    "## The most likely categories to thrive are:"
   ]
  },
  {
   "cell_type": "markdown",
   "id": "fc6728c4",
   "metadata": {},
   "source": []
  },
  {
   "cell_type": "markdown",
   "id": "3e4c3cfa",
   "metadata": {
    "slideshow": {
     "slide_type": "slide"
    }
   },
   "source": [
    "## The Average return by twitter/Telegram follower"
   ]
  },
  {
   "cell_type": "markdown",
   "id": "1bc8b736",
   "metadata": {},
   "source": []
  },
  {
   "cell_type": "markdown",
   "id": "14ce182f",
   "metadata": {
    "slideshow": {
     "slide_type": "slide"
    }
   },
   "source": [
    "## The Developing team"
   ]
  },
  {
   "cell_type": "markdown",
   "id": "755b2777",
   "metadata": {},
   "source": []
  },
  {
   "cell_type": "markdown",
   "id": "0d73bcdc",
   "metadata": {
    "slideshow": {
     "slide_type": "slide"
    }
   },
   "source": [
    "# Modelling"
   ]
  },
  {
   "cell_type": "markdown",
   "id": "9dc47a90",
   "metadata": {
    "slideshow": {
     "slide_type": "subslide"
    }
   },
   "source": [
    "## Predict the expected return for 16 days after initial offer"
   ]
  },
  {
   "cell_type": "markdown",
   "id": "4ec3678a",
   "metadata": {
    "slideshow": {
     "slide_type": "fragment"
    }
   },
   "source": [
    "For that we had to filter outliers, we filtered projects that had return above 5 times and had return = -1."
   ]
  },
  {
   "cell_type": "markdown",
   "id": "0b93ba06",
   "metadata": {
    "slideshow": {
     "slide_type": "fragment"
    }
   },
   "source": [
    "The coin with the largest return went from 0 to 2100 usd in five days, we don't believe this is predictable"
   ]
  },
  {
   "cell_type": "markdown",
   "id": "a22030c7",
   "metadata": {},
   "source": []
  },
  {
   "cell_type": "markdown",
   "id": "4dbaa940",
   "metadata": {},
   "source": []
  }
 ],
 "metadata": {
  "celltoolbar": "Slideshow",
  "kernelspec": {
   "display_name": "Python 3 (ipykernel)",
   "language": "python",
   "name": "python3"
  },
  "language_info": {
   "codemirror_mode": {
    "name": "ipython",
    "version": 3
   },
   "file_extension": ".py",
   "mimetype": "text/x-python",
   "name": "python",
   "nbconvert_exporter": "python",
   "pygments_lexer": "ipython3",
   "version": "3.8.12"
  },
  "toc": {
   "base_numbering": 1,
   "nav_menu": {},
   "number_sections": true,
   "sideBar": true,
   "skip_h1_title": false,
   "title_cell": "Table of Contents",
   "title_sidebar": "Contents",
   "toc_cell": false,
   "toc_position": {},
   "toc_section_display": true,
   "toc_window_display": false
  }
 },
 "nbformat": 4,
 "nbformat_minor": 5
}
