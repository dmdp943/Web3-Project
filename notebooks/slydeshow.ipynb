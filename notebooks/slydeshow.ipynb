{
 "cells": [
  {
   "cell_type": "markdown",
   "id": "74359c2a",
   "metadata": {
    "slideshow": {
     "slide_type": "slide"
    }
   },
   "source": [
    "# Web3-future Platform"
   ]
  },
  {
   "cell_type": "markdown",
   "id": "a1b056b4",
   "metadata": {
    "slideshow": {
     "slide_type": "slide"
    }
   },
   "source": [
    "# Analysing the data"
   ]
  },
  {
   "cell_type": "markdown",
   "id": "b84c6b29",
   "metadata": {
    "slideshow": {
     "slide_type": "subslide"
    }
   },
   "source": [
    "### The main question is, what makes a project successful?\n"
   ]
  },
  {
   "cell_type": "markdown",
   "id": "9d3d522e",
   "metadata": {
    "slideshow": {
     "slide_type": "subslide"
    }
   },
   "source": [
    "The category they are in? The number of twitter followers? Or the score given to the quality of the developers?\n"
   ]
  },
  {
   "cell_type": "markdown",
   "id": "83bf5cdf",
   "metadata": {
    "slideshow": {
     "slide_type": "slide"
    }
   },
   "source": [
    "## The most likely categories to thrive are:"
   ]
  },
  {
   "cell_type": "markdown",
   "id": "e1b026ce",
   "metadata": {},
   "source": []
  },
  {
   "cell_type": "markdown",
   "id": "a6162d93",
   "metadata": {
    "slideshow": {
     "slide_type": "slide"
    }
   },
   "source": [
    "## The Average return by twitter/Telegram follower"
   ]
  },
  {
   "cell_type": "markdown",
   "id": "4d337e55",
   "metadata": {},
   "source": []
  },
  {
   "cell_type": "markdown",
   "id": "3fcdb91b",
   "metadata": {
    "slideshow": {
     "slide_type": "slide"
    }
   },
   "source": [
    "## The Developing team"
   ]
  },
  {
   "cell_type": "markdown",
   "id": "643cd59e",
   "metadata": {},
   "source": []
  },
  {
   "cell_type": "markdown",
   "id": "b804dc6c",
   "metadata": {
    "slideshow": {
     "slide_type": "slide"
    }
   },
   "source": [
    "# Modelling"
   ]
  },
  {
   "cell_type": "markdown",
   "id": "7995259d",
   "metadata": {
    "slideshow": {
     "slide_type": "subslide"
    }
   },
   "source": [
    "## Predict the expected return for 16 days after initial offer"
   ]
  },
  {
   "cell_type": "markdown",
   "id": "12c1a767",
   "metadata": {
    "slideshow": {
     "slide_type": "subslide"
    }
   },
   "source": [
    "### Using a XGBoost regressor we found that:"
   ]
  },
  {
   "cell_type": "markdown",
   "id": "cf548743",
   "metadata": {},
   "source": []
  },
  {
   "cell_type": "markdown",
   "id": "290f359d",
   "metadata": {},
   "source": []
  },
  {
   "cell_type": "markdown",
   "id": "8701fc6e",
   "metadata": {},
   "source": []
  }
 ],
 "metadata": {
  "celltoolbar": "Slideshow",
  "kernelspec": {
   "display_name": "Python 3 (ipykernel)",
   "language": "python",
   "name": "python3"
  },
  "language_info": {
   "codemirror_mode": {
    "name": "ipython",
    "version": 3
   },
   "file_extension": ".py",
   "mimetype": "text/x-python",
   "name": "python",
   "nbconvert_exporter": "python",
   "pygments_lexer": "ipython3",
   "version": "3.8.12"
  },
  "toc": {
   "base_numbering": 1,
   "nav_menu": {},
   "number_sections": true,
   "sideBar": true,
   "skip_h1_title": false,
   "title_cell": "Table of Contents",
   "title_sidebar": "Contents",
   "toc_cell": false,
   "toc_position": {},
   "toc_section_display": true,
   "toc_window_display": false
  }
 },
 "nbformat": 4,
 "nbformat_minor": 5
}
