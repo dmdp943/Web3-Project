{
 "cells": [
  {
   "cell_type": "markdown",
   "id": "b89b0517-04f4-4eb2-b088-97e9457bb88b",
   "metadata": {},
   "source": [
    "# Bibliotecas"
   ]
  },
  {
   "cell_type": "code",
   "execution_count": 1,
   "id": "d6edef4e-899a-4eb6-99aa-2cf36e43d314",
   "metadata": {},
   "outputs": [],
   "source": [
    "import pandas as pd\n",
    "import seaborn as sns\n",
    "from sklearn.tree import DecisionTreeRegressor\n",
    "from sklearn.ensemble import RandomForestRegressor \n",
    "from sklearn.linear_model import LinearRegression, LogisticRegression\n",
    "from sklearn.model_selection import train_test_split\n",
    "from sklearn.preprocessing import OneHotEncoder, StandardScaler, MinMaxScaler, FunctionTransformer\n",
    "from sklearn.pipeline import make_pipeline, Pipeline\n",
    "from sklearn.compose import make_column_selector, make_column_transformer, ColumnTransformer\n",
    "from statsmodels.api import OLS\n",
    "from sklearn.metrics import *\n",
    "import statsmodels.api as sm\n",
    "from sklearn import set_config\n",
    "from xgboost import XGBRegressor\n",
    "import numpy as np\n",
    "set_config(display='diagram')\n",
    "from sklearn.linear_model import Ridge\n",
    "from sklearn.tree import DecisionTreeRegressor"
   ]
  },
  {
   "cell_type": "markdown",
   "id": "70466306",
   "metadata": {},
   "source": [
    "## Preparação Inicial"
   ]
  },
  {
   "cell_type": "code",
   "execution_count": 100,
   "id": "2116d6e1",
   "metadata": {},
   "outputs": [
    {
     "data": {
      "text/html": [
       "<div>\n",
       "<style scoped>\n",
       "    .dataframe tbody tr th:only-of-type {\n",
       "        vertical-align: middle;\n",
       "    }\n",
       "\n",
       "    .dataframe tbody tr th {\n",
       "        vertical-align: top;\n",
       "    }\n",
       "\n",
       "    .dataframe thead th {\n",
       "        text-align: right;\n",
       "    }\n",
       "</style>\n",
       "<table border=\"1\" class=\"dataframe\">\n",
       "  <thead>\n",
       "    <tr style=\"text-align: right;\">\n",
       "      <th></th>\n",
       "      <th>id</th>\n",
       "      <th>symbol</th>\n",
       "      <th>name</th>\n",
       "      <th>asset_platform_id</th>\n",
       "      <th>hashing_algorithm</th>\n",
       "      <th>categories</th>\n",
       "      <th>description</th>\n",
       "      <th>country_origin</th>\n",
       "      <th>sentiment_votes_up_percentage</th>\n",
       "      <th>sentiment_votes_down_percentage</th>\n",
       "      <th>market_cap_rank</th>\n",
       "      <th>coingecko_rank</th>\n",
       "      <th>coingecko_score</th>\n",
       "      <th>community_score</th>\n",
       "      <th>liquidity_score</th>\n",
       "      <th>twitter_followers</th>\n",
       "      <th>telegram_channel_user_count</th>\n",
       "    </tr>\n",
       "  </thead>\n",
       "  <tbody>\n",
       "    <tr>\n",
       "      <th>0</th>\n",
       "      <td>01coin</td>\n",
       "      <td>zoc</td>\n",
       "      <td>zoc</td>\n",
       "      <td>nan</td>\n",
       "      <td>NeoScrypt</td>\n",
       "      <td>[Masternodes]</td>\n",
       "      <td></td>\n",
       "      <td>nan</td>\n",
       "      <td>NaN</td>\n",
       "      <td>NaN</td>\n",
       "      <td>NaN</td>\n",
       "      <td>2463</td>\n",
       "      <td>14.726</td>\n",
       "      <td>15.272</td>\n",
       "      <td>1.0</td>\n",
       "      <td>366.0</td>\n",
       "      <td>243.0</td>\n",
       "    </tr>\n",
       "    <tr>\n",
       "      <th>1</th>\n",
       "      <td>0-5x-long-algorand-token</td>\n",
       "      <td>algohalf</td>\n",
       "      <td>algohalf</td>\n",
       "      <td>ethereum</td>\n",
       "      <td>nan</td>\n",
       "      <td>[]</td>\n",
       "      <td>0.5X Long Algorand Token (ALGOHALF) is an ERC2...</td>\n",
       "      <td>nan</td>\n",
       "      <td>NaN</td>\n",
       "      <td>NaN</td>\n",
       "      <td>NaN</td>\n",
       "      <td>12804</td>\n",
       "      <td>0.2</td>\n",
       "      <td>0.0</td>\n",
       "      <td>1.0</td>\n",
       "      <td>0.0</td>\n",
       "      <td>NaN</td>\n",
       "    </tr>\n",
       "    <tr>\n",
       "      <th>2</th>\n",
       "      <td>0-5x-long-altcoin-index-token</td>\n",
       "      <td>althalf</td>\n",
       "      <td>althalf</td>\n",
       "      <td>ethereum</td>\n",
       "      <td>nan</td>\n",
       "      <td>[]</td>\n",
       "      <td>0.5X Long Altcoin Index Token (ALTHALF) is an ...</td>\n",
       "      <td>nan</td>\n",
       "      <td>NaN</td>\n",
       "      <td>NaN</td>\n",
       "      <td>NaN</td>\n",
       "      <td>13244</td>\n",
       "      <td>0.0</td>\n",
       "      <td>0.0</td>\n",
       "      <td>0.0</td>\n",
       "      <td>0.0</td>\n",
       "      <td>NaN</td>\n",
       "    </tr>\n",
       "    <tr>\n",
       "      <th>3</th>\n",
       "      <td>0-5x-long-ascendex-token-token</td>\n",
       "      <td>asdhalf</td>\n",
       "      <td>asdhalf</td>\n",
       "      <td>ethereum</td>\n",
       "      <td>nan</td>\n",
       "      <td>[]</td>\n",
       "      <td>0.5X Long AscendEx Token (BTMX) Token (ASDHALF...</td>\n",
       "      <td>nan</td>\n",
       "      <td>NaN</td>\n",
       "      <td>NaN</td>\n",
       "      <td>NaN</td>\n",
       "      <td>13159</td>\n",
       "      <td>0.0</td>\n",
       "      <td>0.0</td>\n",
       "      <td>0.0</td>\n",
       "      <td>0.0</td>\n",
       "      <td>NaN</td>\n",
       "    </tr>\n",
       "    <tr>\n",
       "      <th>4</th>\n",
       "      <td>0-5x-long-bitcoin-cash-token</td>\n",
       "      <td>bchhalf</td>\n",
       "      <td>bchhalf</td>\n",
       "      <td>ethereum</td>\n",
       "      <td>nan</td>\n",
       "      <td>[]</td>\n",
       "      <td>0.5X Long Bitcoin Cash Token (BCHHALF) is an E...</td>\n",
       "      <td>nan</td>\n",
       "      <td>NaN</td>\n",
       "      <td>NaN</td>\n",
       "      <td>NaN</td>\n",
       "      <td>12978</td>\n",
       "      <td>0.2</td>\n",
       "      <td>0.0</td>\n",
       "      <td>1.0</td>\n",
       "      <td>0.0</td>\n",
       "      <td>NaN</td>\n",
       "    </tr>\n",
       "  </tbody>\n",
       "</table>\n",
       "</div>"
      ],
      "text/plain": [
       "                               id    symbol      name asset_platform_id  \\\n",
       "0                          01coin       zoc       zoc               nan   \n",
       "1        0-5x-long-algorand-token  algohalf  algohalf          ethereum   \n",
       "2   0-5x-long-altcoin-index-token   althalf   althalf          ethereum   \n",
       "3  0-5x-long-ascendex-token-token   asdhalf   asdhalf          ethereum   \n",
       "4    0-5x-long-bitcoin-cash-token   bchhalf   bchhalf          ethereum   \n",
       "\n",
       "  hashing_algorithm     categories  \\\n",
       "0         NeoScrypt  [Masternodes]   \n",
       "1               nan             []   \n",
       "2               nan             []   \n",
       "3               nan             []   \n",
       "4               nan             []   \n",
       "\n",
       "                                         description country_origin  \\\n",
       "0                                                               nan   \n",
       "1  0.5X Long Algorand Token (ALGOHALF) is an ERC2...            nan   \n",
       "2  0.5X Long Altcoin Index Token (ALTHALF) is an ...            nan   \n",
       "3  0.5X Long AscendEx Token (BTMX) Token (ASDHALF...            nan   \n",
       "4  0.5X Long Bitcoin Cash Token (BCHHALF) is an E...            nan   \n",
       "\n",
       "   sentiment_votes_up_percentage  sentiment_votes_down_percentage  \\\n",
       "0                            NaN                              NaN   \n",
       "1                            NaN                              NaN   \n",
       "2                            NaN                              NaN   \n",
       "3                            NaN                              NaN   \n",
       "4                            NaN                              NaN   \n",
       "\n",
       "   market_cap_rank coingecko_rank coingecko_score community_score  \\\n",
       "0              NaN           2463          14.726          15.272   \n",
       "1              NaN          12804             0.2             0.0   \n",
       "2              NaN          13244             0.0             0.0   \n",
       "3              NaN          13159             0.0             0.0   \n",
       "4              NaN          12978             0.2             0.0   \n",
       "\n",
       "  liquidity_score  twitter_followers  telegram_channel_user_count  \n",
       "0             1.0              366.0                        243.0  \n",
       "1             1.0                0.0                          NaN  \n",
       "2             0.0                0.0                          NaN  \n",
       "3             0.0                0.0                          NaN  \n",
       "4             1.0                0.0                          NaN  "
      ]
     },
     "execution_count": 100,
     "metadata": {},
     "output_type": "execute_result"
    }
   ],
   "source": [
    "y_val = pd.read_csv('..//y_values.csv')\n",
    "\n",
    "df = pd.read_parquet('..//raw_data//coin_id_formated.parquet')\n",
    "df.head()"
   ]
  },
  {
   "cell_type": "code",
   "execution_count": 101,
   "id": "8fbb3e07-4b3d-4ba5-b7e3-9cd808730a75",
   "metadata": {},
   "outputs": [],
   "source": [
    "str_cols = ['id', 'symbol', 'name', 'asset_platform_id', 'hashing_algorithm','description','country_origin']\n",
    "df[str_cols] = df[str_cols].astype(str)\n",
    "float_cols = ['sentiment_votes_up_percentage', 'sentiment_votes_down_percentage','market_cap_rank', ]\n",
    "df[float_cols] = df[float_cols].astype(float)\n",
    "int_cols = ['coingecko_rank', 'coingecko_score','community_score', 'liquidity_score', 'twitter_followers',\n",
    "       'telegram_channel_user_count']       \n",
    "df[int_cols] = df[int_cols].astype(float)\n"
   ]
  },
  {
   "cell_type": "markdown",
   "id": "44bcb0fe",
   "metadata": {},
   "source": [
    "### Analisando as categorias"
   ]
  },
  {
   "cell_type": "code",
   "execution_count": 102,
   "id": "1290e9e3",
   "metadata": {},
   "outputs": [],
   "source": [
    "df['categories'] = [\n",
    "    x.tolist() if len(x.tolist()) != 0 else [None] for x in df['categories']\n",
    "]\n",
    "catHandler = pd.DataFrame(df['categories'].to_list(),\n",
    "                          index=df['id']).values.ravel('K')\n",
    "\n",
    "uniCats = pd.unique(catHandler)\n",
    "uniCats = [x for x in uniCats if (x != None)]\n",
    "\n",
    "df_cat_dummies = pd.DataFrame(index=df.id, columns=uniCats)\n",
    "\n",
    "for coin, categories in df[['id', 'categories']].to_numpy():\n",
    "\n",
    "    for categorie in categories:\n",
    "\n",
    "        df_cat_dummies.loc[coin, categorie] = 1\n",
    "        \n",
    "df_cat_dummies.drop([None], axis=1, inplace=True)"
   ]
  },
  {
   "cell_type": "code",
   "execution_count": 103,
   "id": "525bc179",
   "metadata": {},
   "outputs": [],
   "source": [
    "df_cat_dummies = df_cat_dummies.fillna(0).astype(int)"
   ]
  },
  {
   "cell_type": "code",
   "execution_count": 104,
   "metadata": {},
   "outputs": [
    {
     "name": "stdout",
     "output_type": "stream",
     "text": [
      "Fantom Ecosystem\n",
      "Binance Smart Chain Ecosystem\n",
      "Near Protocol Ecosystem\n",
      "DaoMaker Ecosystem\n",
      "Polygon Ecosystem\n",
      "Avalanche Ecosystem\n",
      "Polkadot Ecosystem\n",
      "xDAI Ecosystem\n",
      "Cosmos Ecosystem\n",
      "Yearn Ecosystem\n",
      "Solana Ecosystem\n",
      "Terra Ecosystem\n",
      "Arbitrum Ecosystem\n",
      "Harmony Ecosystem\n",
      "HECO Chain Ecosystem\n",
      "Celo Ecosystem\n"
     ]
    }
   ],
   "source": [
    "ecossystens = []\n",
    "cats = []\n",
    "for x in df_cat_dummies.columns:\n",
    "    if x.split()[-1] == 'Ecosystem':\n",
    "        ecossystens.append(x)\n",
    "    else:\n",
    "        cats.append(x)"
   ]
  },
  {
   "cell_type": "code",
   "execution_count": 105,
   "id": "10ba9d91",
   "metadata": {},
   "outputs": [
    {
     "data": {
      "text/plain": [
       "<AxesSubplot:>"
      ]
     },
     "execution_count": 105,
     "metadata": {},
     "output_type": "execute_result"
    },
    {
     "data": {
      "image/png": "[encoded data removed]",
      "text/plain": [
       "<Figure size 2160x720 with 1 Axes>"
      ]
     },
     "metadata": {
      "needs_background": "light"
     },
     "output_type": "display_data"
    }
   ],
   "source": [
    "import matplotlib.pyplot as plt\n",
    "\n",
    "plt.figure(figsize=(30, 10))\n",
    "df_cat_dummies[cats].sum().plot(kind='bar')"
   ]
  },
  {
   "cell_type": "code",
   "execution_count": 106,
   "id": "c8708473",
   "metadata": {},
   "outputs": [
    {
     "data": {
      "text/plain": [
       "<AxesSubplot:>"
      ]
     },
     "execution_count": 106,
     "metadata": {},
     "output_type": "execute_result"
    },
    {
     "data": {
      "image/png": "[encoded data removed]",
      "text/plain": [
       "<Figure size 2160x720 with 1 Axes>"
      ]
     },
     "metadata": {
      "needs_background": "light"
     },
     "output_type": "display_data"
    }
   ],
   "source": [
    "plt.figure(figsize=(30, 10))\n",
    "df_cat_dummies[ecossystens].sum().plot(kind='bar')"
   ]
  },
  {
   "cell_type": "code",
   "execution_count": 9,
   "id": "db23ac24",
   "metadata": {},
   "outputs": [],
   "source": [
    "df_cat_dummies.to_parquet(\"../raw_data/dummy_categories.parquet.gzip\")"
   ]
  },
  {
   "cell_type": "code",
   "execution_count": 10,
   "id": "38e5157a",
   "metadata": {},
   "outputs": [],
   "source": [
    "df_completo_categorias = df.merge(df_cat_dummies, left_on=\"id\", right_index=True).drop(\"categories\", axis=1)"
   ]
  },
  {
   "cell_type": "code",
   "execution_count": 11,
   "id": "e0ea4bf8",
   "metadata": {},
   "outputs": [],
   "source": [
    "df_completo_categorias.to_parquet(\"../raw_data/coin_id_with_categories.parquet.gzip\")"
   ]
  },
  {
   "cell_type": "code",
   "execution_count": 12,
   "id": "94d0abe4",
   "metadata": {},
   "outputs": [],
   "source": [
    "y_val = y_val.replace([np.inf, -np.inf], np.nan).fillna(0)"
   ]
  },
  {
   "cell_type": "code",
   "execution_count": 13,
   "id": "089729af",
   "metadata": {},
   "outputs": [],
   "source": [
    "df_completo_y = df_completo_categorias.merge(y_val, left_on='id', right_on='Unnamed: 0').drop(\"Unnamed: 0\", axis=1)\n",
    "df_completo_y.to_parquet(\"../coin_COMPLETO.parquet.gzip\")"
   ]
  },
  {
   "cell_type": "markdown",
   "id": "250dc15c-ac76-441e-bd83-ba9ff25ce675",
   "metadata": {},
   "source": [
    "## Modelo de Regressao"
   ]
  },
  {
   "cell_type": "code",
   "execution_count": 2,
   "id": "09c184f9",
   "metadata": {},
   "outputs": [],
   "source": [
    "df_completo_y = pd.read_parquet(\"../coin_COMPLETO.parquet.gzip\")"
   ]
  },
  {
   "cell_type": "markdown",
   "id": "d9044439-cd53-43c7-99d1-14e948326d56",
   "metadata": {},
   "source": [
    "###  Analise de Variaveis"
   ]
  },
  {
   "cell_type": "code",
   "execution_count": 15,
   "id": "58d42a07",
   "metadata": {},
   "outputs": [
    {
     "data": {
      "text/html": [
       "<div>\n",
       "<style scoped>\n",
       "    .dataframe tbody tr th:only-of-type {\n",
       "        vertical-align: middle;\n",
       "    }\n",
       "\n",
       "    .dataframe tbody tr th {\n",
       "        vertical-align: top;\n",
       "    }\n",
       "\n",
       "    .dataframe thead th {\n",
       "        text-align: right;\n",
       "    }\n",
       "</style>\n",
       "<table border=\"1\" class=\"dataframe\">\n",
       "  <thead>\n",
       "    <tr style=\"text-align: right;\">\n",
       "      <th></th>\n",
       "      <th>sentiment_votes_up_percentage</th>\n",
       "      <th>sentiment_votes_down_percentage</th>\n",
       "      <th>market_cap_rank</th>\n",
       "      <th>coingecko_rank</th>\n",
       "      <th>coingecko_score</th>\n",
       "      <th>community_score</th>\n",
       "      <th>liquidity_score</th>\n",
       "      <th>twitter_followers</th>\n",
       "      <th>telegram_channel_user_count</th>\n",
       "      <th>Masternodes</th>\n",
       "      <th>...</th>\n",
       "      <th>GBP Stablecoin</th>\n",
       "      <th>NFT Index</th>\n",
       "      <th>launch_price</th>\n",
       "      <th>0days_price</th>\n",
       "      <th>4days_price</th>\n",
       "      <th>16days_price</th>\n",
       "      <th>28days_price</th>\n",
       "      <th>90days_price</th>\n",
       "      <th>180days_price</th>\n",
       "      <th>360days_price</th>\n",
       "    </tr>\n",
       "  </thead>\n",
       "  <tbody>\n",
       "    <tr>\n",
       "      <th>count</th>\n",
       "      <td>5388.000000</td>\n",
       "      <td>5388.000000</td>\n",
       "      <td>3793.000000</td>\n",
       "      <td>13110.000000</td>\n",
       "      <td>13241.000000</td>\n",
       "      <td>13241.000000</td>\n",
       "      <td>13241.000000</td>\n",
       "      <td>1.324100e+04</td>\n",
       "      <td>1.110500e+04</td>\n",
       "      <td>13241.000000</td>\n",
       "      <td>...</td>\n",
       "      <td>13241.000000</td>\n",
       "      <td>13241.000000</td>\n",
       "      <td>1.324100e+04</td>\n",
       "      <td>13241.000000</td>\n",
       "      <td>1.324100e+04</td>\n",
       "      <td>1.324100e+04</td>\n",
       "      <td>1.324100e+04</td>\n",
       "      <td>1.324100e+04</td>\n",
       "      <td>1.324100e+04</td>\n",
       "      <td>1.324100e+04</td>\n",
       "    </tr>\n",
       "    <tr>\n",
       "      <th>mean</th>\n",
       "      <td>72.636611</td>\n",
       "      <td>27.363400</td>\n",
       "      <td>1907.529133</td>\n",
       "      <td>6686.260564</td>\n",
       "      <td>7.963948</td>\n",
       "      <td>11.003455</td>\n",
       "      <td>6.053937</td>\n",
       "      <td>3.887708e+04</td>\n",
       "      <td>1.170131e+04</td>\n",
       "      <td>0.008156</td>\n",
       "      <td>...</td>\n",
       "      <td>0.000076</td>\n",
       "      <td>0.000378</td>\n",
       "      <td>3.155201e+09</td>\n",
       "      <td>0.741237</td>\n",
       "      <td>7.667472e+07</td>\n",
       "      <td>8.267461e+07</td>\n",
       "      <td>4.993490e+08</td>\n",
       "      <td>7.185643e+08</td>\n",
       "      <td>4.713738e+08</td>\n",
       "      <td>1.302232e+08</td>\n",
       "    </tr>\n",
       "    <tr>\n",
       "      <th>std</th>\n",
       "      <td>34.599060</td>\n",
       "      <td>34.599059</td>\n",
       "      <td>1127.557862</td>\n",
       "      <td>3910.932547</td>\n",
       "      <td>9.306983</td>\n",
       "      <td>9.828820</td>\n",
       "      <td>12.036557</td>\n",
       "      <td>2.530246e+05</td>\n",
       "      <td>2.973868e+04</td>\n",
       "      <td>0.089948</td>\n",
       "      <td>...</td>\n",
       "      <td>0.008690</td>\n",
       "      <td>0.019429</td>\n",
       "      <td>3.630488e+11</td>\n",
       "      <td>37.983683</td>\n",
       "      <td>8.822153e+09</td>\n",
       "      <td>9.355342e+09</td>\n",
       "      <td>3.981708e+10</td>\n",
       "      <td>6.854678e+10</td>\n",
       "      <td>4.145491e+10</td>\n",
       "      <td>1.498473e+10</td>\n",
       "    </tr>\n",
       "    <tr>\n",
       "      <th>min</th>\n",
       "      <td>0.000000</td>\n",
       "      <td>0.000000</td>\n",
       "      <td>1.000000</td>\n",
       "      <td>1.000000</td>\n",
       "      <td>0.000000</td>\n",
       "      <td>0.000000</td>\n",
       "      <td>0.000000</td>\n",
       "      <td>0.000000e+00</td>\n",
       "      <td>2.000000e+00</td>\n",
       "      <td>0.000000</td>\n",
       "      <td>...</td>\n",
       "      <td>0.000000</td>\n",
       "      <td>0.000000</td>\n",
       "      <td>0.000000e+00</td>\n",
       "      <td>-1.000000</td>\n",
       "      <td>-1.000000e+00</td>\n",
       "      <td>-1.000000e+00</td>\n",
       "      <td>-1.000000e+00</td>\n",
       "      <td>-1.000000e+00</td>\n",
       "      <td>-3.717057e+00</td>\n",
       "      <td>-1.000000e+00</td>\n",
       "    </tr>\n",
       "    <tr>\n",
       "      <th>25%</th>\n",
       "      <td>50.000000</td>\n",
       "      <td>0.000000</td>\n",
       "      <td>950.000000</td>\n",
       "      <td>3289.250000</td>\n",
       "      <td>1.826000</td>\n",
       "      <td>6.373000</td>\n",
       "      <td>1.000000</td>\n",
       "      <td>4.840000e+02</td>\n",
       "      <td>9.690000e+02</td>\n",
       "      <td>0.000000</td>\n",
       "      <td>...</td>\n",
       "      <td>0.000000</td>\n",
       "      <td>0.000000</td>\n",
       "      <td>1.314000e-03</td>\n",
       "      <td>-0.040953</td>\n",
       "      <td>-3.259000e-01</td>\n",
       "      <td>-5.490360e-01</td>\n",
       "      <td>-6.842105e-01</td>\n",
       "      <td>-8.469926e-01</td>\n",
       "      <td>-7.451852e-01</td>\n",
       "      <td>-4.053076e-03</td>\n",
       "    </tr>\n",
       "    <tr>\n",
       "      <th>50%</th>\n",
       "      <td>87.500000</td>\n",
       "      <td>12.500000</td>\n",
       "      <td>1903.000000</td>\n",
       "      <td>6621.500000</td>\n",
       "      <td>4.013000</td>\n",
       "      <td>8.644000</td>\n",
       "      <td>1.000000</td>\n",
       "      <td>5.344000e+03</td>\n",
       "      <td>3.202000e+03</td>\n",
       "      <td>0.000000</td>\n",
       "      <td>...</td>\n",
       "      <td>0.000000</td>\n",
       "      <td>0.000000</td>\n",
       "      <td>6.995000e-02</td>\n",
       "      <td>0.000000</td>\n",
       "      <td>-7.950719e-02</td>\n",
       "      <td>-2.062044e-01</td>\n",
       "      <td>-3.263436e-01</td>\n",
       "      <td>-4.425299e-01</td>\n",
       "      <td>0.000000e+00</td>\n",
       "      <td>0.000000e+00</td>\n",
       "    </tr>\n",
       "    <tr>\n",
       "      <th>75%</th>\n",
       "      <td>100.000000</td>\n",
       "      <td>50.000000</td>\n",
       "      <td>2853.000000</td>\n",
       "      <td>10105.500000</td>\n",
       "      <td>12.032000</td>\n",
       "      <td>10.830000</td>\n",
       "      <td>3.453000</td>\n",
       "      <td>2.512800e+04</td>\n",
       "      <td>1.103700e+04</td>\n",
       "      <td>0.000000</td>\n",
       "      <td>...</td>\n",
       "      <td>0.000000</td>\n",
       "      <td>0.000000</td>\n",
       "      <td>1.070000e+00</td>\n",
       "      <td>0.000000</td>\n",
       "      <td>7.189542e-02</td>\n",
       "      <td>6.784137e-02</td>\n",
       "      <td>1.980198e-02</td>\n",
       "      <td>0.000000e+00</td>\n",
       "      <td>0.000000e+00</td>\n",
       "      <td>0.000000e+00</td>\n",
       "    </tr>\n",
       "    <tr>\n",
       "      <th>max</th>\n",
       "      <td>100.000000</td>\n",
       "      <td>100.000000</td>\n",
       "      <td>13284.000000</td>\n",
       "      <td>13510.000000</td>\n",
       "      <td>81.034000</td>\n",
       "      <td>85.250000</td>\n",
       "      <td>106.715000</td>\n",
       "      <td>1.186877e+07</td>\n",
       "      <td>1.432776e+06</td>\n",
       "      <td>1.000000</td>\n",
       "      <td>...</td>\n",
       "      <td>1.000000</td>\n",
       "      <td>1.000000</td>\n",
       "      <td>4.177586e+13</td>\n",
       "      <td>2683.365782</td>\n",
       "      <td>1.015161e+12</td>\n",
       "      <td>1.076402e+12</td>\n",
       "      <td>4.310528e+12</td>\n",
       "      <td>7.791093e+12</td>\n",
       "      <td>4.400987e+12</td>\n",
       "      <td>1.724286e+12</td>\n",
       "    </tr>\n",
       "  </tbody>\n",
       "</table>\n",
       "<p>8 rows × 133 columns</p>\n",
       "</div>"
      ],
      "text/plain": [
       "       sentiment_votes_up_percentage  sentiment_votes_down_percentage  \\\n",
       "count                    5388.000000                      5388.000000   \n",
       "mean                       72.636611                        27.363400   \n",
       "std                        34.599060                        34.599059   \n",
       "min                         0.000000                         0.000000   \n",
       "25%                        50.000000                         0.000000   \n",
       "50%                        87.500000                        12.500000   \n",
       "75%                       100.000000                        50.000000   \n",
       "max                       100.000000                       100.000000   \n",
       "\n",
       "       market_cap_rank  coingecko_rank  coingecko_score  community_score  \\\n",
       "count      3793.000000    13110.000000     13241.000000     13241.000000   \n",
       "mean       1907.529133     6686.260564         7.963948        11.003455   \n",
       "std        1127.557862     3910.932547         9.306983         9.828820   \n",
       "min           1.000000        1.000000         0.000000         0.000000   \n",
       "25%         950.000000     3289.250000         1.826000         6.373000   \n",
       "50%        1903.000000     6621.500000         4.013000         8.644000   \n",
       "75%        2853.000000    10105.500000        12.032000        10.830000   \n",
       "max       13284.000000    13510.000000        81.034000        85.250000   \n",
       "\n",
       "       liquidity_score  twitter_followers  telegram_channel_user_count  \\\n",
       "count     13241.000000       1.324100e+04                 1.110500e+04   \n",
       "mean          6.053937       3.887708e+04                 1.170131e+04   \n",
       "std          12.036557       2.530246e+05                 2.973868e+04   \n",
       "min           0.000000       0.000000e+00                 2.000000e+00   \n",
       "25%           1.000000       4.840000e+02                 9.690000e+02   \n",
       "50%           1.000000       5.344000e+03                 3.202000e+03   \n",
       "75%           3.453000       2.512800e+04                 1.103700e+04   \n",
       "max         106.715000       1.186877e+07                 1.432776e+06   \n",
       "\n",
       "        Masternodes  ...  GBP Stablecoin     NFT Index  launch_price  \\\n",
       "count  13241.000000  ...    13241.000000  13241.000000  1.324100e+04   \n",
       "mean       0.008156  ...        0.000076      0.000378  3.155201e+09   \n",
       "std        0.089948  ...        0.008690      0.019429  3.630488e+11   \n",
       "min        0.000000  ...        0.000000      0.000000  0.000000e+00   \n",
       "25%        0.000000  ...        0.000000      0.000000  1.314000e-03   \n",
       "50%        0.000000  ...        0.000000      0.000000  6.995000e-02   \n",
       "75%        0.000000  ...        0.000000      0.000000  1.070000e+00   \n",
       "max        1.000000  ...        1.000000      1.000000  4.177586e+13   \n",
       "\n",
       "        0days_price   4days_price  16days_price  28days_price  90days_price  \\\n",
       "count  13241.000000  1.324100e+04  1.324100e+04  1.324100e+04  1.324100e+04   \n",
       "mean       0.741237  7.667472e+07  8.267461e+07  4.993490e+08  7.185643e+08   \n",
       "std       37.983683  8.822153e+09  9.355342e+09  3.981708e+10  6.854678e+10   \n",
       "min       -1.000000 -1.000000e+00 -1.000000e+00 -1.000000e+00 -1.000000e+00   \n",
       "25%       -0.040953 -3.259000e-01 -5.490360e-01 -6.842105e-01 -8.469926e-01   \n",
       "50%        0.000000 -7.950719e-02 -2.062044e-01 -3.263436e-01 -4.425299e-01   \n",
       "75%        0.000000  7.189542e-02  6.784137e-02  1.980198e-02  0.000000e+00   \n",
       "max     2683.365782  1.015161e+12  1.076402e+12  4.310528e+12  7.791093e+12   \n",
       "\n",
       "       180days_price  360days_price  \n",
       "count   1.324100e+04   1.324100e+04  \n",
       "mean    4.713738e+08   1.302232e+08  \n",
       "std     4.145491e+10   1.498473e+10  \n",
       "min    -3.717057e+00  -1.000000e+00  \n",
       "25%    -7.451852e-01  -4.053076e-03  \n",
       "50%     0.000000e+00   0.000000e+00  \n",
       "75%     0.000000e+00   0.000000e+00  \n",
       "max     4.400987e+12   1.724286e+12  \n",
       "\n",
       "[8 rows x 133 columns]"
      ]
     },
     "execution_count": 15,
     "metadata": {},
     "output_type": "execute_result"
    }
   ],
   "source": [
    "df_completo_y.describe()\n"
   ]
  },
  {
   "cell_type": "code",
   "execution_count": 16,
   "id": "43685772",
   "metadata": {},
   "outputs": [
    {
     "data": {
      "text/plain": [
       "<AxesSubplot:ylabel='Frequency'>"
      ]
     },
     "execution_count": 16,
     "metadata": {},
     "output_type": "execute_result"
    },
    {
     "data": {
      "image/png": "[encoded data removed]",
      "text/plain": [
       "<Figure size 432x288 with 1 Axes>"
      ]
     },
     "metadata": {
      "needs_background": "light"
     },
     "output_type": "display_data"
    }
   ],
   "source": [
    "df[df['coingecko_rank'] != 0]['coingecko_rank'].plot(kind='hist', bins=150)\n"
   ]
  },
  {
   "cell_type": "code",
   "execution_count": 17,
   "id": "eadf1c1b",
   "metadata": {},
   "outputs": [
    {
     "data": {
      "text/plain": [
       "<AxesSubplot:ylabel='Frequency'>"
      ]
     },
     "execution_count": 17,
     "metadata": {},
     "output_type": "execute_result"
    },
    {
     "data": {
      "image/png": "[encoded data removed]",
      "text/plain": [
       "<Figure size 432x288 with 1 Axes>"
      ]
     },
     "metadata": {
      "needs_background": "light"
     },
     "output_type": "display_data"
    }
   ],
   "source": [
    "df[df['coingecko_score'] != 0]['coingecko_score'].plot(kind='hist', bins=1500)\n"
   ]
  },
  {
   "cell_type": "code",
   "execution_count": 18,
   "id": "32ae06eb",
   "metadata": {},
   "outputs": [
    {
     "data": {
      "text/plain": [
       "<AxesSubplot:ylabel='Frequency'>"
      ]
     },
     "execution_count": 18,
     "metadata": {},
     "output_type": "execute_result"
    },
    {
     "data": {
      "image/png": "[encoded data removed]",
      "text/plain": [
       "<Figure size 432x288 with 1 Axes>"
      ]
     },
     "metadata": {
      "needs_background": "light"
     },
     "output_type": "display_data"
    }
   ],
   "source": [
    "df[df['community_score'] != 0]['community_score'].plot(kind='hist', bins=1500)\n"
   ]
  },
  {
   "cell_type": "code",
   "execution_count": 19,
   "id": "f1f55d96",
   "metadata": {},
   "outputs": [
    {
     "data": {
      "text/plain": [
       "<AxesSubplot:ylabel='Frequency'>"
      ]
     },
     "execution_count": 19,
     "metadata": {},
     "output_type": "execute_result"
    },
    {
     "data": {
      "image/png": "[encoded data removed]",
      "text/plain": [
       "<Figure size 432x288 with 1 Axes>"
      ]
     },
     "metadata": {
      "needs_background": "light"
     },
     "output_type": "display_data"
    }
   ],
   "source": [
    "df[df['liquidity_score'] != 0]['liquidity_score'].plot(kind='hist')\n"
   ]
  },
  {
   "cell_type": "code",
   "execution_count": 20,
   "id": "cd109fdd",
   "metadata": {},
   "outputs": [
    {
     "data": {
      "text/plain": [
       "<AxesSubplot:ylabel='Frequency'>"
      ]
     },
     "execution_count": 20,
     "metadata": {},
     "output_type": "execute_result"
    },
    {
     "data": {
      "image/png": "[encoded data removed]",
      "text/plain": [
       "<Figure size 432x288 with 1 Axes>"
      ]
     },
     "metadata": {
      "needs_background": "light"
     },
     "output_type": "display_data"
    }
   ],
   "source": [
    "df[df['twitter_followers'] != 0]['twitter_followers'].plot(kind='hist')\n"
   ]
  },
  {
   "cell_type": "markdown",
   "id": "d7291bea",
   "metadata": {},
   "source": [
    "### Build Pipeline"
   ]
  },
  {
   "cell_type": "markdown",
   "id": "d2eba46d",
   "metadata": {},
   "source": [
    "#### Modelo Individual"
   ]
  },
  {
   "cell_type": "markdown",
   "id": "36c2ec7f",
   "metadata": {},
   "source": [
    "##### Foram removidos os coins que multiplicaram o capital mais de 5 vezes no periodo de 16 dias e as que moedas que tiveram o retorno = -0.999"
   ]
  },
  {
   "cell_type": "code",
   "execution_count": 85,
   "id": "a4bed535",
   "metadata": {},
   "outputs": [],
   "source": [
    "df_aaaa = df_completo_y[(df_completo_y['16days_price']<5) & (df_completo_y['16days_price'] > -0.999) ].fillna(0).drop(['description', 'id', 'symbol', 'name','coingecko_rank','market_cap_rank'], axis=1)"
   ]
  },
  {
   "cell_type": "code",
   "execution_count": 92,
   "id": "79636783",
   "metadata": {},
   "outputs": [
    {
     "data": {
      "text/html": [
       "<style>#sk-75dc6355-ea54-4119-93d7-a78c81d36ad3 {color: black;background-color: white;}#sk-75dc6355-ea54-4119-93d7-a78c81d36ad3 pre{padding: 0;}#sk-75dc6355-ea54-4119-93d7-a78c81d36ad3 div.sk-toggleable {background-color: white;}#sk-75dc6355-ea54-4119-93d7-a78c81d36ad3 label.sk-toggleable__label {cursor: pointer;display: block;width: 100%;margin-bottom: 0;padding: 0.2em 0.3em;box-sizing: border-box;text-align: center;}#sk-75dc6355-ea54-4119-93d7-a78c81d36ad3 div.sk-toggleable__content {max-height: 0;max-width: 0;overflow: hidden;text-align: left;background-color: #f0f8ff;}#sk-75dc6355-ea54-4119-93d7-a78c81d36ad3 div.sk-toggleable__content pre {margin: 0.2em;color: black;border-radius: 0.25em;background-color: #f0f8ff;}#sk-75dc6355-ea54-4119-93d7-a78c81d36ad3 input.sk-toggleable__control:checked~div.sk-toggleable__content {max-height: 200px;max-width: 100%;overflow: auto;}#sk-75dc6355-ea54-4119-93d7-a78c81d36ad3 div.sk-estimator input.sk-toggleable__control:checked~label.sk-toggleable__label {background-color: #d4ebff;}#sk-75dc6355-ea54-4119-93d7-a78c81d36ad3 div.sk-label input.sk-toggleable__control:checked~label.sk-toggleable__label {background-color: #d4ebff;}#sk-75dc6355-ea54-4119-93d7-a78c81d36ad3 input.sk-hidden--visually {border: 0;clip: rect(1px 1px 1px 1px);clip: rect(1px, 1px, 1px, 1px);height: 1px;margin: -1px;overflow: hidden;padding: 0;position: absolute;width: 1px;}#sk-75dc6355-ea54-4119-93d7-a78c81d36ad3 div.sk-estimator {font-family: monospace;background-color: #f0f8ff;margin: 0.25em 0.25em;border: 1px dotted black;border-radius: 0.25em;box-sizing: border-box;}#sk-75dc6355-ea54-4119-93d7-a78c81d36ad3 div.sk-estimator:hover {background-color: #d4ebff;}#sk-75dc6355-ea54-4119-93d7-a78c81d36ad3 div.sk-parallel-item::after {content: \"\";width: 100%;border-bottom: 1px solid gray;flex-grow: 1;}#sk-75dc6355-ea54-4119-93d7-a78c81d36ad3 div.sk-label:hover label.sk-toggleable__label {background-color: #d4ebff;}#sk-75dc6355-ea54-4119-93d7-a78c81d36ad3 div.sk-serial::before {content: \"\";position: absolute;border-left: 1px solid gray;box-sizing: border-box;top: 2em;bottom: 0;left: 50%;}#sk-75dc6355-ea54-4119-93d7-a78c81d36ad3 div.sk-serial {display: flex;flex-direction: column;align-items: center;background-color: white;}#sk-75dc6355-ea54-4119-93d7-a78c81d36ad3 div.sk-item {z-index: 1;}#sk-75dc6355-ea54-4119-93d7-a78c81d36ad3 div.sk-parallel {display: flex;align-items: stretch;justify-content: center;background-color: white;}#sk-75dc6355-ea54-4119-93d7-a78c81d36ad3 div.sk-parallel-item {display: flex;flex-direction: column;position: relative;background-color: white;}#sk-75dc6355-ea54-4119-93d7-a78c81d36ad3 div.sk-parallel-item:first-child::after {align-self: flex-end;width: 50%;}#sk-75dc6355-ea54-4119-93d7-a78c81d36ad3 div.sk-parallel-item:last-child::after {align-self: flex-start;width: 50%;}#sk-75dc6355-ea54-4119-93d7-a78c81d36ad3 div.sk-parallel-item:only-child::after {width: 0;}#sk-75dc6355-ea54-4119-93d7-a78c81d36ad3 div.sk-dashed-wrapped {border: 1px dashed gray;margin: 0.2em;box-sizing: border-box;padding-bottom: 0.1em;background-color: white;position: relative;}#sk-75dc6355-ea54-4119-93d7-a78c81d36ad3 div.sk-label label {font-family: monospace;font-weight: bold;background-color: white;display: inline-block;line-height: 1.2em;}#sk-75dc6355-ea54-4119-93d7-a78c81d36ad3 div.sk-label-container {position: relative;z-index: 2;text-align: center;}#sk-75dc6355-ea54-4119-93d7-a78c81d36ad3 div.sk-container {display: inline-block;position: relative;}</style><div id=\"sk-75dc6355-ea54-4119-93d7-a78c81d36ad3\" class\"sk-top-container\"><div class=\"sk-container\"><div class=\"sk-item sk-dashed-wrapped\"><div class=\"sk-label-container\"><div class=\"sk-label sk-toggleable\"><input class=\"sk-toggleable__control sk-hidden--visually\" id=\"c451d24d-c552-4f01-b24a-62887ad948fe\" type=\"checkbox\" ><label class=\"sk-toggleable__label\" for=\"c451d24d-c552-4f01-b24a-62887ad948fe\">Pipeline</label><div class=\"sk-toggleable__content\"><pre>Pipeline(steps=[('preprocessing',\n",
       "                 ColumnTransformer(transformers=[('num_encoder', MinMaxScaler(),\n",
       "                                                  <sklearn.compose._column_transformer.make_column_selector object at 0x7f22c44bfa90>),\n",
       "                                                 ('cat_encoder',\n",
       "                                                  OneHotEncoder(handle_unknown='ignore',\n",
       "                                                                sparse=False),\n",
       "                                                  <sklearn.compose._column_transformer.make_column_selector object at 0x7f22c44bfbe0>)])),\n",
       "                ('XGBRegressor',\n",
       "                 XGBRe...\n",
       "                              grow_policy=None, importance_type=None,\n",
       "                              interaction_constraints=None, learning_rate=None,\n",
       "                              max_bin=None, max_cat_to_onehot=None,\n",
       "                              max_delta_step=None, max_depth=None, max_leaves=2,\n",
       "                              min_child_weight=None, missing=nan,\n",
       "                              monotone_constraints=None, n_estimators=100,\n",
       "                              n_jobs=None, num_parallel_tree=None,\n",
       "                              predictor=None, random_state=None, reg_alpha=None, ...))],\n",
       "         verbose=True)</pre></div></div></div><div class=\"sk-serial\"><div class=\"sk-item sk-dashed-wrapped\"><div class=\"sk-label-container\"><div class=\"sk-label sk-toggleable\"><input class=\"sk-toggleable__control sk-hidden--visually\" id=\"da08acbc-7bf0-49fd-9870-e65cb9194c8f\" type=\"checkbox\" ><label class=\"sk-toggleable__label\" for=\"da08acbc-7bf0-49fd-9870-e65cb9194c8f\">preprocessing: ColumnTransformer</label><div class=\"sk-toggleable__content\"><pre>ColumnTransformer(transformers=[('num_encoder', MinMaxScaler(),\n",
       "                                 <sklearn.compose._column_transformer.make_column_selector object at 0x7f22c44bfa90>),\n",
       "                                ('cat_encoder',\n",
       "                                 OneHotEncoder(handle_unknown='ignore',\n",
       "                                               sparse=False),\n",
       "                                 <sklearn.compose._column_transformer.make_column_selector object at 0x7f22c44bfbe0>)])</pre></div></div></div><div class=\"sk-parallel\"><div class=\"sk-parallel-item\"><div class=\"sk-item\"><div class=\"sk-label-container\"><div class=\"sk-label sk-toggleable\"><input class=\"sk-toggleable__control sk-hidden--visually\" id=\"d65fcc5e-1d88-4102-bcc7-623969e31eb8\" type=\"checkbox\" ><label class=\"sk-toggleable__label\" for=\"d65fcc5e-1d88-4102-bcc7-623969e31eb8\">num_encoder</label><div class=\"sk-toggleable__content\"><pre><sklearn.compose._column_transformer.make_column_selector object at 0x7f22c44bfa90></pre></div></div></div><div class=\"sk-serial\"><div class=\"sk-item\"><div class=\"sk-estimator sk-toggleable\"><input class=\"sk-toggleable__control sk-hidden--visually\" id=\"aa951c33-883d-4478-aff9-fb2ec3df94cd\" type=\"checkbox\" ><label class=\"sk-toggleable__label\" for=\"aa951c33-883d-4478-aff9-fb2ec3df94cd\">MinMaxScaler</label><div class=\"sk-toggleable__content\"><pre>MinMaxScaler()</pre></div></div></div></div></div></div><div class=\"sk-parallel-item\"><div class=\"sk-item\"><div class=\"sk-label-container\"><div class=\"sk-label sk-toggleable\"><input class=\"sk-toggleable__control sk-hidden--visually\" id=\"23571bac-8fe4-40a3-91a3-f98076a5af6d\" type=\"checkbox\" ><label class=\"sk-toggleable__label\" for=\"23571bac-8fe4-40a3-91a3-f98076a5af6d\">cat_encoder</label><div class=\"sk-toggleable__content\"><pre><sklearn.compose._column_transformer.make_column_selector object at 0x7f22c44bfbe0></pre></div></div></div><div class=\"sk-serial\"><div class=\"sk-item\"><div class=\"sk-estimator sk-toggleable\"><input class=\"sk-toggleable__control sk-hidden--visually\" id=\"931a9629-822d-4fce-80b3-b68d032e73bd\" type=\"checkbox\" ><label class=\"sk-toggleable__label\" for=\"931a9629-822d-4fce-80b3-b68d032e73bd\">OneHotEncoder</label><div class=\"sk-toggleable__content\"><pre>OneHotEncoder(handle_unknown='ignore', sparse=False)</pre></div></div></div></div></div></div></div></div><div class=\"sk-item\"><div class=\"sk-estimator sk-toggleable\"><input class=\"sk-toggleable__control sk-hidden--visually\" id=\"c06e8ccd-ac54-43fb-9661-b365a3cf1da3\" type=\"checkbox\" ><label class=\"sk-toggleable__label\" for=\"c06e8ccd-ac54-43fb-9661-b365a3cf1da3\">XGBRegressor</label><div class=\"sk-toggleable__content\"><pre>XGBRegressor(base_score=None, booster=None, callbacks=None,\n",
       "             colsample_bylevel=None, colsample_bynode=None,\n",
       "             colsample_bytree=None, early_stopping_rounds=None,\n",
       "             enable_categorical=False, eta=0.2, eval_metric=None, gamma=None,\n",
       "             gpu_id=None, grow_policy=None, importance_type=None,\n",
       "             interaction_constraints=None, learning_rate=None, max_bin=None,\n",
       "             max_cat_to_onehot=None, max_delta_step=None, max_depth=None,\n",
       "             max_leaves=2, min_child_weight=None, missing=nan,\n",
       "             monotone_constraints=None, n_estimators=100, n_jobs=None,\n",
       "             num_parallel_tree=None, predictor=None, random_state=None,\n",
       "             reg_alpha=None, ...)</pre></div></div></div></div></div></div></div>"
      ],
      "text/plain": [
       "Pipeline(steps=[('preprocessing',\n",
       "                 ColumnTransformer(transformers=[('num_encoder', MinMaxScaler(),\n",
       "                                                  <sklearn.compose._column_transformer.make_column_selector object at 0x7f22c44bfa90>),\n",
       "                                                 ('cat_encoder',\n",
       "                                                  OneHotEncoder(handle_unknown='ignore',\n",
       "                                                                sparse=False),\n",
       "                                                  <sklearn.compose._column_transformer.make_column_selector object at 0x7f22c44bfbe0>)])),\n",
       "                ('XGBRegressor',\n",
       "                 XGBRe...\n",
       "                              grow_policy=None, importance_type=None,\n",
       "                              interaction_constraints=None, learning_rate=None,\n",
       "                              max_bin=None, max_cat_to_onehot=None,\n",
       "                              max_delta_step=None, max_depth=None, max_leaves=2,\n",
       "                              min_child_weight=None, missing=nan,\n",
       "                              monotone_constraints=None, n_estimators=100,\n",
       "                              n_jobs=None, num_parallel_tree=None,\n",
       "                              predictor=None, random_state=None, reg_alpha=None, ...))],\n",
       "         verbose=True)"
      ]
     },
     "execution_count": 92,
     "metadata": {},
     "output_type": "execute_result"
    }
   ],
   "source": [
    "final_preprocessor = ColumnTransformer([\n",
    "    ('num_encoder', MinMaxScaler(),\n",
    "     make_column_selector(dtype_include=[\"float64\", 'int64'])),\n",
    "\n",
    "    ('cat_encoder', OneHotEncoder(handle_unknown='ignore', sparse=False),\n",
    "     make_column_selector(dtype_include=\"object\"))])\n",
    "\n",
    "mod = XGBRegressor(eta=0.2, max_leaves=2)\n",
    "pipe = Pipeline([('preprocessing', final_preprocessor),\n",
    "                 ('XGBRegressor', mod)], verbose=True)\n",
    "\n",
    "pipe"
   ]
  },
  {
   "cell_type": "code",
   "execution_count": 93,
   "id": "00875106",
   "metadata": {},
   "outputs": [
    {
     "name": "stdout",
     "output_type": "stream",
     "text": [
      "[Pipeline] ..... (step 1 of 2) Processing preprocessing, total=   0.0s\n",
      "[Pipeline] ...... (step 2 of 2) Processing XGBRegressor, total=  15.0s\n"
     ]
    }
   ],
   "source": [
    "X = df_aaaa[df_aaaa.columns[0:-9]]\n",
    "y = df_aaaa['16days_price']\n",
    "\n",
    "\n",
    "X_train, X_test, y_train, y_test = train_test_split(X, y, test_size=0.3)\n",
    "model = pipe.fit(X_train, y_train)\n"
   ]
  },
  {
   "cell_type": "code",
   "execution_count": 94,
   "id": "9d63a15e",
   "metadata": {},
   "outputs": [
    {
     "data": {
      "text/plain": [
       "[('asset_platform_id', 0.005156488623470068),\n",
       " ('hashing_algorithm', 0.005063088610768318),\n",
       " ('country_origin', 0.005982184316962957),\n",
       " ('sentiment_votes_up_percentage', 0.0057008047588169575),\n",
       " ('sentiment_votes_down_percentage', 0.009064163081347942),\n",
       " ('coingecko_score', 0.008071130141615868),\n",
       " ('community_score', 0.005593643989413977),\n",
       " ('liquidity_score', 0.0033023033756762743),\n",
       " ('twitter_followers', 0.0),\n",
       " ('telegram_channel_user_count', 0.0035770200192928314),\n",
       " ('Masternodes', 0.008088712580502033),\n",
       " ('Leveraged Token', 0.002310218522325158),\n",
       " ('Storage', 0.0001711103686830029),\n",
       " ('Decentralized Exchange Token (DEX)', 0.008422266691923141),\n",
       " ('Protocol', 0.005732252262532711),\n",
       " ('Fantom Ecosystem', 0.0019905914086848497),\n",
       " ('Number', 0.006616638973355293),\n",
       " ('Launchpad', 0.0),\n",
       " ('RealT Tokens', 0.0),\n",
       " ('Binance Smart Chain Ecosystem', 0.007990705780684948),\n",
       " ('Wallets', 0.0017166408943012357),\n",
       " ('Near Protocol Ecosystem', 0.0057692378759384155),\n",
       " ('Non-Fungible Tokens (NFT)', 0.010389736853539944),\n",
       " ('Gambling', 0.0),\n",
       " ('DaoMaker Ecosystem', 0.001441838569007814),\n",
       " ('Meme Tokens', 3.53786199411843e-05),\n",
       " ('Finance / Banking', 0.0024699789937585592),\n",
       " ('Index', 0.004902829881757498),\n",
       " ('Sports', 0.004574632737785578),\n",
       " ('Polygon Ecosystem', 0.012363401241600513),\n",
       " ('Energy', 0.006528897676616907),\n",
       " ('Seigniorage', 0.002260306617245078),\n",
       " ('Yield Aggregator', 0.0030936929397284985),\n",
       " ('Rebase Tokens', 0.0011605176841840148),\n",
       " ('Avalanche Ecosystem', 0.021700672805309296),\n",
       " ('Aave Tokens', 0.012836731970310211),\n",
       " ('Centralized Exchange Token (CEX)', 0.008361236192286015),\n",
       " ('Exchange-based Tokens', 0.0),\n",
       " ('Media', 0.0051553379744291306),\n",
       " ('Yield Farming', 0.0),\n",
       " ('Polkadot Ecosystem', 0.008497216738760471),\n",
       " ('Entertainment', 0.004230120684951544),\n",
       " ('Fan Token', 0.010165547020733356),\n",
       " ('Business Platform', 0.006463715806603432),\n",
       " ('Play To Earn', 0.005535968579351902),\n",
       " ('Communication', 0.004639697261154652),\n",
       " ('Business Services', 0.007427419535815716),\n",
       " ('Technology & Science', 0.007277182303369045),\n",
       " ('Governance', 0.008345363661646843),\n",
       " ('Infrastructure', 0.005576202645897865),\n",
       " ('Decentralized Finance (DeFi)', 0.010904300957918167),\n",
       " ('Privacy Coins', 0.0030663274228572845),\n",
       " ('Smart Contract Platform', 0.009503848850727081),\n",
       " ('Cryptocurrency', 0.0013543083332479),\n",
       " ('Retail', 0.0),\n",
       " ('xDAI Ecosystem', 0.0016009939135983586),\n",
       " ('Charity', 0.0019044161308556795),\n",
       " ('Legal', 0.007948646321892738),\n",
       " ('Cosmos Ecosystem', 0.003735890379175544),\n",
       " ('Yearn Ecosystem', 2.0161314751021564e-05),\n",
       " ('Solana Ecosystem', 0.0),\n",
       " ('MEV Protection', 0.01738455891609192),\n",
       " ('Lending/Borrowing', 0.0),\n",
       " ('USD Stablecoin', 0.005918349139392376),\n",
       " ('Artificial Intelligence', 6.479107833001763e-05),\n",
       " ('Social Money', 0.00291845528408885),\n",
       " ('Internet of Things (IOT)', 0.0069224112667143345),\n",
       " ('Stablecoins', 0.0013782239984720945),\n",
       " ('Binance Launchpool', 0.0),\n",
       " ('Real Estate', 0.0),\n",
       " ('Big Data', 0.006122894119471312),\n",
       " ('DeFi Index', 0.0),\n",
       " ('Terra Ecosystem', 0.0),\n",
       " ('Fractionalized NFT', 0.0021686963737010956),\n",
       " ('Eth 2.0 Staking', 0.0),\n",
       " ('Arbitrum Ecosystem', 0.012358421459794044),\n",
       " ('Software', 0.005307781510055065),\n",
       " ('Niftex Shards', 0.0019701870623975992),\n",
       " ('Oracle', 0.0016066922107711434),\n",
       " ('Metaverse', 0.0029343990609049797),\n",
       " ('Insurance', 0.0011862070532515645),\n",
       " ('Harmony Ecosystem', 0.0),\n",
       " ('Analytics', 0.0),\n",
       " ('Education', 0.0),\n",
       " ('Derivatives', 0.0010736760450527072),\n",
       " ('Prediction Markets', 0.003064495511353016),\n",
       " ('Tourism', 0.015381354838609695),\n",
       " ('Asset Manager', 5.703681745217182e-05),\n",
       " ('Axie Infinity', 0.0),\n",
       " ('Gaming', 0.006863132119178772),\n",
       " ('Asset-backed Tokens', 0.0),\n",
       " ('CNY Stablecoin', 0.0),\n",
       " ('Healthcare', 0.013227594085037708),\n",
       " ('Manufacturing', 0.0),\n",
       " ('Tokenized BTC', 0.003593435510993004),\n",
       " ('Olympus Pro', 0.0),\n",
       " ('Reddit Points', 9.976747242035344e-05),\n",
       " ('Automated Market Maker (AMM)', 0.0),\n",
       " ('TokenSets', 0.0032780843321233988),\n",
       " ('HECO Chain Ecosystem', 0.0),\n",
       " ('Compound Tokens', 0.006242505740374327),\n",
       " ('Celo Ecosystem', 0.00408242829144001),\n",
       " ('EUR Stablecoin', 0.0),\n",
       " ('Collectibles', 0.0),\n",
       " ('Synthetic Issuer', 0.004496882203966379),\n",
       " ('ETF', 0.0),\n",
       " ('Tokenized Gold', 0.0),\n",
       " ('Music', 0.0011130365310236812),\n",
       " ('Virtual Reality', 0.0),\n",
       " ('Gig Economy', 0.0015935810515657067),\n",
       " ('Options', 0.0),\n",
       " ('Remittance', 0.0015832121716812253),\n",
       " ('uTokens', 0.0),\n",
       " ('Mirrored Assets', 0.0),\n",
       " ('Wrapped-Tokens', 0.0),\n",
       " ('Synths', 0.0),\n",
       " ('Tokenized Products', 0.0),\n",
       " ('Augmented Reality', 0.0),\n",
       " ('Structured Products', 0.0),\n",
       " ('Perpetuals', 0.0),\n",
       " ('LP Tokens', 0.005520555190742016),\n",
       " ('KRW Stablecoin', 0.0),\n",
       " ('Marketing', 0.0),\n",
       " ('Investment', 0.0015875698300078511),\n",
       " ('GBP Stablecoin', 0.0),\n",
       " ('NFT Index', 0.0033008987084031105)]"
      ]
     },
     "execution_count": 94,
     "metadata": {},
     "output_type": "execute_result"
    }
   ],
   "source": [
    "a = list(zip(df_aaaa.columns[0:-9].to_list(), mod.feature_importances_.tolist()))\n",
    "\n",
    "a"
   ]
  },
  {
   "cell_type": "code",
   "execution_count": 95,
   "id": "d869831f",
   "metadata": {},
   "outputs": [
    {
     "name": "stdout",
     "output_type": "stream",
     "text": [
      "0.78954\n"
     ]
    }
   ],
   "source": [
    "y_pred = model.predict(X_test)\n",
    "print(round(mean_squared_error(y_test, y_pred)** 0.5,5))"
   ]
  },
  {
   "cell_type": "code",
   "execution_count": 96,
   "id": "b160f3eb",
   "metadata": {},
   "outputs": [
    {
     "data": {
      "text/plain": [
       "Text(0, 0.5, 'Actual Return')"
      ]
     },
     "execution_count": 96,
     "metadata": {},
     "output_type": "execute_result"
    },
    {
     "data": {
      "image/png": "[encoded data removed]",
      "text/plain": [
       "<Figure size 1152x720 with 1 Axes>"
      ]
     },
     "metadata": {
      "needs_background": "light"
     },
     "output_type": "display_data"
    }
   ],
   "source": [
    "import matplotlib.pyplot as plt\n",
    "plt.figure(figsize=(16,10))\n",
    "plt.scatter(x=y_pred, y=y_test)\n",
    "\n",
    "plt.plot([0,0], [-1, 5], color='black' )\n",
    "plt.plot([-1, 3], [0,0], color='black')\n",
    "\n",
    "plt.xlabel(\"Predicted Return\")\n",
    "plt.ylabel(\"Actual Return\")"
   ]
  },
  {
   "cell_type": "markdown",
   "id": "ad6ca639",
   "metadata": {},
   "source": [
    "#### Auto ML"
   ]
  },
  {
   "cell_type": "code",
   "execution_count": 28,
   "id": "c0afe138",
   "metadata": {},
   "outputs": [
    {
     "data": {
      "text/html": [
       "<style>#sk-53580b8e-360e-4c06-a7b0-8084e5c58048 {color: black;background-color: white;}#sk-53580b8e-360e-4c06-a7b0-8084e5c58048 pre{padding: 0;}#sk-53580b8e-360e-4c06-a7b0-8084e5c58048 div.sk-toggleable {background-color: white;}#sk-53580b8e-360e-4c06-a7b0-8084e5c58048 label.sk-toggleable__label {cursor: pointer;display: block;width: 100%;margin-bottom: 0;padding: 0.2em 0.3em;box-sizing: border-box;text-align: center;}#sk-53580b8e-360e-4c06-a7b0-8084e5c58048 div.sk-toggleable__content {max-height: 0;max-width: 0;overflow: hidden;text-align: left;background-color: #f0f8ff;}#sk-53580b8e-360e-4c06-a7b0-8084e5c58048 div.sk-toggleable__content pre {margin: 0.2em;color: black;border-radius: 0.25em;background-color: #f0f8ff;}#sk-53580b8e-360e-4c06-a7b0-8084e5c58048 input.sk-toggleable__control:checked~div.sk-toggleable__content {max-height: 200px;max-width: 100%;overflow: auto;}#sk-53580b8e-360e-4c06-a7b0-8084e5c58048 div.sk-estimator input.sk-toggleable__control:checked~label.sk-toggleable__label {background-color: #d4ebff;}#sk-53580b8e-360e-4c06-a7b0-8084e5c58048 div.sk-label input.sk-toggleable__control:checked~label.sk-toggleable__label {background-color: #d4ebff;}#sk-53580b8e-360e-4c06-a7b0-8084e5c58048 input.sk-hidden--visually {border: 0;clip: rect(1px 1px 1px 1px);clip: rect(1px, 1px, 1px, 1px);height: 1px;margin: -1px;overflow: hidden;padding: 0;position: absolute;width: 1px;}#sk-53580b8e-360e-4c06-a7b0-8084e5c58048 div.sk-estimator {font-family: monospace;background-color: #f0f8ff;margin: 0.25em 0.25em;border: 1px dotted black;border-radius: 0.25em;box-sizing: border-box;}#sk-53580b8e-360e-4c06-a7b0-8084e5c58048 div.sk-estimator:hover {background-color: #d4ebff;}#sk-53580b8e-360e-4c06-a7b0-8084e5c58048 div.sk-parallel-item::after {content: \"\";width: 100%;border-bottom: 1px solid gray;flex-grow: 1;}#sk-53580b8e-360e-4c06-a7b0-8084e5c58048 div.sk-label:hover label.sk-toggleable__label {background-color: #d4ebff;}#sk-53580b8e-360e-4c06-a7b0-8084e5c58048 div.sk-serial::before {content: \"\";position: absolute;border-left: 1px solid gray;box-sizing: border-box;top: 2em;bottom: 0;left: 50%;}#sk-53580b8e-360e-4c06-a7b0-8084e5c58048 div.sk-serial {display: flex;flex-direction: column;align-items: center;background-color: white;}#sk-53580b8e-360e-4c06-a7b0-8084e5c58048 div.sk-item {z-index: 1;}#sk-53580b8e-360e-4c06-a7b0-8084e5c58048 div.sk-parallel {display: flex;align-items: stretch;justify-content: center;background-color: white;}#sk-53580b8e-360e-4c06-a7b0-8084e5c58048 div.sk-parallel-item {display: flex;flex-direction: column;position: relative;background-color: white;}#sk-53580b8e-360e-4c06-a7b0-8084e5c58048 div.sk-parallel-item:first-child::after {align-self: flex-end;width: 50%;}#sk-53580b8e-360e-4c06-a7b0-8084e5c58048 div.sk-parallel-item:last-child::after {align-self: flex-start;width: 50%;}#sk-53580b8e-360e-4c06-a7b0-8084e5c58048 div.sk-parallel-item:only-child::after {width: 0;}#sk-53580b8e-360e-4c06-a7b0-8084e5c58048 div.sk-dashed-wrapped {border: 1px dashed gray;margin: 0.2em;box-sizing: border-box;padding-bottom: 0.1em;background-color: white;position: relative;}#sk-53580b8e-360e-4c06-a7b0-8084e5c58048 div.sk-label label {font-family: monospace;font-weight: bold;background-color: white;display: inline-block;line-height: 1.2em;}#sk-53580b8e-360e-4c06-a7b0-8084e5c58048 div.sk-label-container {position: relative;z-index: 2;text-align: center;}#sk-53580b8e-360e-4c06-a7b0-8084e5c58048 div.sk-container {display: inline-block;position: relative;}</style><div id=\"sk-53580b8e-360e-4c06-a7b0-8084e5c58048\" class\"sk-top-container\"><div class=\"sk-container\"><div class=\"sk-item sk-dashed-wrapped\"><div class=\"sk-label-container\"><div class=\"sk-label sk-toggleable\"><input class=\"sk-toggleable__control sk-hidden--visually\" id=\"d10e445c-63b3-4061-84a4-3bee6b42d180\" type=\"checkbox\" ><label class=\"sk-toggleable__label\" for=\"d10e445c-63b3-4061-84a4-3bee6b42d180\">Pipeline</label><div class=\"sk-toggleable__content\"><pre>Pipeline(steps=[('preprocessing',\n",
       "                 ColumnTransformer(transformers=[('num_encoder', MinMaxScaler(),\n",
       "                                                  <sklearn.compose._column_transformer.make_column_selector object at 0x7f2efea819a0>),\n",
       "                                                 ('cat_encoder',\n",
       "                                                  OneHotEncoder(handle_unknown='ignore',\n",
       "                                                                sparse=False),\n",
       "                                                  <sklearn.compose._column_transformer.make_column_selector object at 0x7f2f40d6a8b0>)])),\n",
       "                ('linear_regression',\n",
       "                 AutoSklearnRegressor(memory_limit=20000,\n",
       "                                      per_run_time_limit=3000,\n",
       "                                      time_left_for_this_task=43200))],\n",
       "         verbose=True)</pre></div></div></div><div class=\"sk-serial\"><div class=\"sk-item sk-dashed-wrapped\"><div class=\"sk-label-container\"><div class=\"sk-label sk-toggleable\"><input class=\"sk-toggleable__control sk-hidden--visually\" id=\"4dda8170-6652-435c-bd57-8e30b902815d\" type=\"checkbox\" ><label class=\"sk-toggleable__label\" for=\"4dda8170-6652-435c-bd57-8e30b902815d\">preprocessing: ColumnTransformer</label><div class=\"sk-toggleable__content\"><pre>ColumnTransformer(transformers=[('num_encoder', MinMaxScaler(),\n",
       "                                 <sklearn.compose._column_transformer.make_column_selector object at 0x7f2efea819a0>),\n",
       "                                ('cat_encoder',\n",
       "                                 OneHotEncoder(handle_unknown='ignore',\n",
       "                                               sparse=False),\n",
       "                                 <sklearn.compose._column_transformer.make_column_selector object at 0x7f2f40d6a8b0>)])</pre></div></div></div><div class=\"sk-parallel\"><div class=\"sk-parallel-item\"><div class=\"sk-item\"><div class=\"sk-label-container\"><div class=\"sk-label sk-toggleable\"><input class=\"sk-toggleable__control sk-hidden--visually\" id=\"8336e4f5-8117-4e50-8291-73c6fddc77a3\" type=\"checkbox\" ><label class=\"sk-toggleable__label\" for=\"8336e4f5-8117-4e50-8291-73c6fddc77a3\">num_encoder</label><div class=\"sk-toggleable__content\"><pre><sklearn.compose._column_transformer.make_column_selector object at 0x7f2efea819a0></pre></div></div></div><div class=\"sk-serial\"><div class=\"sk-item\"><div class=\"sk-estimator sk-toggleable\"><input class=\"sk-toggleable__control sk-hidden--visually\" id=\"5cd5e0c9-f6e5-4055-a8c3-fd859d46bba8\" type=\"checkbox\" ><label class=\"sk-toggleable__label\" for=\"5cd5e0c9-f6e5-4055-a8c3-fd859d46bba8\">MinMaxScaler</label><div class=\"sk-toggleable__content\"><pre>MinMaxScaler()</pre></div></div></div></div></div></div><div class=\"sk-parallel-item\"><div class=\"sk-item\"><div class=\"sk-label-container\"><div class=\"sk-label sk-toggleable\"><input class=\"sk-toggleable__control sk-hidden--visually\" id=\"c89105b6-fd81-4d91-b35d-4f824d9422ff\" type=\"checkbox\" ><label class=\"sk-toggleable__label\" for=\"c89105b6-fd81-4d91-b35d-4f824d9422ff\">cat_encoder</label><div class=\"sk-toggleable__content\"><pre><sklearn.compose._column_transformer.make_column_selector object at 0x7f2f40d6a8b0></pre></div></div></div><div class=\"sk-serial\"><div class=\"sk-item\"><div class=\"sk-estimator sk-toggleable\"><input class=\"sk-toggleable__control sk-hidden--visually\" id=\"e5b37fe4-5c6b-4117-b60d-0330edb276f0\" type=\"checkbox\" ><label class=\"sk-toggleable__label\" for=\"e5b37fe4-5c6b-4117-b60d-0330edb276f0\">OneHotEncoder</label><div class=\"sk-toggleable__content\"><pre>OneHotEncoder(handle_unknown='ignore', sparse=False)</pre></div></div></div></div></div></div></div></div><div class=\"sk-item\"><div class=\"sk-estimator sk-toggleable\"><input class=\"sk-toggleable__control sk-hidden--visually\" id=\"394506fc-df8a-4824-80ee-8f9998e1c0eb\" type=\"checkbox\" ><label class=\"sk-toggleable__label\" for=\"394506fc-df8a-4824-80ee-8f9998e1c0eb\">AutoSklearnRegressor</label><div class=\"sk-toggleable__content\"><pre>AutoSklearnRegressor(memory_limit=20000, per_run_time_limit=3000,\n",
       "                     time_left_for_this_task=43200)</pre></div></div></div></div></div></div></div>"
      ],
      "text/plain": [
       "Pipeline(steps=[('preprocessing',\n",
       "                 ColumnTransformer(transformers=[('num_encoder', MinMaxScaler(),\n",
       "                                                  <sklearn.compose._column_transformer.make_column_selector object at 0x7f2efea819a0>),\n",
       "                                                 ('cat_encoder',\n",
       "                                                  OneHotEncoder(handle_unknown='ignore',\n",
       "                                                                sparse=False),\n",
       "                                                  <sklearn.compose._column_transformer.make_column_selector object at 0x7f2f40d6a8b0>)])),\n",
       "                ('linear_regression',\n",
       "                 AutoSklearnRegressor(memory_limit=20000,\n",
       "                                      per_run_time_limit=3000,\n",
       "                                      time_left_for_this_task=43200))],\n",
       "         verbose=True)"
      ]
     },
     "execution_count": 28,
     "metadata": {},
     "output_type": "execute_result"
    }
   ],
   "source": [
    "import autosklearn.regression\n",
    "\n",
    "final_preprocessor = ColumnTransformer([\n",
    "    ('num_encoder', MinMaxScaler(),\n",
    "     make_column_selector(dtype_include=[\"float64\", 'int64'])),\n",
    "\n",
    "    ('cat_encoder', OneHotEncoder(handle_unknown='ignore', sparse=False),\n",
    "     make_column_selector(dtype_include=\"object\"))])\n",
    "\n",
    "automl = autosklearn.regression.AutoSklearnRegressor(\n",
    "    time_left_for_this_task=43200,\n",
    "    per_run_time_limit=3000,\n",
    "    memory_limit=20000\n",
    ")\n",
    "pipe = Pipeline([('preprocessing', final_preprocessor),\n",
    "                 ('linear_regression', automl)], verbose=True)\n",
    "\n",
    "pipe\n",
    "\n",
    "\n"
   ]
  },
  {
   "cell_type": "code",
   "execution_count": 29,
   "id": "0f4aec49",
   "metadata": {},
   "outputs": [
    {
     "name": "stdout",
     "output_type": "stream",
     "text": [
      "[Pipeline] ..... (step 1 of 2) Processing preprocessing, total=   0.0s\n"
     ]
    },
    {
     "name": "stderr",
     "output_type": "stream",
     "text": [
      "/home/lchaves/.pyenv/versions/3.8.12/envs/web3/lib/python3.8/site-packages/autosklearn/metalearning/metalearning/meta_base.py:68: FutureWarning: The frame.append method is deprecated and will be removed from pandas in a future version. Use pandas.concat instead.\n",
      "  self.metafeatures = self.metafeatures.append(metafeatures)\n",
      "/home/lchaves/.pyenv/versions/3.8.12/envs/web3/lib/python3.8/site-packages/autosklearn/metalearning/metalearning/meta_base.py:72: FutureWarning: The frame.append method is deprecated and will be removed from pandas in a future version. Use pandas.concat instead.\n",
      "  self.algorithm_runs[metric].append(runs)\n"
     ]
    },
    {
     "name": "stdout",
     "output_type": "stream",
     "text": [
      "[WARNING] [2022-05-05 17:27:12,203:Client-EnsembleBuilder] No models better than random - using Dummy loss!Number of models besides current dummy model: 1. Number of dummy models: 1\n"
     ]
    },
    {
     "ename": "Error",
     "evalue": "Canceled future for execute_request message before replies were done",
     "output_type": "error",
     "traceback": [
      "Error: Canceled future for execute_request message before replies were done",
      "at t.KernelShellFutureHandler.dispose (/home/lchaves/.vscode-server/extensions/ms-toolsai.jupyter-2022.3.1000901801/out/extension.js:2:1204175)",
      "at /home/lchaves/.vscode-server/extensions/ms-toolsai.jupyter-2022.3.1000901801/out/extension.js:2:1223227",
      "at Map.forEach (<anonymous>)",
      "at v._clearKernelState (/home/lchaves/.vscode-server/extensions/ms-toolsai.jupyter-2022.3.1000901801/out/extension.js:2:1223212)",
      "at v.dispose (/home/lchaves/.vscode-server/extensions/ms-toolsai.jupyter-2022.3.1000901801/out/extension.js:2:1216694)",
      "at /home/lchaves/.vscode-server/extensions/ms-toolsai.jupyter-2022.3.1000901801/out/extension.js:2:533674",
      "at t.swallowExceptions (/home/lchaves/.vscode-server/extensions/ms-toolsai.jupyter-2022.3.1000901801/out/extension.js:2:913059)",
      "at dispose (/home/lchaves/.vscode-server/extensions/ms-toolsai.jupyter-2022.3.1000901801/out/extension.js:2:533652)",
      "at t.RawSession.dispose (/home/lchaves/.vscode-server/extensions/ms-toolsai.jupyter-2022.3.1000901801/out/extension.js:2:537330)"
     ]
    }
   ],
   "source": [
    "model = pipe.fit(X_train, y_train)"
   ]
  },
  {
   "cell_type": "code",
   "execution_count": null,
   "id": "8cc251f7",
   "metadata": {},
   "outputs": [
    {
     "name": "stdout",
     "output_type": "stream",
     "text": [
      "          rank  ensemble_weight           type      cost   duration\n",
      "model_id                                                           \n",
      "126          1              1.0  decision_tree  1.000932  68.940697\n"
     ]
    }
   ],
   "source": [
    "print(automl.leaderboard())\n"
   ]
  },
  {
   "cell_type": "code",
   "execution_count": null,
   "id": "7a0d7a58",
   "metadata": {},
   "outputs": [
    {
     "name": "stdout",
     "output_type": "stream",
     "text": [
      "{126: {'model_id': 126, 'rank': 1, 'cost': 1.0009315338154925, 'ensemble_weight': 1.0, 'data_preprocessor': <autosklearn.pipeline.components.data_preprocessing.DataPreprocessorChoice object at 0x7f4753739f70>, 'feature_preprocessor': <autosklearn.pipeline.components.feature_preprocessing.FeaturePreprocessorChoice object at 0x7f475382ca60>, 'regressor': <autosklearn.pipeline.components.regression.RegressorChoice object at 0x7f4756f19af0>, 'sklearn_regressor': DecisionTreeRegressor(criterion='mae', max_depth=238, min_samples_leaf=9,\n",
      "                      min_samples_split=16, random_state=1)}}\n"
     ]
    }
   ],
   "source": [
    "print(automl.show_models())"
   ]
  },
  {
   "cell_type": "code",
   "execution_count": null,
   "id": "14c7a023",
   "metadata": {},
   "outputs": [],
   "source": [
    "from sklearn.tree import DecisionTreeRegressor"
   ]
  }
 ],
 "metadata": {
  "kernelspec": {
   "display_name": "Python 3",
   "language": "python",
   "name": "python3"
  },
  "language_info": {
   "codemirror_mode": {
    "name": "ipython",
    "version": 3
   },
   "file_extension": ".py",
   "mimetype": "text/x-python",
   "name": "python",
   "nbconvert_exporter": "python",
   "pygments_lexer": "ipython3",
   "version": "3.8.12"
  }
 },
 "nbformat": 4,
 "nbformat_minor": 5
}
