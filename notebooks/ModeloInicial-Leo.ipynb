{
 "cells": [
  {
   "cell_type": "markdown",
   "id": "b89b0517-04f4-4eb2-b088-97e9457bb88b",
   "metadata": {},
   "source": [
    "# Bibliotecas"
   ]
  },
  {
   "cell_type": "code",
   "execution_count": 1,
   "id": "d6edef4e-899a-4eb6-99aa-2cf36e43d314",
   "metadata": {},
   "outputs": [],
   "source": [
    "import pandas as pd\n",
    "import seaborn as sns\n",
    "from sklearn.linear_model import LinearRegression, LogisticRegression\n",
    "from sklearn.preprocessing import OneHotEncoder, StandardScaler, MinMaxScaler, FunctionTransformer\n",
    "from sklearn.pipeline import make_pipeline, Pipeline\n",
    "from sklearn.compose import make_column_selector, make_column_transformer, ColumnTransformer\n",
    "from statsmodels.api import OLS\n",
    "import statsmodels.api as sm\n",
    "from sklearn import set_config\n",
    "\n",
    "set_config(display='diagram')\n",
    "from sklearn.linear_model import Ridge\n"
   ]
  },
  {
   "cell_type": "code",
   "execution_count": 2,
   "id": "8fa302dc-4662-4725-a214-b1a81637a6fb",
   "metadata": {},
   "outputs": [],
   "source": [
    "df = pd.read_parquet('..//raw_data//coin_id_formated.parquet')"
   ]
  },
  {
   "cell_type": "code",
   "execution_count": 3,
   "id": "8fbb3e07-4b3d-4ba5-b7e3-9cd808730a75",
   "metadata": {},
   "outputs": [],
   "source": [
    "str_cols = ['id', 'symbol', 'name', 'asset_platform_id', 'hashing_algorithm','description','country_origin']\n",
    "df[str_cols] = df[str_cols].astype(str)\n",
    "float_cols = ['sentiment_votes_up_percentage', 'sentiment_votes_down_percentage','market_cap_rank', ]\n",
    "df[float_cols] = df[float_cols].astype(float)\n",
    "int_cols = ['coingecko_rank', 'coingecko_score','community_score', 'liquidity_score', 'twitter_followers',\n",
    "       'telegram_channel_user_count']       \n",
    "df[int_cols] = df[int_cols].astype(float)\n"
   ]
  },
  {
   "cell_type": "code",
   "execution_count": 4,
   "id": "403d8193-3c9f-4acc-a31e-18e2d8a8bcef",
   "metadata": {},
   "outputs": [
    {
     "name": "stdout",
     "output_type": "stream",
     "text": [
      "<class 'pandas.core.frame.DataFrame'>\n",
      "RangeIndex: 13675 entries, 0 to 13674\n",
      "Data columns (total 17 columns):\n",
      " #   Column                           Non-Null Count  Dtype  \n",
      "---  ------                           --------------  -----  \n",
      " 0   id                               13675 non-null  object \n",
      " 1   symbol                           13675 non-null  object \n",
      " 2   name                             13675 non-null  object \n",
      " 3   asset_platform_id                13675 non-null  object \n",
      " 4   hashing_algorithm                13675 non-null  object \n",
      " 5   categories                       13675 non-null  object \n",
      " 6   description                      13675 non-null  object \n",
      " 7   country_origin                   13675 non-null  object \n",
      " 8   sentiment_votes_up_percentage    5466 non-null   float64\n",
      " 9   sentiment_votes_down_percentage  5466 non-null   float64\n",
      " 10  market_cap_rank                  3805 non-null   float64\n",
      " 11  coingecko_rank                   13508 non-null  float64\n",
      " 12  coingecko_score                  13675 non-null  float64\n",
      " 13  community_score                  13675 non-null  float64\n",
      " 14  liquidity_score                  13675 non-null  float64\n",
      " 15  twitter_followers                13667 non-null  float64\n",
      " 16  telegram_channel_user_count      11387 non-null  float64\n",
      "dtypes: float64(9), object(8)\n",
      "memory usage: 1.8+ MB\n"
     ]
    }
   ],
   "source": [
    "df.info()"
   ]
  },
  {
   "cell_type": "markdown",
   "id": "250dc15c-ac76-441e-bd83-ba9ff25ce675",
   "metadata": {},
   "source": [
    "## Modelo de Regressao"
   ]
  },
  {
   "cell_type": "markdown",
   "id": "d9044439-cd53-43c7-99d1-14e948326d56",
   "metadata": {},
   "source": [
    "###  Analise de Variaveis"
   ]
  },
  {
   "cell_type": "code",
   "execution_count": 11,
   "id": "71ebeccf-f313-4407-aaa9-f8d29976748e",
   "metadata": {},
   "outputs": [],
   "source": []
  },
  {
   "cell_type": "code",
   "execution_count": 21,
   "id": "58d42a07",
   "metadata": {},
   "outputs": [
    {
     "name": "stderr",
     "output_type": "stream",
     "text": [
      "/tmp/ipykernel_8892/972437606.py:1: FutureWarning: Dropping of nuisance columns in DataFrame reductions (with 'numeric_only=None') is deprecated; in a future version this will raise TypeError.  Select only valid columns before calling the reduction.\n",
      "  df.mean()\n"
     ]
    },
    {
     "data": {
      "text/plain": [
       "sentiment_votes_up_percentage         72.713251\n",
       "sentiment_votes_down_percentage       27.286760\n",
       "market_cap_rank                     1907.155059\n",
       "coingecko_rank                      6755.004590\n",
       "coingecko_score                        7.799963\n",
       "community_score                       10.932654\n",
       "liquidity_score                        5.881238\n",
       "twitter_followers                  38989.294651\n",
       "telegram_channel_user_count        11826.939229\n",
       "dtype: float64"
      ]
     },
     "execution_count": 21,
     "metadata": {},
     "output_type": "execute_result"
    }
   ],
   "source": [
    "df.mean()\n"
   ]
  },
  {
   "cell_type": "code",
   "execution_count": 43,
   "id": "43685772",
   "metadata": {},
   "outputs": [
    {
     "data": {
      "text/plain": [
       "<AxesSubplot:ylabel='Frequency'>"
      ]
     },
     "execution_count": 43,
     "metadata": {},
     "output_type": "execute_result"
    },
    {
     "data": {
      "image/png": "[encoded data removed]",
      "text/plain": [
       "<Figure size 432x288 with 1 Axes>"
      ]
     },
     "metadata": {
      "needs_background": "light"
     },
     "output_type": "display_data"
    }
   ],
   "source": [
    "df[df['coingecko_rank'] != 0]['coingecko_rank'].plot(kind='hist', bins=1500)\n"
   ]
  },
  {
   "cell_type": "code",
   "execution_count": 38,
   "id": "eadf1c1b",
   "metadata": {},
   "outputs": [
    {
     "data": {
      "text/plain": [
       "<AxesSubplot:ylabel='Frequency'>"
      ]
     },
     "execution_count": 38,
     "metadata": {},
     "output_type": "execute_result"
    },
    {
     "data": {
      "image/png": "[encoded data removed]",
      "text/plain": [
       "<Figure size 432x288 with 1 Axes>"
      ]
     },
     "metadata": {
      "needs_background": "light"
     },
     "output_type": "display_data"
    }
   ],
   "source": [
    "df[df['coingecko_score'] != 0]['coingecko_score'].plot(kind='hist', bins=1500)\n"
   ]
  },
  {
   "cell_type": "code",
   "execution_count": 37,
   "id": "32ae06eb",
   "metadata": {},
   "outputs": [
    {
     "data": {
      "text/plain": [
       "<AxesSubplot:ylabel='Frequency'>"
      ]
     },
     "execution_count": 37,
     "metadata": {},
     "output_type": "execute_result"
    },
    {
     "data": {
      "image/png": "[encoded data removed]",
      "text/plain": [
       "<Figure size 432x288 with 1 Axes>"
      ]
     },
     "metadata": {
      "needs_background": "light"
     },
     "output_type": "display_data"
    }
   ],
   "source": [
    "df[df['community_score'] != 0]['community_score'].plot(kind='hist', bins=1500)\n"
   ]
  },
  {
   "cell_type": "code",
   "execution_count": 36,
   "id": "f1f55d96",
   "metadata": {},
   "outputs": [
    {
     "data": {
      "text/plain": [
       "<AxesSubplot:ylabel='Frequency'>"
      ]
     },
     "execution_count": 36,
     "metadata": {},
     "output_type": "execute_result"
    },
    {
     "data": {
      "image/png": "[encoded data removed]",
      "text/plain": [
       "<Figure size 432x288 with 1 Axes>"
      ]
     },
     "metadata": {
      "needs_background": "light"
     },
     "output_type": "display_data"
    }
   ],
   "source": [
    "df[df['liquidity_score'] != 0]['liquidity_score'].plot(kind='hist', bins=1500)\n"
   ]
  },
  {
   "cell_type": "code",
   "execution_count": 39,
   "id": "cd109fdd",
   "metadata": {},
   "outputs": [
    {
     "data": {
      "text/plain": [
       "<AxesSubplot:ylabel='Frequency'>"
      ]
     },
     "execution_count": 39,
     "metadata": {},
     "output_type": "execute_result"
    },
    {
     "data": {
      "image/png": "[encoded data removed]",
      "text/plain": [
       "<Figure size 432x288 with 1 Axes>"
      ]
     },
     "metadata": {
      "needs_background": "light"
     },
     "output_type": "display_data"
    }
   ],
   "source": [
    "df[df['twitter_followers'] != 0]['twitter_followers'].plot(kind='hist',\n",
    "                                                           bins=1500)\n"
   ]
  },
  {
   "cell_type": "markdown",
   "id": "d7291bea",
   "metadata": {},
   "source": [
    "### Build Pipeline"
   ]
  },
  {
   "cell_type": "code",
   "execution_count": null,
   "metadata": {},
   "outputs": [],
   "source": []
  },
  {
   "cell_type": "markdown",
   "id": "44b07406",
   "metadata": {},
   "source": [
    "#### Caso queira customizar alguma função"
   ]
  },
  {
   "cell_type": "code",
   "execution_count": null,
   "id": "06c30e89",
   "metadata": {},
   "outputs": [],
   "source": [
    "def multiply(df):\n",
    "    return pd.DataFrame(df['product_length_cm'] * df['product_height_cm'] *\n",
    "                        df['product_width_cm'])\n",
    "\n",
    "\n",
    "volume_computer = Pipeline([('compute_volume', FunctionTransformer(multiply)),\n",
    "                            ('scale_volume', MinMaxScaler())])\n",
    "\n",
    "final_preprocessor = ColumnTransformer([\n",
    "    ('num_encoder', MinMaxScaler(),\n",
    "     make_column_selector(dtype_include=\"int64\")),\n",
    "    ('cat_encoder', OneHotEncoder(handle_unknown='ignore', sparse=False),\n",
    "     make_column_selector(dtype_include=\"object\")),\n",
    "    ('volume_computer', volume_computer,\n",
    "     ['product_length_cm', 'product_height_cm', 'product_width_cm'])\n",
    "])\n",
    "\n",
    "pipe = Pipeline([('preprocessing', final_preprocessor),\n",
    "                 ('linear_regression', Ridge())])\n",
    "\n",
    "pipe"
   ]
  },
  {
   "cell_type": "markdown",
   "id": "d2eba46d",
   "metadata": {},
   "source": [
    "#### Caso use as padrões"
   ]
  },
  {
   "cell_type": "code",
   "execution_count": 13,
   "id": "79636783",
   "metadata": {},
   "outputs": [
    {
     "data": {
      "text/html": [
       "<style>#sk-24fbc720-cef0-4de4-9639-da44ef4885d4 {color: black;background-color: white;}#sk-24fbc720-cef0-4de4-9639-da44ef4885d4 pre{padding: 0;}#sk-24fbc720-cef0-4de4-9639-da44ef4885d4 div.sk-toggleable {background-color: white;}#sk-24fbc720-cef0-4de4-9639-da44ef4885d4 label.sk-toggleable__label {cursor: pointer;display: block;width: 100%;margin-bottom: 0;padding: 0.3em;box-sizing: border-box;text-align: center;}#sk-24fbc720-cef0-4de4-9639-da44ef4885d4 label.sk-toggleable__label-arrow:before {content: \"▸\";float: left;margin-right: 0.25em;color: #696969;}#sk-24fbc720-cef0-4de4-9639-da44ef4885d4 label.sk-toggleable__label-arrow:hover:before {color: black;}#sk-24fbc720-cef0-4de4-9639-da44ef4885d4 div.sk-estimator:hover label.sk-toggleable__label-arrow:before {color: black;}#sk-24fbc720-cef0-4de4-9639-da44ef4885d4 div.sk-toggleable__content {max-height: 0;max-width: 0;overflow: hidden;text-align: left;background-color: #f0f8ff;}#sk-24fbc720-cef0-4de4-9639-da44ef4885d4 div.sk-toggleable__content pre {margin: 0.2em;color: black;border-radius: 0.25em;background-color: #f0f8ff;}#sk-24fbc720-cef0-4de4-9639-da44ef4885d4 input.sk-toggleable__control:checked~div.sk-toggleable__content {max-height: 200px;max-width: 100%;overflow: auto;}#sk-24fbc720-cef0-4de4-9639-da44ef4885d4 input.sk-toggleable__control:checked~label.sk-toggleable__label-arrow:before {content: \"▾\";}#sk-24fbc720-cef0-4de4-9639-da44ef4885d4 div.sk-estimator input.sk-toggleable__control:checked~label.sk-toggleable__label {background-color: #d4ebff;}#sk-24fbc720-cef0-4de4-9639-da44ef4885d4 div.sk-label input.sk-toggleable__control:checked~label.sk-toggleable__label {background-color: #d4ebff;}#sk-24fbc720-cef0-4de4-9639-da44ef4885d4 input.sk-hidden--visually {border: 0;clip: rect(1px 1px 1px 1px);clip: rect(1px, 1px, 1px, 1px);height: 1px;margin: -1px;overflow: hidden;padding: 0;position: absolute;width: 1px;}#sk-24fbc720-cef0-4de4-9639-da44ef4885d4 div.sk-estimator {font-family: monospace;background-color: #f0f8ff;border: 1px dotted black;border-radius: 0.25em;box-sizing: border-box;margin-bottom: 0.5em;}#sk-24fbc720-cef0-4de4-9639-da44ef4885d4 div.sk-estimator:hover {background-color: #d4ebff;}#sk-24fbc720-cef0-4de4-9639-da44ef4885d4 div.sk-parallel-item::after {content: \"\";width: 100%;border-bottom: 1px solid gray;flex-grow: 1;}#sk-24fbc720-cef0-4de4-9639-da44ef4885d4 div.sk-label:hover label.sk-toggleable__label {background-color: #d4ebff;}#sk-24fbc720-cef0-4de4-9639-da44ef4885d4 div.sk-serial::before {content: \"\";position: absolute;border-left: 1px solid gray;box-sizing: border-box;top: 2em;bottom: 0;left: 50%;}#sk-24fbc720-cef0-4de4-9639-da44ef4885d4 div.sk-serial {display: flex;flex-direction: column;align-items: center;background-color: white;padding-right: 0.2em;padding-left: 0.2em;}#sk-24fbc720-cef0-4de4-9639-da44ef4885d4 div.sk-item {z-index: 1;}#sk-24fbc720-cef0-4de4-9639-da44ef4885d4 div.sk-parallel {display: flex;align-items: stretch;justify-content: center;background-color: white;}#sk-24fbc720-cef0-4de4-9639-da44ef4885d4 div.sk-parallel::before {content: \"\";position: absolute;border-left: 1px solid gray;box-sizing: border-box;top: 2em;bottom: 0;left: 50%;}#sk-24fbc720-cef0-4de4-9639-da44ef4885d4 div.sk-parallel-item {display: flex;flex-direction: column;position: relative;background-color: white;}#sk-24fbc720-cef0-4de4-9639-da44ef4885d4 div.sk-parallel-item:first-child::after {align-self: flex-end;width: 50%;}#sk-24fbc720-cef0-4de4-9639-da44ef4885d4 div.sk-parallel-item:last-child::after {align-self: flex-start;width: 50%;}#sk-24fbc720-cef0-4de4-9639-da44ef4885d4 div.sk-parallel-item:only-child::after {width: 0;}#sk-24fbc720-cef0-4de4-9639-da44ef4885d4 div.sk-dashed-wrapped {border: 1px dashed gray;margin: 0 0.4em 0.5em 0.4em;box-sizing: border-box;padding-bottom: 0.4em;background-color: white;position: relative;}#sk-24fbc720-cef0-4de4-9639-da44ef4885d4 div.sk-label label {font-family: monospace;font-weight: bold;background-color: white;display: inline-block;line-height: 1.2em;}#sk-24fbc720-cef0-4de4-9639-da44ef4885d4 div.sk-label-container {position: relative;z-index: 2;text-align: center;}#sk-24fbc720-cef0-4de4-9639-da44ef4885d4 div.sk-container {/* jupyter's `normalize.less` sets `[hidden] { display: none; }` but bootstrap.min.css set `[hidden] { display: none !important; }` so we also need the `!important` here to be able to override the default hidden behavior on the sphinx rendered scikit-learn.org. See: https://github.com/scikit-learn/scikit-learn/issues/21755 */display: inline-block !important;position: relative;}#sk-24fbc720-cef0-4de4-9639-da44ef4885d4 div.sk-text-repr-fallback {display: none;}</style><div id=\"sk-24fbc720-cef0-4de4-9639-da44ef4885d4\" class=\"sk-top-container\"><div class=\"sk-text-repr-fallback\"><pre>Pipeline(steps=[(&#x27;preprocessing&#x27;,\n",
       "                 ColumnTransformer(transformers=[(&#x27;num_encoder&#x27;, MinMaxScaler(),\n",
       "                                                  &lt;sklearn.compose._column_transformer.make_column_selector object at 0x7f67b69d6af0&gt;),\n",
       "                                                 (&#x27;cat_encoder&#x27;,\n",
       "                                                  OneHotEncoder(handle_unknown=&#x27;ignore&#x27;,\n",
       "                                                                sparse=False),\n",
       "                                                  &lt;sklearn.compose._column_transformer.make_column_selector object at 0x7f67b69d6760&gt;),\n",
       "                                                 (&#x27;volume_computer&#x27;,\n",
       "                                                  Pipeline(steps=[(&#x27;compute_volume&#x27;,\n",
       "                                                                   FunctionTransformer(func=&lt;function multiply at 0x7f67b69dc430&gt;)),\n",
       "                                                                  (&#x27;scale_volume&#x27;,\n",
       "                                                                   MinMaxScaler())]),\n",
       "                                                  [&#x27;product_length_cm&#x27;,\n",
       "                                                   &#x27;product_height_cm&#x27;,\n",
       "                                                   &#x27;product_width_cm&#x27;])])),\n",
       "                (&#x27;linear_regression&#x27;, Ridge())])</pre><b>Please rerun this cell to show the HTML repr or trust the notebook.</b></div><div class=\"sk-container\" hidden><div class=\"sk-item sk-dashed-wrapped\"><div class=\"sk-label-container\"><div class=\"sk-label sk-toggleable\"><input class=\"sk-toggleable__control sk-hidden--visually\" id=\"980cd72e-0207-47a1-88a2-0e8db34da173\" type=\"checkbox\" ><label for=\"980cd72e-0207-47a1-88a2-0e8db34da173\" class=\"sk-toggleable__label sk-toggleable__label-arrow\">Pipeline</label><div class=\"sk-toggleable__content\"><pre>Pipeline(steps=[(&#x27;preprocessing&#x27;,\n",
       "                 ColumnTransformer(transformers=[(&#x27;num_encoder&#x27;, MinMaxScaler(),\n",
       "                                                  &lt;sklearn.compose._column_transformer.make_column_selector object at 0x7f67b69d6af0&gt;),\n",
       "                                                 (&#x27;cat_encoder&#x27;,\n",
       "                                                  OneHotEncoder(handle_unknown=&#x27;ignore&#x27;,\n",
       "                                                                sparse=False),\n",
       "                                                  &lt;sklearn.compose._column_transformer.make_column_selector object at 0x7f67b69d6760&gt;),\n",
       "                                                 (&#x27;volume_computer&#x27;,\n",
       "                                                  Pipeline(steps=[(&#x27;compute_volume&#x27;,\n",
       "                                                                   FunctionTransformer(func=&lt;function multiply at 0x7f67b69dc430&gt;)),\n",
       "                                                                  (&#x27;scale_volume&#x27;,\n",
       "                                                                   MinMaxScaler())]),\n",
       "                                                  [&#x27;product_length_cm&#x27;,\n",
       "                                                   &#x27;product_height_cm&#x27;,\n",
       "                                                   &#x27;product_width_cm&#x27;])])),\n",
       "                (&#x27;linear_regression&#x27;, Ridge())])</pre></div></div></div><div class=\"sk-serial\"><div class=\"sk-item sk-dashed-wrapped\"><div class=\"sk-label-container\"><div class=\"sk-label sk-toggleable\"><input class=\"sk-toggleable__control sk-hidden--visually\" id=\"50aaee03-b242-4079-a88f-f6840544f1ab\" type=\"checkbox\" ><label for=\"50aaee03-b242-4079-a88f-f6840544f1ab\" class=\"sk-toggleable__label sk-toggleable__label-arrow\">preprocessing: ColumnTransformer</label><div class=\"sk-toggleable__content\"><pre>ColumnTransformer(transformers=[(&#x27;num_encoder&#x27;, MinMaxScaler(),\n",
       "                                 &lt;sklearn.compose._column_transformer.make_column_selector object at 0x7f67b69d6af0&gt;),\n",
       "                                (&#x27;cat_encoder&#x27;,\n",
       "                                 OneHotEncoder(handle_unknown=&#x27;ignore&#x27;,\n",
       "                                               sparse=False),\n",
       "                                 &lt;sklearn.compose._column_transformer.make_column_selector object at 0x7f67b69d6760&gt;),\n",
       "                                (&#x27;volume_computer&#x27;,\n",
       "                                 Pipeline(steps=[(&#x27;compute_volume&#x27;,\n",
       "                                                  FunctionTransformer(func=&lt;function multiply at 0x7f67b69dc430&gt;)),\n",
       "                                                 (&#x27;scale_volume&#x27;,\n",
       "                                                  MinMaxScaler())]),\n",
       "                                 [&#x27;product_length_cm&#x27;, &#x27;product_height_cm&#x27;,\n",
       "                                  &#x27;product_width_cm&#x27;])])</pre></div></div></div><div class=\"sk-parallel\"><div class=\"sk-parallel-item\"><div class=\"sk-item\"><div class=\"sk-label-container\"><div class=\"sk-label sk-toggleable\"><input class=\"sk-toggleable__control sk-hidden--visually\" id=\"aef6ff94-8c35-43b7-a784-6bfb88e719d4\" type=\"checkbox\" ><label for=\"aef6ff94-8c35-43b7-a784-6bfb88e719d4\" class=\"sk-toggleable__label sk-toggleable__label-arrow\">num_encoder</label><div class=\"sk-toggleable__content\"><pre>&lt;sklearn.compose._column_transformer.make_column_selector object at 0x7f67b69d6af0&gt;</pre></div></div></div><div class=\"sk-serial\"><div class=\"sk-item\"><div class=\"sk-estimator sk-toggleable\"><input class=\"sk-toggleable__control sk-hidden--visually\" id=\"fe31a185-5fe0-4719-8f25-a7d2b95c4de1\" type=\"checkbox\" ><label for=\"fe31a185-5fe0-4719-8f25-a7d2b95c4de1\" class=\"sk-toggleable__label sk-toggleable__label-arrow\">MinMaxScaler</label><div class=\"sk-toggleable__content\"><pre>MinMaxScaler()</pre></div></div></div></div></div></div><div class=\"sk-parallel-item\"><div class=\"sk-item\"><div class=\"sk-label-container\"><div class=\"sk-label sk-toggleable\"><input class=\"sk-toggleable__control sk-hidden--visually\" id=\"ea277ace-1a95-47b9-95e8-5207e827c8d7\" type=\"checkbox\" ><label for=\"ea277ace-1a95-47b9-95e8-5207e827c8d7\" class=\"sk-toggleable__label sk-toggleable__label-arrow\">cat_encoder</label><div class=\"sk-toggleable__content\"><pre>&lt;sklearn.compose._column_transformer.make_column_selector object at 0x7f67b69d6760&gt;</pre></div></div></div><div class=\"sk-serial\"><div class=\"sk-item\"><div class=\"sk-estimator sk-toggleable\"><input class=\"sk-toggleable__control sk-hidden--visually\" id=\"1ed439fd-5f9b-4591-8f57-4b7a2446e737\" type=\"checkbox\" ><label for=\"1ed439fd-5f9b-4591-8f57-4b7a2446e737\" class=\"sk-toggleable__label sk-toggleable__label-arrow\">OneHotEncoder</label><div class=\"sk-toggleable__content\"><pre>OneHotEncoder(handle_unknown=&#x27;ignore&#x27;, sparse=False)</pre></div></div></div></div></div></div><div class=\"sk-parallel-item\"><div class=\"sk-item\"><div class=\"sk-label-container\"><div class=\"sk-label sk-toggleable\"><input class=\"sk-toggleable__control sk-hidden--visually\" id=\"578aaa3c-8e7f-4eff-8c46-838cb4d69ce6\" type=\"checkbox\" ><label for=\"578aaa3c-8e7f-4eff-8c46-838cb4d69ce6\" class=\"sk-toggleable__label sk-toggleable__label-arrow\">volume_computer</label><div class=\"sk-toggleable__content\"><pre>[&#x27;product_length_cm&#x27;, &#x27;product_height_cm&#x27;, &#x27;product_width_cm&#x27;]</pre></div></div></div><div class=\"sk-serial\"><div class=\"sk-item\"><div class=\"sk-serial\"><div class=\"sk-item\"><div class=\"sk-estimator sk-toggleable\"><input class=\"sk-toggleable__control sk-hidden--visually\" id=\"cd79f4be-fc29-45bb-9318-3f28a1cbda64\" type=\"checkbox\" ><label for=\"cd79f4be-fc29-45bb-9318-3f28a1cbda64\" class=\"sk-toggleable__label sk-toggleable__label-arrow\">FunctionTransformer</label><div class=\"sk-toggleable__content\"><pre>FunctionTransformer(func=&lt;function multiply at 0x7f67b69dc430&gt;)</pre></div></div></div><div class=\"sk-item\"><div class=\"sk-estimator sk-toggleable\"><input class=\"sk-toggleable__control sk-hidden--visually\" id=\"bbdea159-378f-46c8-9952-8c02dc77c0d1\" type=\"checkbox\" ><label for=\"bbdea159-378f-46c8-9952-8c02dc77c0d1\" class=\"sk-toggleable__label sk-toggleable__label-arrow\">MinMaxScaler</label><div class=\"sk-toggleable__content\"><pre>MinMaxScaler()</pre></div></div></div></div></div></div></div></div></div></div><div class=\"sk-item\"><div class=\"sk-estimator sk-toggleable\"><input class=\"sk-toggleable__control sk-hidden--visually\" id=\"2a9e2026-fa2c-4ce6-834c-76933d5d9168\" type=\"checkbox\" ><label for=\"2a9e2026-fa2c-4ce6-834c-76933d5d9168\" class=\"sk-toggleable__label sk-toggleable__label-arrow\">Ridge</label><div class=\"sk-toggleable__content\"><pre>Ridge()</pre></div></div></div></div></div></div></div>"
      ],
      "text/plain": [
       "Pipeline(steps=[('preprocessing',\n",
       "                 ColumnTransformer(transformers=[('num_encoder', MinMaxScaler(),\n",
       "                                                  <sklearn.compose._column_transformer.make_column_selector object at 0x7f67b69d6af0>),\n",
       "                                                 ('cat_encoder',\n",
       "                                                  OneHotEncoder(handle_unknown='ignore',\n",
       "                                                                sparse=False),\n",
       "                                                  <sklearn.compose._column_transformer.make_column_selector object at 0x7f67b69d6760>),\n",
       "                                                 ('volume_computer',\n",
       "                                                  Pipeline(steps=[('compute_volume',\n",
       "                                                                   FunctionTransformer(func=<function multiply at 0x7f67b69dc430>)),\n",
       "                                                                  ('scale_volume',\n",
       "                                                                   MinMaxScaler())]),\n",
       "                                                  ['product_length_cm',\n",
       "                                                   'product_height_cm',\n",
       "                                                   'product_width_cm'])])),\n",
       "                ('linear_regression', Ridge())])"
      ]
     },
     "execution_count": 13,
     "metadata": {},
     "output_type": "execute_result"
    }
   ],
   "source": [
    "\n",
    "\n",
    "final_preprocessor = ColumnTransformer([\n",
    "    ('num_encoder', MinMaxScaler(),\n",
    "     make_column_selector(dtype_include=\"int64\")),\n",
    "\n",
    "    ('cat_encoder', OneHotEncoder(handle_unknown='ignore', sparse=False),\n",
    "     make_column_selector(dtype_include=\"object\"))])\n",
    "\n",
    "pipe = Pipeline([('preprocessing', final_preprocessor),\n",
    "                 ('linear_regression', Ridge())])\n",
    "\n",
    "pipe"
   ]
  },
  {
   "cell_type": "code",
   "execution_count": 44,
   "id": "5d06e48c",
   "metadata": {},
   "outputs": [
    {
     "ename": "ValueError",
     "evalue": "A given column is not a column of the dataframe",
     "output_type": "error",
     "traceback": [
      "\u001b[0;31m---------------------------------------------------------------------------\u001b[0m",
      "\u001b[0;31mKeyError\u001b[0m                                  Traceback (most recent call last)",
      "File \u001b[0;32m~/.pyenv/versions/3.8.12/envs/web3/lib/python3.8/site-packages/pandas/core/indexes/base.py:3621\u001b[0m, in \u001b[0;36mIndex.get_loc\u001b[0;34m(self, key, method, tolerance)\u001b[0m\n\u001b[1;32m   <a href='file:///home/lchaves/.pyenv/versions/3.8.12/envs/web3/lib/python3.8/site-packages/pandas/core/indexes/base.py?line=3619'>3620</a>\u001b[0m \u001b[39mtry\u001b[39;00m:\n\u001b[0;32m-> <a href='file:///home/lchaves/.pyenv/versions/3.8.12/envs/web3/lib/python3.8/site-packages/pandas/core/indexes/base.py?line=3620'>3621</a>\u001b[0m     \u001b[39mreturn\u001b[39;00m \u001b[39mself\u001b[39;49m\u001b[39m.\u001b[39;49m_engine\u001b[39m.\u001b[39;49mget_loc(casted_key)\n\u001b[1;32m   <a href='file:///home/lchaves/.pyenv/versions/3.8.12/envs/web3/lib/python3.8/site-packages/pandas/core/indexes/base.py?line=3621'>3622</a>\u001b[0m \u001b[39mexcept\u001b[39;00m \u001b[39mKeyError\u001b[39;00m \u001b[39mas\u001b[39;00m err:\n",
      "File \u001b[0;32m~/.pyenv/versions/3.8.12/envs/web3/lib/python3.8/site-packages/pandas/_libs/index.pyx:136\u001b[0m, in \u001b[0;36mpandas._libs.index.IndexEngine.get_loc\u001b[0;34m()\u001b[0m\n",
      "File \u001b[0;32m~/.pyenv/versions/3.8.12/envs/web3/lib/python3.8/site-packages/pandas/_libs/index.pyx:163\u001b[0m, in \u001b[0;36mpandas._libs.index.IndexEngine.get_loc\u001b[0;34m()\u001b[0m\n",
      "File \u001b[0;32mpandas/_libs/hashtable_class_helper.pxi:5198\u001b[0m, in \u001b[0;36mpandas._libs.hashtable.PyObjectHashTable.get_item\u001b[0;34m()\u001b[0m\n",
      "File \u001b[0;32mpandas/_libs/hashtable_class_helper.pxi:5206\u001b[0m, in \u001b[0;36mpandas._libs.hashtable.PyObjectHashTable.get_item\u001b[0;34m()\u001b[0m\n",
      "\u001b[0;31mKeyError\u001b[0m: 'product_length_cm'",
      "\nThe above exception was the direct cause of the following exception:\n",
      "\u001b[0;31mKeyError\u001b[0m                                  Traceback (most recent call last)",
      "File \u001b[0;32m~/.pyenv/versions/3.8.12/envs/web3/lib/python3.8/site-packages/sklearn/utils/__init__.py:433\u001b[0m, in \u001b[0;36m_get_column_indices\u001b[0;34m(X, key)\u001b[0m\n\u001b[1;32m    <a href='file:///home/lchaves/.pyenv/versions/3.8.12/envs/web3/lib/python3.8/site-packages/sklearn/utils/__init__.py?line=431'>432</a>\u001b[0m \u001b[39mfor\u001b[39;00m col \u001b[39min\u001b[39;00m columns:\n\u001b[0;32m--> <a href='file:///home/lchaves/.pyenv/versions/3.8.12/envs/web3/lib/python3.8/site-packages/sklearn/utils/__init__.py?line=432'>433</a>\u001b[0m     col_idx \u001b[39m=\u001b[39m all_columns\u001b[39m.\u001b[39;49mget_loc(col)\n\u001b[1;32m    <a href='file:///home/lchaves/.pyenv/versions/3.8.12/envs/web3/lib/python3.8/site-packages/sklearn/utils/__init__.py?line=433'>434</a>\u001b[0m     \u001b[39mif\u001b[39;00m \u001b[39mnot\u001b[39;00m \u001b[39misinstance\u001b[39m(col_idx, numbers\u001b[39m.\u001b[39mIntegral):\n",
      "File \u001b[0;32m~/.pyenv/versions/3.8.12/envs/web3/lib/python3.8/site-packages/pandas/core/indexes/base.py:3623\u001b[0m, in \u001b[0;36mIndex.get_loc\u001b[0;34m(self, key, method, tolerance)\u001b[0m\n\u001b[1;32m   <a href='file:///home/lchaves/.pyenv/versions/3.8.12/envs/web3/lib/python3.8/site-packages/pandas/core/indexes/base.py?line=3621'>3622</a>\u001b[0m \u001b[39mexcept\u001b[39;00m \u001b[39mKeyError\u001b[39;00m \u001b[39mas\u001b[39;00m err:\n\u001b[0;32m-> <a href='file:///home/lchaves/.pyenv/versions/3.8.12/envs/web3/lib/python3.8/site-packages/pandas/core/indexes/base.py?line=3622'>3623</a>\u001b[0m     \u001b[39mraise\u001b[39;00m \u001b[39mKeyError\u001b[39;00m(key) \u001b[39mfrom\u001b[39;00m \u001b[39merr\u001b[39;00m\n\u001b[1;32m   <a href='file:///home/lchaves/.pyenv/versions/3.8.12/envs/web3/lib/python3.8/site-packages/pandas/core/indexes/base.py?line=3623'>3624</a>\u001b[0m \u001b[39mexcept\u001b[39;00m \u001b[39mTypeError\u001b[39;00m:\n\u001b[1;32m   <a href='file:///home/lchaves/.pyenv/versions/3.8.12/envs/web3/lib/python3.8/site-packages/pandas/core/indexes/base.py?line=3624'>3625</a>\u001b[0m     \u001b[39m# If we have a listlike key, _check_indexing_error will raise\u001b[39;00m\n\u001b[1;32m   <a href='file:///home/lchaves/.pyenv/versions/3.8.12/envs/web3/lib/python3.8/site-packages/pandas/core/indexes/base.py?line=3625'>3626</a>\u001b[0m     \u001b[39m#  InvalidIndexError. Otherwise we fall through and re-raise\u001b[39;00m\n\u001b[1;32m   <a href='file:///home/lchaves/.pyenv/versions/3.8.12/envs/web3/lib/python3.8/site-packages/pandas/core/indexes/base.py?line=3626'>3627</a>\u001b[0m     \u001b[39m#  the TypeError.\u001b[39;00m\n",
      "\u001b[0;31mKeyError\u001b[0m: 'product_length_cm'",
      "\nThe above exception was the direct cause of the following exception:\n",
      "\u001b[0;31mValueError\u001b[0m                                Traceback (most recent call last)",
      "\u001b[1;32m/home/lchaves/Desktop/Web3-Project/notebooks/ModeloInicial-Leo.ipynb Cell 21'\u001b[0m in \u001b[0;36m<cell line: 1>\u001b[0;34m()\u001b[0m\n\u001b[0;32m----> <a href='vscode-notebook-cell:/home/lchaves/Desktop/Web3-Project/notebooks/ModeloInicial-Leo.ipynb#ch0000028?line=0'>1</a>\u001b[0m pipe\u001b[39m.\u001b[39;49mfit_transform(df)\n",
      "File \u001b[0;32m~/.pyenv/versions/3.8.12/envs/web3/lib/python3.8/site-packages/sklearn/pipeline.py:426\u001b[0m, in \u001b[0;36mPipeline.fit_transform\u001b[0;34m(self, X, y, **fit_params)\u001b[0m\n\u001b[1;32m    <a href='file:///home/lchaves/.pyenv/versions/3.8.12/envs/web3/lib/python3.8/site-packages/sklearn/pipeline.py?line=398'>399</a>\u001b[0m \u001b[39m\"\"\"Fit the model and transform with the final estimator.\u001b[39;00m\n\u001b[1;32m    <a href='file:///home/lchaves/.pyenv/versions/3.8.12/envs/web3/lib/python3.8/site-packages/sklearn/pipeline.py?line=399'>400</a>\u001b[0m \n\u001b[1;32m    <a href='file:///home/lchaves/.pyenv/versions/3.8.12/envs/web3/lib/python3.8/site-packages/sklearn/pipeline.py?line=400'>401</a>\u001b[0m \u001b[39mFits all the transformers one after the other and transform the\u001b[39;00m\n\u001b[0;32m   (...)\u001b[0m\n\u001b[1;32m    <a href='file:///home/lchaves/.pyenv/versions/3.8.12/envs/web3/lib/python3.8/site-packages/sklearn/pipeline.py?line=422'>423</a>\u001b[0m \u001b[39m    Transformed samples.\u001b[39;00m\n\u001b[1;32m    <a href='file:///home/lchaves/.pyenv/versions/3.8.12/envs/web3/lib/python3.8/site-packages/sklearn/pipeline.py?line=423'>424</a>\u001b[0m \u001b[39m\"\"\"\u001b[39;00m\n\u001b[1;32m    <a href='file:///home/lchaves/.pyenv/versions/3.8.12/envs/web3/lib/python3.8/site-packages/sklearn/pipeline.py?line=424'>425</a>\u001b[0m fit_params_steps \u001b[39m=\u001b[39m \u001b[39mself\u001b[39m\u001b[39m.\u001b[39m_check_fit_params(\u001b[39m*\u001b[39m\u001b[39m*\u001b[39mfit_params)\n\u001b[0;32m--> <a href='file:///home/lchaves/.pyenv/versions/3.8.12/envs/web3/lib/python3.8/site-packages/sklearn/pipeline.py?line=425'>426</a>\u001b[0m Xt \u001b[39m=\u001b[39m \u001b[39mself\u001b[39;49m\u001b[39m.\u001b[39;49m_fit(X, y, \u001b[39m*\u001b[39;49m\u001b[39m*\u001b[39;49mfit_params_steps)\n\u001b[1;32m    <a href='file:///home/lchaves/.pyenv/versions/3.8.12/envs/web3/lib/python3.8/site-packages/sklearn/pipeline.py?line=427'>428</a>\u001b[0m last_step \u001b[39m=\u001b[39m \u001b[39mself\u001b[39m\u001b[39m.\u001b[39m_final_estimator\n\u001b[1;32m    <a href='file:///home/lchaves/.pyenv/versions/3.8.12/envs/web3/lib/python3.8/site-packages/sklearn/pipeline.py?line=428'>429</a>\u001b[0m \u001b[39mwith\u001b[39;00m _print_elapsed_time(\u001b[39m\"\u001b[39m\u001b[39mPipeline\u001b[39m\u001b[39m\"\u001b[39m, \u001b[39mself\u001b[39m\u001b[39m.\u001b[39m_log_message(\u001b[39mlen\u001b[39m(\u001b[39mself\u001b[39m\u001b[39m.\u001b[39msteps) \u001b[39m-\u001b[39m \u001b[39m1\u001b[39m)):\n",
      "File \u001b[0;32m~/.pyenv/versions/3.8.12/envs/web3/lib/python3.8/site-packages/sklearn/pipeline.py:348\u001b[0m, in \u001b[0;36mPipeline._fit\u001b[0;34m(self, X, y, **fit_params_steps)\u001b[0m\n\u001b[1;32m    <a href='file:///home/lchaves/.pyenv/versions/3.8.12/envs/web3/lib/python3.8/site-packages/sklearn/pipeline.py?line=345'>346</a>\u001b[0m     cloned_transformer \u001b[39m=\u001b[39m clone(transformer)\n\u001b[1;32m    <a href='file:///home/lchaves/.pyenv/versions/3.8.12/envs/web3/lib/python3.8/site-packages/sklearn/pipeline.py?line=346'>347</a>\u001b[0m \u001b[39m# Fit or load from cache the current transformer\u001b[39;00m\n\u001b[0;32m--> <a href='file:///home/lchaves/.pyenv/versions/3.8.12/envs/web3/lib/python3.8/site-packages/sklearn/pipeline.py?line=347'>348</a>\u001b[0m X, fitted_transformer \u001b[39m=\u001b[39m fit_transform_one_cached(\n\u001b[1;32m    <a href='file:///home/lchaves/.pyenv/versions/3.8.12/envs/web3/lib/python3.8/site-packages/sklearn/pipeline.py?line=348'>349</a>\u001b[0m     cloned_transformer,\n\u001b[1;32m    <a href='file:///home/lchaves/.pyenv/versions/3.8.12/envs/web3/lib/python3.8/site-packages/sklearn/pipeline.py?line=349'>350</a>\u001b[0m     X,\n\u001b[1;32m    <a href='file:///home/lchaves/.pyenv/versions/3.8.12/envs/web3/lib/python3.8/site-packages/sklearn/pipeline.py?line=350'>351</a>\u001b[0m     y,\n\u001b[1;32m    <a href='file:///home/lchaves/.pyenv/versions/3.8.12/envs/web3/lib/python3.8/site-packages/sklearn/pipeline.py?line=351'>352</a>\u001b[0m     \u001b[39mNone\u001b[39;49;00m,\n\u001b[1;32m    <a href='file:///home/lchaves/.pyenv/versions/3.8.12/envs/web3/lib/python3.8/site-packages/sklearn/pipeline.py?line=352'>353</a>\u001b[0m     message_clsname\u001b[39m=\u001b[39;49m\u001b[39m\"\u001b[39;49m\u001b[39mPipeline\u001b[39;49m\u001b[39m\"\u001b[39;49m,\n\u001b[1;32m    <a href='file:///home/lchaves/.pyenv/versions/3.8.12/envs/web3/lib/python3.8/site-packages/sklearn/pipeline.py?line=353'>354</a>\u001b[0m     message\u001b[39m=\u001b[39;49m\u001b[39mself\u001b[39;49m\u001b[39m.\u001b[39;49m_log_message(step_idx),\n\u001b[1;32m    <a href='file:///home/lchaves/.pyenv/versions/3.8.12/envs/web3/lib/python3.8/site-packages/sklearn/pipeline.py?line=354'>355</a>\u001b[0m     \u001b[39m*\u001b[39;49m\u001b[39m*\u001b[39;49mfit_params_steps[name],\n\u001b[1;32m    <a href='file:///home/lchaves/.pyenv/versions/3.8.12/envs/web3/lib/python3.8/site-packages/sklearn/pipeline.py?line=355'>356</a>\u001b[0m )\n\u001b[1;32m    <a href='file:///home/lchaves/.pyenv/versions/3.8.12/envs/web3/lib/python3.8/site-packages/sklearn/pipeline.py?line=356'>357</a>\u001b[0m \u001b[39m# Replace the transformer of the step with the fitted\u001b[39;00m\n\u001b[1;32m    <a href='file:///home/lchaves/.pyenv/versions/3.8.12/envs/web3/lib/python3.8/site-packages/sklearn/pipeline.py?line=357'>358</a>\u001b[0m \u001b[39m# transformer. This is necessary when loading the transformer\u001b[39;00m\n\u001b[1;32m    <a href='file:///home/lchaves/.pyenv/versions/3.8.12/envs/web3/lib/python3.8/site-packages/sklearn/pipeline.py?line=358'>359</a>\u001b[0m \u001b[39m# from the cache.\u001b[39;00m\n\u001b[1;32m    <a href='file:///home/lchaves/.pyenv/versions/3.8.12/envs/web3/lib/python3.8/site-packages/sklearn/pipeline.py?line=359'>360</a>\u001b[0m \u001b[39mself\u001b[39m\u001b[39m.\u001b[39msteps[step_idx] \u001b[39m=\u001b[39m (name, fitted_transformer)\n",
      "File \u001b[0;32m~/.pyenv/versions/3.8.12/envs/web3/lib/python3.8/site-packages/joblib/memory.py:349\u001b[0m, in \u001b[0;36mNotMemorizedFunc.__call__\u001b[0;34m(self, *args, **kwargs)\u001b[0m\n\u001b[1;32m    <a href='file:///home/lchaves/.pyenv/versions/3.8.12/envs/web3/lib/python3.8/site-packages/joblib/memory.py?line=347'>348</a>\u001b[0m \u001b[39mdef\u001b[39;00m \u001b[39m__call__\u001b[39m(\u001b[39mself\u001b[39m, \u001b[39m*\u001b[39margs, \u001b[39m*\u001b[39m\u001b[39m*\u001b[39mkwargs):\n\u001b[0;32m--> <a href='file:///home/lchaves/.pyenv/versions/3.8.12/envs/web3/lib/python3.8/site-packages/joblib/memory.py?line=348'>349</a>\u001b[0m     \u001b[39mreturn\u001b[39;00m \u001b[39mself\u001b[39;49m\u001b[39m.\u001b[39;49mfunc(\u001b[39m*\u001b[39;49margs, \u001b[39m*\u001b[39;49m\u001b[39m*\u001b[39;49mkwargs)\n",
      "File \u001b[0;32m~/.pyenv/versions/3.8.12/envs/web3/lib/python3.8/site-packages/sklearn/pipeline.py:893\u001b[0m, in \u001b[0;36m_fit_transform_one\u001b[0;34m(transformer, X, y, weight, message_clsname, message, **fit_params)\u001b[0m\n\u001b[1;32m    <a href='file:///home/lchaves/.pyenv/versions/3.8.12/envs/web3/lib/python3.8/site-packages/sklearn/pipeline.py?line=890'>891</a>\u001b[0m \u001b[39mwith\u001b[39;00m _print_elapsed_time(message_clsname, message):\n\u001b[1;32m    <a href='file:///home/lchaves/.pyenv/versions/3.8.12/envs/web3/lib/python3.8/site-packages/sklearn/pipeline.py?line=891'>892</a>\u001b[0m     \u001b[39mif\u001b[39;00m \u001b[39mhasattr\u001b[39m(transformer, \u001b[39m\"\u001b[39m\u001b[39mfit_transform\u001b[39m\u001b[39m\"\u001b[39m):\n\u001b[0;32m--> <a href='file:///home/lchaves/.pyenv/versions/3.8.12/envs/web3/lib/python3.8/site-packages/sklearn/pipeline.py?line=892'>893</a>\u001b[0m         res \u001b[39m=\u001b[39m transformer\u001b[39m.\u001b[39;49mfit_transform(X, y, \u001b[39m*\u001b[39;49m\u001b[39m*\u001b[39;49mfit_params)\n\u001b[1;32m    <a href='file:///home/lchaves/.pyenv/versions/3.8.12/envs/web3/lib/python3.8/site-packages/sklearn/pipeline.py?line=893'>894</a>\u001b[0m     \u001b[39melse\u001b[39;00m:\n\u001b[1;32m    <a href='file:///home/lchaves/.pyenv/versions/3.8.12/envs/web3/lib/python3.8/site-packages/sklearn/pipeline.py?line=894'>895</a>\u001b[0m         res \u001b[39m=\u001b[39m transformer\u001b[39m.\u001b[39mfit(X, y, \u001b[39m*\u001b[39m\u001b[39m*\u001b[39mfit_params)\u001b[39m.\u001b[39mtransform(X)\n",
      "File \u001b[0;32m~/.pyenv/versions/3.8.12/envs/web3/lib/python3.8/site-packages/sklearn/compose/_column_transformer.py:672\u001b[0m, in \u001b[0;36mColumnTransformer.fit_transform\u001b[0;34m(self, X, y)\u001b[0m\n\u001b[1;32m    <a href='file:///home/lchaves/.pyenv/versions/3.8.12/envs/web3/lib/python3.8/site-packages/sklearn/compose/_column_transformer.py?line=669'>670</a>\u001b[0m \u001b[39mself\u001b[39m\u001b[39m.\u001b[39m_check_n_features(X, reset\u001b[39m=\u001b[39m\u001b[39mTrue\u001b[39;00m)\n\u001b[1;32m    <a href='file:///home/lchaves/.pyenv/versions/3.8.12/envs/web3/lib/python3.8/site-packages/sklearn/compose/_column_transformer.py?line=670'>671</a>\u001b[0m \u001b[39mself\u001b[39m\u001b[39m.\u001b[39m_validate_transformers()\n\u001b[0;32m--> <a href='file:///home/lchaves/.pyenv/versions/3.8.12/envs/web3/lib/python3.8/site-packages/sklearn/compose/_column_transformer.py?line=671'>672</a>\u001b[0m \u001b[39mself\u001b[39;49m\u001b[39m.\u001b[39;49m_validate_column_callables(X)\n\u001b[1;32m    <a href='file:///home/lchaves/.pyenv/versions/3.8.12/envs/web3/lib/python3.8/site-packages/sklearn/compose/_column_transformer.py?line=672'>673</a>\u001b[0m \u001b[39mself\u001b[39m\u001b[39m.\u001b[39m_validate_remainder(X)\n\u001b[1;32m    <a href='file:///home/lchaves/.pyenv/versions/3.8.12/envs/web3/lib/python3.8/site-packages/sklearn/compose/_column_transformer.py?line=674'>675</a>\u001b[0m result \u001b[39m=\u001b[39m \u001b[39mself\u001b[39m\u001b[39m.\u001b[39m_fit_transform(X, y, _fit_transform_one)\n",
      "File \u001b[0;32m~/.pyenv/versions/3.8.12/envs/web3/lib/python3.8/site-packages/sklearn/compose/_column_transformer.py:352\u001b[0m, in \u001b[0;36mColumnTransformer._validate_column_callables\u001b[0;34m(self, X)\u001b[0m\n\u001b[1;32m    <a href='file:///home/lchaves/.pyenv/versions/3.8.12/envs/web3/lib/python3.8/site-packages/sklearn/compose/_column_transformer.py?line=349'>350</a>\u001b[0m         columns \u001b[39m=\u001b[39m columns(X)\n\u001b[1;32m    <a href='file:///home/lchaves/.pyenv/versions/3.8.12/envs/web3/lib/python3.8/site-packages/sklearn/compose/_column_transformer.py?line=350'>351</a>\u001b[0m     all_columns\u001b[39m.\u001b[39mappend(columns)\n\u001b[0;32m--> <a href='file:///home/lchaves/.pyenv/versions/3.8.12/envs/web3/lib/python3.8/site-packages/sklearn/compose/_column_transformer.py?line=351'>352</a>\u001b[0m     transformer_to_input_indices[name] \u001b[39m=\u001b[39m _get_column_indices(X, columns)\n\u001b[1;32m    <a href='file:///home/lchaves/.pyenv/versions/3.8.12/envs/web3/lib/python3.8/site-packages/sklearn/compose/_column_transformer.py?line=353'>354</a>\u001b[0m \u001b[39mself\u001b[39m\u001b[39m.\u001b[39m_columns \u001b[39m=\u001b[39m all_columns\n\u001b[1;32m    <a href='file:///home/lchaves/.pyenv/versions/3.8.12/envs/web3/lib/python3.8/site-packages/sklearn/compose/_column_transformer.py?line=354'>355</a>\u001b[0m \u001b[39mself\u001b[39m\u001b[39m.\u001b[39m_transformer_to_input_indices \u001b[39m=\u001b[39m transformer_to_input_indices\n",
      "File \u001b[0;32m~/.pyenv/versions/3.8.12/envs/web3/lib/python3.8/site-packages/sklearn/utils/__init__.py:441\u001b[0m, in \u001b[0;36m_get_column_indices\u001b[0;34m(X, key)\u001b[0m\n\u001b[1;32m    <a href='file:///home/lchaves/.pyenv/versions/3.8.12/envs/web3/lib/python3.8/site-packages/sklearn/utils/__init__.py?line=437'>438</a>\u001b[0m             column_indices\u001b[39m.\u001b[39mappend(col_idx)\n\u001b[1;32m    <a href='file:///home/lchaves/.pyenv/versions/3.8.12/envs/web3/lib/python3.8/site-packages/sklearn/utils/__init__.py?line=439'>440</a>\u001b[0m     \u001b[39mexcept\u001b[39;00m \u001b[39mKeyError\u001b[39;00m \u001b[39mas\u001b[39;00m e:\n\u001b[0;32m--> <a href='file:///home/lchaves/.pyenv/versions/3.8.12/envs/web3/lib/python3.8/site-packages/sklearn/utils/__init__.py?line=440'>441</a>\u001b[0m         \u001b[39mraise\u001b[39;00m \u001b[39mValueError\u001b[39;00m(\u001b[39m\"\u001b[39m\u001b[39mA given column is not a column of the dataframe\u001b[39m\u001b[39m\"\u001b[39m) \u001b[39mfrom\u001b[39;00m \u001b[39me\u001b[39;00m\n\u001b[1;32m    <a href='file:///home/lchaves/.pyenv/versions/3.8.12/envs/web3/lib/python3.8/site-packages/sklearn/utils/__init__.py?line=442'>443</a>\u001b[0m     \u001b[39mreturn\u001b[39;00m column_indices\n\u001b[1;32m    <a href='file:///home/lchaves/.pyenv/versions/3.8.12/envs/web3/lib/python3.8/site-packages/sklearn/utils/__init__.py?line=443'>444</a>\u001b[0m \u001b[39melse\u001b[39;00m:\n",
      "\u001b[0;31mValueError\u001b[0m: A given column is not a column of the dataframe"
     ]
    }
   ],
   "source": [
    "pipe.fit_transform(df)"
   ]
  }
 ],
 "metadata": {
  "kernelspec": {
   "display_name": "Python 3",
   "language": "python",
   "name": "python3"
  },
  "language_info": {
   "codemirror_mode": {
    "name": "ipython",
    "version": 3
   },
   "file_extension": ".py",
   "mimetype": "text/x-python",
   "name": "python",
   "nbconvert_exporter": "python",
   "pygments_lexer": "ipython3",
   "version": "3.8.12"
  }
 },
 "nbformat": 4,
 "nbformat_minor": 5
}
