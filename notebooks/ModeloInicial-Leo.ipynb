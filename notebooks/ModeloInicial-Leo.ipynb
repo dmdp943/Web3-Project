{
 "cells": [
  {
   "cell_type": "markdown",
   "id": "b89b0517-04f4-4eb2-b088-97e9457bb88b",
   "metadata": {},
   "source": [
    "# Bibliotecas"
   ]
  },
  {
   "cell_type": "code",
   "execution_count": 1,
   "id": "d6edef4e-899a-4eb6-99aa-2cf36e43d314",
   "metadata": {},
   "outputs": [],
   "source": [
    "import pandas as pd\n",
    "import seaborn as sns\n",
    "from sklearn.linear_model import LinearRegression, LogisticRegression\n",
    "from sklearn.preprocessing import OneHotEncoder, StandardScaler, MinMaxScaler, FunctionTransformer\n",
    "from sklearn.pipeline import make_pipeline, Pipeline\n",
    "from sklearn.compose import make_column_selector, make_column_transformer, ColumnTransformer\n",
    "from statsmodels.api import OLS\n",
    "import statsmodels.api as sm\n",
    "from sklearn import set_config\n",
    "\n",
    "set_config(display='diagram')\n",
    "from sklearn.linear_model import Ridge\n"
   ]
  },
  {
   "cell_type": "code",
   "execution_count": 107,
   "id": "8fa302dc-4662-4725-a214-b1a81637a6fb",
   "metadata": {},
   "outputs": [],
   "source": [
    "df = pd.read_parquet('..//raw_data//coin_id_formated.parquet')"
   ]
  },
  {
   "cell_type": "code",
   "execution_count": 108,
   "id": "8fbb3e07-4b3d-4ba5-b7e3-9cd808730a75",
   "metadata": {},
   "outputs": [],
   "source": [
    "str_cols = ['id', 'symbol', 'name', 'asset_platform_id', 'hashing_algorithm','description','country_origin']\n",
    "df[str_cols] = df[str_cols].astype(str)\n",
    "float_cols = ['sentiment_votes_up_percentage', 'sentiment_votes_down_percentage','market_cap_rank', ]\n",
    "df[float_cols] = df[float_cols].astype(float)\n",
    "int_cols = ['coingecko_rank', 'coingecko_score','community_score', 'liquidity_score', 'twitter_followers',\n",
    "       'telegram_channel_user_count']       \n",
    "df[int_cols] = df[int_cols].astype(float)\n"
   ]
  },
  {
   "cell_type": "code",
   "execution_count": 4,
   "id": "403d8193-3c9f-4acc-a31e-18e2d8a8bcef",
   "metadata": {},
   "outputs": [
    {
     "name": "stdout",
     "output_type": "stream",
     "text": [
      "<class 'pandas.core.frame.DataFrame'>\n",
      "RangeIndex: 13675 entries, 0 to 13674\n",
      "Data columns (total 17 columns):\n",
      " #   Column                           Non-Null Count  Dtype  \n",
      "---  ------                           --------------  -----  \n",
      " 0   id                               13675 non-null  object \n",
      " 1   symbol                           13675 non-null  object \n",
      " 2   name                             13675 non-null  object \n",
      " 3   asset_platform_id                13675 non-null  object \n",
      " 4   hashing_algorithm                13675 non-null  object \n",
      " 5   categories                       13675 non-null  object \n",
      " 6   description                      13675 non-null  object \n",
      " 7   country_origin                   13675 non-null  object \n",
      " 8   sentiment_votes_up_percentage    5466 non-null   float64\n",
      " 9   sentiment_votes_down_percentage  5466 non-null   float64\n",
      " 10  market_cap_rank                  3805 non-null   float64\n",
      " 11  coingecko_rank                   13508 non-null  float64\n",
      " 12  coingecko_score                  13675 non-null  float64\n",
      " 13  community_score                  13675 non-null  float64\n",
      " 14  liquidity_score                  13675 non-null  float64\n",
      " 15  twitter_followers                13667 non-null  float64\n",
      " 16  telegram_channel_user_count      11387 non-null  float64\n",
      "dtypes: float64(9), object(8)\n",
      "memory usage: 1.8+ MB\n"
     ]
    }
   ],
   "source": [
    "df.info()"
   ]
  },
  {
   "cell_type": "markdown",
   "id": "44bcb0fe",
   "metadata": {},
   "source": [
    "### Analisando as categorias"
   ]
  },
  {
   "cell_type": "code",
   "execution_count": 109,
   "id": "1290e9e3",
   "metadata": {},
   "outputs": [],
   "source": [
    "catHandler = pd.DataFrame(df['categories'].to_list(), index=df['id'])"
   ]
  },
  {
   "cell_type": "code",
   "execution_count": 55,
   "id": "eef07688",
   "metadata": {},
   "outputs": [
    {
     "data": {
      "text/plain": [
       "array(['Masternodes', None, 'Leveraged Token', 'Storage',\n",
       "       'Decentralized Exchange Token (DEX)', 'Protocol',\n",
       "       'Fantom Ecosystem', 'Number', 'Launchpad', 'RealT Tokens',\n",
       "       'Binance Smart Chain Ecosystem', 'Wallets',\n",
       "       'Near Protocol Ecosystem', 'Non-Fungible Tokens (NFT)', 'Gambling',\n",
       "       'DaoMaker Ecosystem', 'Meme Tokens', 'Finance / Banking', 'Index',\n",
       "       'Sports', 'Polygon Ecosystem', 'Energy', 'Seigniorage',\n",
       "       'Yield Aggregator', 'Rebase Tokens', 'Avalanche Ecosystem',\n",
       "       'Aave Tokens', 'Centralized Exchange Token (CEX)',\n",
       "       'Exchange-based Tokens', 'Media', 'Yield Farming',\n",
       "       'Polkadot Ecosystem', 'Entertainment', 'Fan Token',\n",
       "       'Business Platform', 'Play To Earn', 'Communication',\n",
       "       'Business Services', 'Technology & Science', 'Governance',\n",
       "       'Infrastructure', 'Decentralized Finance (DeFi)', 'Privacy Coins',\n",
       "       'Smart Contract Platform', 'Cryptocurrency', 'Retail',\n",
       "       'xDAI Ecosystem', 'Charity', 'Legal', 'Cosmos Ecosystem',\n",
       "       'Yearn Ecosystem', 'Solana Ecosystem', 'MEV Protection',\n",
       "       'Lending/Borrowing', 'USD Stablecoin', 'Artificial Intelligence',\n",
       "       'Social Money', 'Internet of Things (IOT)', 'Stablecoins',\n",
       "       'Binance Launchpool', 'Real Estate', 'Big Data', 'DeFi Index',\n",
       "       'Terra Ecosystem', 'Fractionalized NFT', 'Eth 2.0 Staking',\n",
       "       'Arbitrum Ecosystem', 'Software', 'Niftex Shards', 'Oracle',\n",
       "       'Metaverse', 'Insurance', 'Harmony Ecosystem', 'Analytics',\n",
       "       'Education', 'Derivatives', 'Prediction Markets', 'Tourism',\n",
       "       'Asset Manager', 'Axie Infinity', 'Gaming', 'Asset-backed Tokens',\n",
       "       'CNY Stablecoin', 'Healthcare', 'Manufacturing', 'Tokenized BTC',\n",
       "       'Olympus Pro', 'Reddit Points', 'Automated Market Maker (AMM)',\n",
       "       'TokenSets', 'HECO Chain Ecosystem', 'Compound Tokens',\n",
       "       'Celo Ecosystem', 'EUR Stablecoin', 'Collectibles',\n",
       "       'Synthetic Issuer', 'ETF', 'Tokenized Gold', 'Music',\n",
       "       'Virtual Reality', 'Gig Economy', 'Options', 'Remittance',\n",
       "       'uTokens', 'Mirrored Assets', 'Wrapped-Tokens', 'Synths',\n",
       "       'Tokenized Products', 'Augmented Reality', 'Structured Products',\n",
       "       'Perpetuals', 'LP Tokens', 'KRW Stablecoin', 'Marketing',\n",
       "       'Investment', 'GBP Stablecoin', 'NFT Index'], dtype=object)"
      ]
     },
     "execution_count": 55,
     "metadata": {},
     "output_type": "execute_result"
    }
   ],
   "source": [
    "uniCats = pd.unique(catHandler.values.ravel('K'))\n",
    "uniCats"
   ]
  },
  {
   "cell_type": "code",
   "execution_count": 56,
   "id": "b464d670",
   "metadata": {},
   "outputs": [
    {
     "data": {
      "text/plain": [
       "117"
      ]
     },
     "execution_count": 56,
     "metadata": {},
     "output_type": "execute_result"
    }
   ],
   "source": [
    "len(uniCats)"
   ]
  },
  {
   "cell_type": "markdown",
   "id": "4294f6ec",
   "metadata": {},
   "source": [
    "#### tentando transformar em dummies pelo pandas"
   ]
  },
  {
   "cell_type": "code",
   "execution_count": 77,
   "id": "d50cdfc9",
   "metadata": {},
   "outputs": [],
   "source": [
    "df = pd.get_dummies(catHandler)"
   ]
  },
  {
   "cell_type": "code",
   "execution_count": 91,
   "id": "0f8ee74a",
   "metadata": {},
   "outputs": [
    {
     "data": {
      "text/plain": [
       "(484, 116)"
      ]
     },
     "execution_count": 91,
     "metadata": {},
     "output_type": "execute_result"
    }
   ],
   "source": [
    "cols = df.columns\n",
    "cols = [i.split(\"_\")[1] for i in cols]\n",
    "len(cols), len(set(cols))"
   ]
  },
  {
   "cell_type": "markdown",
   "id": "9ddcb375",
   "metadata": {},
   "source": [
    "#### criando uma função para fazer"
   ]
  },
  {
   "cell_type": "code",
   "execution_count": 105,
   "id": "8d5de2ad",
   "metadata": {},
   "outputs": [],
   "source": [
    "df_cat_dummies = pd.DataFrame(index=catHandler.index, columns=uniCats)"
   ]
  },
  {
   "cell_type": "code",
   "execution_count": 125,
   "id": "0094727d",
   "metadata": {},
   "outputs": [
    {
     "data": {
      "text/html": [
       "<div>\n",
       "<style scoped>\n",
       "    .dataframe tbody tr th:only-of-type {\n",
       "        vertical-align: middle;\n",
       "    }\n",
       "\n",
       "    .dataframe tbody tr th {\n",
       "        vertical-align: top;\n",
       "    }\n",
       "\n",
       "    .dataframe thead th {\n",
       "        text-align: right;\n",
       "    }\n",
       "</style>\n",
       "<table border=\"1\" class=\"dataframe\">\n",
       "  <thead>\n",
       "    <tr style=\"text-align: right;\">\n",
       "      <th></th>\n",
       "      <th>0</th>\n",
       "      <th>1</th>\n",
       "      <th>2</th>\n",
       "      <th>3</th>\n",
       "      <th>4</th>\n",
       "      <th>5</th>\n",
       "      <th>6</th>\n",
       "      <th>7</th>\n",
       "      <th>8</th>\n",
       "      <th>9</th>\n",
       "      <th>10</th>\n",
       "      <th>11</th>\n",
       "      <th>12</th>\n",
       "      <th>13</th>\n",
       "      <th>14</th>\n",
       "      <th>15</th>\n",
       "    </tr>\n",
       "    <tr>\n",
       "      <th>id</th>\n",
       "      <th></th>\n",
       "      <th></th>\n",
       "      <th></th>\n",
       "      <th></th>\n",
       "      <th></th>\n",
       "      <th></th>\n",
       "      <th></th>\n",
       "      <th></th>\n",
       "      <th></th>\n",
       "      <th></th>\n",
       "      <th></th>\n",
       "      <th></th>\n",
       "      <th></th>\n",
       "      <th></th>\n",
       "      <th></th>\n",
       "      <th></th>\n",
       "    </tr>\n",
       "  </thead>\n",
       "  <tbody>\n",
       "    <tr>\n",
       "      <th>01coin</th>\n",
       "      <td>Masternodes</td>\n",
       "      <td>None</td>\n",
       "      <td>None</td>\n",
       "      <td>None</td>\n",
       "      <td>None</td>\n",
       "      <td>None</td>\n",
       "      <td>None</td>\n",
       "      <td>None</td>\n",
       "      <td>None</td>\n",
       "      <td>None</td>\n",
       "      <td>None</td>\n",
       "      <td>None</td>\n",
       "      <td>None</td>\n",
       "      <td>None</td>\n",
       "      <td>None</td>\n",
       "      <td>None</td>\n",
       "    </tr>\n",
       "    <tr>\n",
       "      <th>0-5x-long-algorand-token</th>\n",
       "      <td>None</td>\n",
       "      <td>None</td>\n",
       "      <td>None</td>\n",
       "      <td>None</td>\n",
       "      <td>None</td>\n",
       "      <td>None</td>\n",
       "      <td>None</td>\n",
       "      <td>None</td>\n",
       "      <td>None</td>\n",
       "      <td>None</td>\n",
       "      <td>None</td>\n",
       "      <td>None</td>\n",
       "      <td>None</td>\n",
       "      <td>None</td>\n",
       "      <td>None</td>\n",
       "      <td>None</td>\n",
       "    </tr>\n",
       "    <tr>\n",
       "      <th>0-5x-long-altcoin-index-token</th>\n",
       "      <td>None</td>\n",
       "      <td>None</td>\n",
       "      <td>None</td>\n",
       "      <td>None</td>\n",
       "      <td>None</td>\n",
       "      <td>None</td>\n",
       "      <td>None</td>\n",
       "      <td>None</td>\n",
       "      <td>None</td>\n",
       "      <td>None</td>\n",
       "      <td>None</td>\n",
       "      <td>None</td>\n",
       "      <td>None</td>\n",
       "      <td>None</td>\n",
       "      <td>None</td>\n",
       "      <td>None</td>\n",
       "    </tr>\n",
       "    <tr>\n",
       "      <th>0-5x-long-ascendex-token-token</th>\n",
       "      <td>None</td>\n",
       "      <td>None</td>\n",
       "      <td>None</td>\n",
       "      <td>None</td>\n",
       "      <td>None</td>\n",
       "      <td>None</td>\n",
       "      <td>None</td>\n",
       "      <td>None</td>\n",
       "      <td>None</td>\n",
       "      <td>None</td>\n",
       "      <td>None</td>\n",
       "      <td>None</td>\n",
       "      <td>None</td>\n",
       "      <td>None</td>\n",
       "      <td>None</td>\n",
       "      <td>None</td>\n",
       "    </tr>\n",
       "    <tr>\n",
       "      <th>0-5x-long-bitcoin-cash-token</th>\n",
       "      <td>None</td>\n",
       "      <td>None</td>\n",
       "      <td>None</td>\n",
       "      <td>None</td>\n",
       "      <td>None</td>\n",
       "      <td>None</td>\n",
       "      <td>None</td>\n",
       "      <td>None</td>\n",
       "      <td>None</td>\n",
       "      <td>None</td>\n",
       "      <td>None</td>\n",
       "      <td>None</td>\n",
       "      <td>None</td>\n",
       "      <td>None</td>\n",
       "      <td>None</td>\n",
       "      <td>None</td>\n",
       "    </tr>\n",
       "  </tbody>\n",
       "</table>\n",
       "</div>"
      ],
      "text/plain": [
       "                                         0     1     2     3     4     5   \\\n",
       "id                                                                          \n",
       "01coin                          Masternodes  None  None  None  None  None   \n",
       "0-5x-long-algorand-token               None  None  None  None  None  None   \n",
       "0-5x-long-altcoin-index-token          None  None  None  None  None  None   \n",
       "0-5x-long-ascendex-token-token         None  None  None  None  None  None   \n",
       "0-5x-long-bitcoin-cash-token           None  None  None  None  None  None   \n",
       "\n",
       "                                  6     7     8     9     10    11    12  \\\n",
       "id                                                                         \n",
       "01coin                          None  None  None  None  None  None  None   \n",
       "0-5x-long-algorand-token        None  None  None  None  None  None  None   \n",
       "0-5x-long-altcoin-index-token   None  None  None  None  None  None  None   \n",
       "0-5x-long-ascendex-token-token  None  None  None  None  None  None  None   \n",
       "0-5x-long-bitcoin-cash-token    None  None  None  None  None  None  None   \n",
       "\n",
       "                                  13    14    15  \n",
       "id                                                \n",
       "01coin                          None  None  None  \n",
       "0-5x-long-algorand-token        None  None  None  \n",
       "0-5x-long-altcoin-index-token   None  None  None  \n",
       "0-5x-long-ascendex-token-token  None  None  None  \n",
       "0-5x-long-bitcoin-cash-token    None  None  None  "
      ]
     },
     "execution_count": 125,
     "metadata": {},
     "output_type": "execute_result"
    }
   ],
   "source": [
    "catHandler.head()"
   ]
  },
  {
   "cell_type": "code",
   "execution_count": 140,
   "id": "c855253f",
   "metadata": {},
   "outputs": [],
   "source": [
    "def findif(moeda, categoria, df = catHandler):\n",
    "    \n",
    "    cats_coin = df.T[moeda].values\n",
    "\n",
    "    if categoria in cats_coin:\n",
    "        return 1\n",
    "    else:\n",
    "        return 0"
   ]
  },
  {
   "cell_type": "code",
   "execution_count": 141,
   "id": "d357003a",
   "metadata": {},
   "outputs": [
    {
     "name": "stdout",
     "output_type": "stream",
     "text": [
      "01coin\n",
      "0-5x-long-algorand-token\n",
      "0-5x-long-altcoin-index-token\n",
      "0-5x-long-ascendex-token-token\n",
      "0-5x-long-bitcoin-cash-token\n",
      "0-5x-long-bitcoin-token\n",
      "0-5x-long-cardano-token\n",
      "0-5x-long-chainlink-token\n",
      "0-5x-long-cosmos-token\n",
      "0-5x-long-dogecoin-token\n",
      "0-5x-long-eos-token\n",
      "0-5x-long-ethereum-classic-token\n",
      "0-5x-long-ethereum-token\n",
      "0-5x-long-kyber-network-token\n",
      "0-5x-long-matic-token\n",
      "0-5x-long-privacy-index-token\n",
      "0-5x-long-swipe-token\n",
      "0-5x-long-theta-network-token\n",
      "0-5x-long-xrp-token\n",
      "0cash\n",
      "0chain\n",
      "0x\n",
      "0xcert\n",
      "0xdao\n",
      "0xdao-v2\n",
      "0xmonero\n",
      "0xpad\n",
      "0x-wormhole\n",
      "10024-10028-appoline\n",
      "10084-grayton\n",
      "100x-coin\n",
      "10604-somerset\n",
      "10612-somerset\n",
      "10616-mckinney\n",
      "10617-hathaway\n",
      "10629-mckinney\n",
      "10639-stratman\n",
      "10700-whittier\n",
      "11078-longview\n",
      "11078-wayburn\n",
      "11201-college\n"
     ]
    }
   ],
   "source": [
    "for index in df_cat_dummies.index:\n",
    "    for col in df_cat_dummies.columns:\n",
    "        df_cat_dummies[col].loc[index] = findif(index, col)\n",
    "    print(index)\n"
   ]
  },
  {
   "cell_type": "code",
   "execution_count": null,
   "id": "db23ac24",
   "metadata": {},
   "outputs": [
    {
     "data": {
      "text/plain": [
       "id\n",
       "01coin                              1\n",
       "0-5x-long-algorand-token          NaN\n",
       "0-5x-long-altcoin-index-token     NaN\n",
       "0-5x-long-ascendex-token-token    NaN\n",
       "0-5x-long-bitcoin-cash-token      NaN\n",
       "                                 ... \n",
       "thekey                            NaN\n",
       "mooncake                          NaN\n",
       "wolf-game-wool                    NaN\n",
       "misty-inu                         NaN\n",
       "mintstarter                       NaN\n",
       "Name: Masternodes, Length: 13675, dtype: object"
      ]
     },
     "execution_count": 138,
     "metadata": {},
     "output_type": "execute_result"
    }
   ],
   "source": [
    "df_cat_dummies.to_parquet(\"../raw_data/dummy_categories.parquet.gzip\")"
   ]
  },
  {
   "cell_type": "markdown",
   "id": "250dc15c-ac76-441e-bd83-ba9ff25ce675",
   "metadata": {},
   "source": [
    "## Modelo de Regressao"
   ]
  },
  {
   "cell_type": "markdown",
   "id": "d9044439-cd53-43c7-99d1-14e948326d56",
   "metadata": {},
   "source": [
    "###  Analise de Variaveis"
   ]
  },
  {
   "cell_type": "code",
   "execution_count": null,
   "id": "71ebeccf-f313-4407-aaa9-f8d29976748e",
   "metadata": {},
   "outputs": [],
   "source": []
  },
  {
   "cell_type": "code",
   "execution_count": 14,
   "id": "58d42a07",
   "metadata": {},
   "outputs": [
    {
     "data": {
      "text/html": [
       "<div>\n",
       "<style scoped>\n",
       "    .dataframe tbody tr th:only-of-type {\n",
       "        vertical-align: middle;\n",
       "    }\n",
       "\n",
       "    .dataframe tbody tr th {\n",
       "        vertical-align: top;\n",
       "    }\n",
       "\n",
       "    .dataframe thead th {\n",
       "        text-align: right;\n",
       "    }\n",
       "</style>\n",
       "<table border=\"1\" class=\"dataframe\">\n",
       "  <thead>\n",
       "    <tr style=\"text-align: right;\">\n",
       "      <th></th>\n",
       "      <th>sentiment_votes_up_percentage</th>\n",
       "      <th>sentiment_votes_down_percentage</th>\n",
       "      <th>market_cap_rank</th>\n",
       "      <th>coingecko_rank</th>\n",
       "      <th>coingecko_score</th>\n",
       "      <th>community_score</th>\n",
       "      <th>liquidity_score</th>\n",
       "      <th>twitter_followers</th>\n",
       "      <th>telegram_channel_user_count</th>\n",
       "    </tr>\n",
       "  </thead>\n",
       "  <tbody>\n",
       "    <tr>\n",
       "      <th>count</th>\n",
       "      <td>5466.000000</td>\n",
       "      <td>5466.000000</td>\n",
       "      <td>3805.000000</td>\n",
       "      <td>13508.00000</td>\n",
       "      <td>13675.000000</td>\n",
       "      <td>13675.000000</td>\n",
       "      <td>13675.000000</td>\n",
       "      <td>1.366700e+04</td>\n",
       "      <td>1.138700e+04</td>\n",
       "    </tr>\n",
       "    <tr>\n",
       "      <th>mean</th>\n",
       "      <td>72.713251</td>\n",
       "      <td>27.286760</td>\n",
       "      <td>1907.155059</td>\n",
       "      <td>6755.00459</td>\n",
       "      <td>7.799963</td>\n",
       "      <td>10.932654</td>\n",
       "      <td>5.881238</td>\n",
       "      <td>3.898929e+04</td>\n",
       "      <td>1.182694e+04</td>\n",
       "    </tr>\n",
       "    <tr>\n",
       "      <th>std</th>\n",
       "      <td>34.601871</td>\n",
       "      <td>34.601869</td>\n",
       "      <td>1127.256097</td>\n",
       "      <td>3900.60744</td>\n",
       "      <td>9.233664</td>\n",
       "      <td>9.774672</td>\n",
       "      <td>11.903772</td>\n",
       "      <td>2.494933e+05</td>\n",
       "      <td>2.962778e+04</td>\n",
       "    </tr>\n",
       "    <tr>\n",
       "      <th>min</th>\n",
       "      <td>0.000000</td>\n",
       "      <td>0.000000</td>\n",
       "      <td>1.000000</td>\n",
       "      <td>1.00000</td>\n",
       "      <td>0.000000</td>\n",
       "      <td>0.000000</td>\n",
       "      <td>0.000000</td>\n",
       "      <td>0.000000e+00</td>\n",
       "      <td>2.000000e+00</td>\n",
       "    </tr>\n",
       "    <tr>\n",
       "      <th>25%</th>\n",
       "      <td>50.000000</td>\n",
       "      <td>0.000000</td>\n",
       "      <td>950.000000</td>\n",
       "      <td>3377.75000</td>\n",
       "      <td>1.817500</td>\n",
       "      <td>6.360500</td>\n",
       "      <td>1.000000</td>\n",
       "      <td>4.840000e+02</td>\n",
       "      <td>9.820000e+02</td>\n",
       "    </tr>\n",
       "    <tr>\n",
       "      <th>50%</th>\n",
       "      <td>87.500000</td>\n",
       "      <td>12.500000</td>\n",
       "      <td>1903.000000</td>\n",
       "      <td>6754.50000</td>\n",
       "      <td>3.733000</td>\n",
       "      <td>8.661000</td>\n",
       "      <td>1.000000</td>\n",
       "      <td>5.465000e+03</td>\n",
       "      <td>3.215000e+03</td>\n",
       "    </tr>\n",
       "    <tr>\n",
       "      <th>75%</th>\n",
       "      <td>100.000000</td>\n",
       "      <td>50.000000</td>\n",
       "      <td>2853.000000</td>\n",
       "      <td>10131.00000</td>\n",
       "      <td>11.808000</td>\n",
       "      <td>10.778500</td>\n",
       "      <td>2.697500</td>\n",
       "      <td>2.579400e+04</td>\n",
       "      <td>1.124400e+04</td>\n",
       "    </tr>\n",
       "    <tr>\n",
       "      <th>max</th>\n",
       "      <td>100.000000</td>\n",
       "      <td>100.000000</td>\n",
       "      <td>13284.000000</td>\n",
       "      <td>13510.00000</td>\n",
       "      <td>81.034000</td>\n",
       "      <td>85.250000</td>\n",
       "      <td>106.715000</td>\n",
       "      <td>1.186877e+07</td>\n",
       "      <td>1.432776e+06</td>\n",
       "    </tr>\n",
       "  </tbody>\n",
       "</table>\n",
       "</div>"
      ],
      "text/plain": [
       "       sentiment_votes_up_percentage  sentiment_votes_down_percentage  \\\n",
       "count                    5466.000000                      5466.000000   \n",
       "mean                       72.713251                        27.286760   \n",
       "std                        34.601871                        34.601869   \n",
       "min                         0.000000                         0.000000   \n",
       "25%                        50.000000                         0.000000   \n",
       "50%                        87.500000                        12.500000   \n",
       "75%                       100.000000                        50.000000   \n",
       "max                       100.000000                       100.000000   \n",
       "\n",
       "       market_cap_rank  coingecko_rank  coingecko_score  community_score  \\\n",
       "count      3805.000000     13508.00000     13675.000000     13675.000000   \n",
       "mean       1907.155059      6755.00459         7.799963        10.932654   \n",
       "std        1127.256097      3900.60744         9.233664         9.774672   \n",
       "min           1.000000         1.00000         0.000000         0.000000   \n",
       "25%         950.000000      3377.75000         1.817500         6.360500   \n",
       "50%        1903.000000      6754.50000         3.733000         8.661000   \n",
       "75%        2853.000000     10131.00000        11.808000        10.778500   \n",
       "max       13284.000000     13510.00000        81.034000        85.250000   \n",
       "\n",
       "       liquidity_score  twitter_followers  telegram_channel_user_count  \n",
       "count     13675.000000       1.366700e+04                 1.138700e+04  \n",
       "mean          5.881238       3.898929e+04                 1.182694e+04  \n",
       "std          11.903772       2.494933e+05                 2.962778e+04  \n",
       "min           0.000000       0.000000e+00                 2.000000e+00  \n",
       "25%           1.000000       4.840000e+02                 9.820000e+02  \n",
       "50%           1.000000       5.465000e+03                 3.215000e+03  \n",
       "75%           2.697500       2.579400e+04                 1.124400e+04  \n",
       "max         106.715000       1.186877e+07                 1.432776e+06  "
      ]
     },
     "execution_count": 14,
     "metadata": {},
     "output_type": "execute_result"
    }
   ],
   "source": [
    "df.describe()\n"
   ]
  },
  {
   "cell_type": "code",
   "execution_count": 6,
   "id": "43685772",
   "metadata": {},
   "outputs": [
    {
     "data": {
      "text/plain": [
       "<AxesSubplot:ylabel='Frequency'>"
      ]
     },
     "execution_count": 6,
     "metadata": {},
     "output_type": "execute_result"
    },
    {
     "data": {
      "image/png": "[encoded data removed]",
      "text/plain": [
       "<Figure size 432x288 with 1 Axes>"
      ]
     },
     "metadata": {
      "needs_background": "light"
     },
     "output_type": "display_data"
    }
   ],
   "source": [
    "df[df['coingecko_rank'] != 0]['coingecko_rank'].plot(kind='hist', bins=1500)\n"
   ]
  },
  {
   "cell_type": "code",
   "execution_count": 7,
   "id": "eadf1c1b",
   "metadata": {},
   "outputs": [
    {
     "data": {
      "text/plain": [
       "<AxesSubplot:ylabel='Frequency'>"
      ]
     },
     "execution_count": 7,
     "metadata": {},
     "output_type": "execute_result"
    },
    {
     "data": {
      "image/png": "[encoded data removed]",
      "text/plain": [
       "<Figure size 432x288 with 1 Axes>"
      ]
     },
     "metadata": {
      "needs_background": "light"
     },
     "output_type": "display_data"
    }
   ],
   "source": [
    "df[df['coingecko_score'] != 0]['coingecko_score'].plot(kind='hist', bins=1500)\n"
   ]
  },
  {
   "cell_type": "code",
   "execution_count": 8,
   "id": "32ae06eb",
   "metadata": {},
   "outputs": [
    {
     "data": {
      "text/plain": [
       "<AxesSubplot:ylabel='Frequency'>"
      ]
     },
     "execution_count": 8,
     "metadata": {},
     "output_type": "execute_result"
    },
    {
     "data": {
      "image/png": "[encoded data removed]",
      "text/plain": [
       "<Figure size 432x288 with 1 Axes>"
      ]
     },
     "metadata": {
      "needs_background": "light"
     },
     "output_type": "display_data"
    }
   ],
   "source": [
    "df[df['community_score'] != 0]['community_score'].plot(kind='hist', bins=1500)\n"
   ]
  },
  {
   "cell_type": "code",
   "execution_count": 9,
   "id": "f1f55d96",
   "metadata": {},
   "outputs": [
    {
     "data": {
      "text/plain": [
       "<AxesSubplot:ylabel='Frequency'>"
      ]
     },
     "execution_count": 9,
     "metadata": {},
     "output_type": "execute_result"
    },
    {
     "data": {
      "image/png": "[encoded data removed]",
      "text/plain": [
       "<Figure size 432x288 with 1 Axes>"
      ]
     },
     "metadata": {
      "needs_background": "light"
     },
     "output_type": "display_data"
    }
   ],
   "source": [
    "df[df['liquidity_score'] != 0]['liquidity_score'].plot(kind='hist', bins=1500)\n"
   ]
  },
  {
   "cell_type": "code",
   "execution_count": 10,
   "id": "cd109fdd",
   "metadata": {},
   "outputs": [
    {
     "data": {
      "text/plain": [
       "<AxesSubplot:ylabel='Frequency'>"
      ]
     },
     "execution_count": 10,
     "metadata": {},
     "output_type": "execute_result"
    },
    {
     "data": {
      "image/png": "[encoded data removed]",
      "text/plain": [
       "<Figure size 432x288 with 1 Axes>"
      ]
     },
     "metadata": {
      "needs_background": "light"
     },
     "output_type": "display_data"
    }
   ],
   "source": [
    "df[df['twitter_followers'] != 0]['twitter_followers'].plot(kind='hist',\n",
    "                                                           bins=1500)\n"
   ]
  },
  {
   "cell_type": "markdown",
   "id": "d7291bea",
   "metadata": {},
   "source": [
    "### Build Pipeline"
   ]
  },
  {
   "cell_type": "code",
   "execution_count": null,
   "metadata": {},
   "outputs": [],
   "source": []
  },
  {
   "cell_type": "markdown",
   "id": "44b07406",
   "metadata": {},
   "source": [
    "#### Caso queira customizar alguma função"
   ]
  },
  {
   "cell_type": "code",
   "execution_count": 11,
   "id": "06c30e89",
   "metadata": {},
   "outputs": [
    {
     "data": {
      "text/html": [
       "<style>#sk-16ec6331-f1e8-47cb-929f-caeaf904127c {color: black;background-color: white;}#sk-16ec6331-f1e8-47cb-929f-caeaf904127c pre{padding: 0;}#sk-16ec6331-f1e8-47cb-929f-caeaf904127c div.sk-toggleable {background-color: white;}#sk-16ec6331-f1e8-47cb-929f-caeaf904127c label.sk-toggleable__label {cursor: pointer;display: block;width: 100%;margin-bottom: 0;padding: 0.3em;box-sizing: border-box;text-align: center;}#sk-16ec6331-f1e8-47cb-929f-caeaf904127c label.sk-toggleable__label-arrow:before {content: \"▸\";float: left;margin-right: 0.25em;color: #696969;}#sk-16ec6331-f1e8-47cb-929f-caeaf904127c label.sk-toggleable__label-arrow:hover:before {color: black;}#sk-16ec6331-f1e8-47cb-929f-caeaf904127c div.sk-estimator:hover label.sk-toggleable__label-arrow:before {color: black;}#sk-16ec6331-f1e8-47cb-929f-caeaf904127c div.sk-toggleable__content {max-height: 0;max-width: 0;overflow: hidden;text-align: left;background-color: #f0f8ff;}#sk-16ec6331-f1e8-47cb-929f-caeaf904127c div.sk-toggleable__content pre {margin: 0.2em;color: black;border-radius: 0.25em;background-color: #f0f8ff;}#sk-16ec6331-f1e8-47cb-929f-caeaf904127c input.sk-toggleable__control:checked~div.sk-toggleable__content {max-height: 200px;max-width: 100%;overflow: auto;}#sk-16ec6331-f1e8-47cb-929f-caeaf904127c input.sk-toggleable__control:checked~label.sk-toggleable__label-arrow:before {content: \"▾\";}#sk-16ec6331-f1e8-47cb-929f-caeaf904127c div.sk-estimator input.sk-toggleable__control:checked~label.sk-toggleable__label {background-color: #d4ebff;}#sk-16ec6331-f1e8-47cb-929f-caeaf904127c div.sk-label input.sk-toggleable__control:checked~label.sk-toggleable__label {background-color: #d4ebff;}#sk-16ec6331-f1e8-47cb-929f-caeaf904127c input.sk-hidden--visually {border: 0;clip: rect(1px 1px 1px 1px);clip: rect(1px, 1px, 1px, 1px);height: 1px;margin: -1px;overflow: hidden;padding: 0;position: absolute;width: 1px;}#sk-16ec6331-f1e8-47cb-929f-caeaf904127c div.sk-estimator {font-family: monospace;background-color: #f0f8ff;border: 1px dotted black;border-radius: 0.25em;box-sizing: border-box;margin-bottom: 0.5em;}#sk-16ec6331-f1e8-47cb-929f-caeaf904127c div.sk-estimator:hover {background-color: #d4ebff;}#sk-16ec6331-f1e8-47cb-929f-caeaf904127c div.sk-parallel-item::after {content: \"\";width: 100%;border-bottom: 1px solid gray;flex-grow: 1;}#sk-16ec6331-f1e8-47cb-929f-caeaf904127c div.sk-label:hover label.sk-toggleable__label {background-color: #d4ebff;}#sk-16ec6331-f1e8-47cb-929f-caeaf904127c div.sk-serial::before {content: \"\";position: absolute;border-left: 1px solid gray;box-sizing: border-box;top: 2em;bottom: 0;left: 50%;}#sk-16ec6331-f1e8-47cb-929f-caeaf904127c div.sk-serial {display: flex;flex-direction: column;align-items: center;background-color: white;padding-right: 0.2em;padding-left: 0.2em;}#sk-16ec6331-f1e8-47cb-929f-caeaf904127c div.sk-item {z-index: 1;}#sk-16ec6331-f1e8-47cb-929f-caeaf904127c div.sk-parallel {display: flex;align-items: stretch;justify-content: center;background-color: white;}#sk-16ec6331-f1e8-47cb-929f-caeaf904127c div.sk-parallel::before {content: \"\";position: absolute;border-left: 1px solid gray;box-sizing: border-box;top: 2em;bottom: 0;left: 50%;}#sk-16ec6331-f1e8-47cb-929f-caeaf904127c div.sk-parallel-item {display: flex;flex-direction: column;position: relative;background-color: white;}#sk-16ec6331-f1e8-47cb-929f-caeaf904127c div.sk-parallel-item:first-child::after {align-self: flex-end;width: 50%;}#sk-16ec6331-f1e8-47cb-929f-caeaf904127c div.sk-parallel-item:last-child::after {align-self: flex-start;width: 50%;}#sk-16ec6331-f1e8-47cb-929f-caeaf904127c div.sk-parallel-item:only-child::after {width: 0;}#sk-16ec6331-f1e8-47cb-929f-caeaf904127c div.sk-dashed-wrapped {border: 1px dashed gray;margin: 0 0.4em 0.5em 0.4em;box-sizing: border-box;padding-bottom: 0.4em;background-color: white;position: relative;}#sk-16ec6331-f1e8-47cb-929f-caeaf904127c div.sk-label label {font-family: monospace;font-weight: bold;background-color: white;display: inline-block;line-height: 1.2em;}#sk-16ec6331-f1e8-47cb-929f-caeaf904127c div.sk-label-container {position: relative;z-index: 2;text-align: center;}#sk-16ec6331-f1e8-47cb-929f-caeaf904127c div.sk-container {/* jupyter's `normalize.less` sets `[hidden] { display: none; }` but bootstrap.min.css set `[hidden] { display: none !important; }` so we also need the `!important` here to be able to override the default hidden behavior on the sphinx rendered scikit-learn.org. See: https://github.com/scikit-learn/scikit-learn/issues/21755 */display: inline-block !important;position: relative;}#sk-16ec6331-f1e8-47cb-929f-caeaf904127c div.sk-text-repr-fallback {display: none;}</style><div id=\"sk-16ec6331-f1e8-47cb-929f-caeaf904127c\" class=\"sk-top-container\"><div class=\"sk-text-repr-fallback\"><pre>Pipeline(steps=[(&#x27;preprocessing&#x27;,\n",
       "                 ColumnTransformer(transformers=[(&#x27;num_encoder&#x27;, MinMaxScaler(),\n",
       "                                                  &lt;sklearn.compose._column_transformer.make_column_selector object at 0x7fe948dc6c10&gt;),\n",
       "                                                 (&#x27;cat_encoder&#x27;,\n",
       "                                                  OneHotEncoder(handle_unknown=&#x27;ignore&#x27;,\n",
       "                                                                sparse=False),\n",
       "                                                  &lt;sklearn.compose._column_transformer.make_column_selector object at 0x7fe948dc6dc0&gt;),\n",
       "                                                 (&#x27;volume_computer&#x27;,\n",
       "                                                  Pipeline(steps=[(&#x27;compute_volume&#x27;,\n",
       "                                                                   FunctionTransformer(func=&lt;function multiply at 0x7fe948e761f0&gt;)),\n",
       "                                                                  (&#x27;scale_volume&#x27;,\n",
       "                                                                   MinMaxScaler())]),\n",
       "                                                  [&#x27;product_length_cm&#x27;,\n",
       "                                                   &#x27;product_height_cm&#x27;,\n",
       "                                                   &#x27;product_width_cm&#x27;])])),\n",
       "                (&#x27;linear_regression&#x27;, Ridge())])</pre><b>Please rerun this cell to show the HTML repr or trust the notebook.</b></div><div class=\"sk-container\" hidden><div class=\"sk-item sk-dashed-wrapped\"><div class=\"sk-label-container\"><div class=\"sk-label sk-toggleable\"><input class=\"sk-toggleable__control sk-hidden--visually\" id=\"73b4a7f3-c495-4dc2-98c4-d105e43330e7\" type=\"checkbox\" ><label for=\"73b4a7f3-c495-4dc2-98c4-d105e43330e7\" class=\"sk-toggleable__label sk-toggleable__label-arrow\">Pipeline</label><div class=\"sk-toggleable__content\"><pre>Pipeline(steps=[(&#x27;preprocessing&#x27;,\n",
       "                 ColumnTransformer(transformers=[(&#x27;num_encoder&#x27;, MinMaxScaler(),\n",
       "                                                  &lt;sklearn.compose._column_transformer.make_column_selector object at 0x7fe948dc6c10&gt;),\n",
       "                                                 (&#x27;cat_encoder&#x27;,\n",
       "                                                  OneHotEncoder(handle_unknown=&#x27;ignore&#x27;,\n",
       "                                                                sparse=False),\n",
       "                                                  &lt;sklearn.compose._column_transformer.make_column_selector object at 0x7fe948dc6dc0&gt;),\n",
       "                                                 (&#x27;volume_computer&#x27;,\n",
       "                                                  Pipeline(steps=[(&#x27;compute_volume&#x27;,\n",
       "                                                                   FunctionTransformer(func=&lt;function multiply at 0x7fe948e761f0&gt;)),\n",
       "                                                                  (&#x27;scale_volume&#x27;,\n",
       "                                                                   MinMaxScaler())]),\n",
       "                                                  [&#x27;product_length_cm&#x27;,\n",
       "                                                   &#x27;product_height_cm&#x27;,\n",
       "                                                   &#x27;product_width_cm&#x27;])])),\n",
       "                (&#x27;linear_regression&#x27;, Ridge())])</pre></div></div></div><div class=\"sk-serial\"><div class=\"sk-item sk-dashed-wrapped\"><div class=\"sk-label-container\"><div class=\"sk-label sk-toggleable\"><input class=\"sk-toggleable__control sk-hidden--visually\" id=\"17736176-cbb3-4a38-84de-3f9a59a4c4be\" type=\"checkbox\" ><label for=\"17736176-cbb3-4a38-84de-3f9a59a4c4be\" class=\"sk-toggleable__label sk-toggleable__label-arrow\">preprocessing: ColumnTransformer</label><div class=\"sk-toggleable__content\"><pre>ColumnTransformer(transformers=[(&#x27;num_encoder&#x27;, MinMaxScaler(),\n",
       "                                 &lt;sklearn.compose._column_transformer.make_column_selector object at 0x7fe948dc6c10&gt;),\n",
       "                                (&#x27;cat_encoder&#x27;,\n",
       "                                 OneHotEncoder(handle_unknown=&#x27;ignore&#x27;,\n",
       "                                               sparse=False),\n",
       "                                 &lt;sklearn.compose._column_transformer.make_column_selector object at 0x7fe948dc6dc0&gt;),\n",
       "                                (&#x27;volume_computer&#x27;,\n",
       "                                 Pipeline(steps=[(&#x27;compute_volume&#x27;,\n",
       "                                                  FunctionTransformer(func=&lt;function multiply at 0x7fe948e761f0&gt;)),\n",
       "                                                 (&#x27;scale_volume&#x27;,\n",
       "                                                  MinMaxScaler())]),\n",
       "                                 [&#x27;product_length_cm&#x27;, &#x27;product_height_cm&#x27;,\n",
       "                                  &#x27;product_width_cm&#x27;])])</pre></div></div></div><div class=\"sk-parallel\"><div class=\"sk-parallel-item\"><div class=\"sk-item\"><div class=\"sk-label-container\"><div class=\"sk-label sk-toggleable\"><input class=\"sk-toggleable__control sk-hidden--visually\" id=\"e43874bc-7470-4fc3-9d18-a6b370fdedb9\" type=\"checkbox\" ><label for=\"e43874bc-7470-4fc3-9d18-a6b370fdedb9\" class=\"sk-toggleable__label sk-toggleable__label-arrow\">num_encoder</label><div class=\"sk-toggleable__content\"><pre>&lt;sklearn.compose._column_transformer.make_column_selector object at 0x7fe948dc6c10&gt;</pre></div></div></div><div class=\"sk-serial\"><div class=\"sk-item\"><div class=\"sk-estimator sk-toggleable\"><input class=\"sk-toggleable__control sk-hidden--visually\" id=\"56b468ef-e8df-4a7f-9931-d169573f387a\" type=\"checkbox\" ><label for=\"56b468ef-e8df-4a7f-9931-d169573f387a\" class=\"sk-toggleable__label sk-toggleable__label-arrow\">MinMaxScaler</label><div class=\"sk-toggleable__content\"><pre>MinMaxScaler()</pre></div></div></div></div></div></div><div class=\"sk-parallel-item\"><div class=\"sk-item\"><div class=\"sk-label-container\"><div class=\"sk-label sk-toggleable\"><input class=\"sk-toggleable__control sk-hidden--visually\" id=\"bbf2b639-7e41-4abe-ba97-e10156349486\" type=\"checkbox\" ><label for=\"bbf2b639-7e41-4abe-ba97-e10156349486\" class=\"sk-toggleable__label sk-toggleable__label-arrow\">cat_encoder</label><div class=\"sk-toggleable__content\"><pre>&lt;sklearn.compose._column_transformer.make_column_selector object at 0x7fe948dc6dc0&gt;</pre></div></div></div><div class=\"sk-serial\"><div class=\"sk-item\"><div class=\"sk-estimator sk-toggleable\"><input class=\"sk-toggleable__control sk-hidden--visually\" id=\"5ba93975-1996-4a71-b51c-5e17083de853\" type=\"checkbox\" ><label for=\"5ba93975-1996-4a71-b51c-5e17083de853\" class=\"sk-toggleable__label sk-toggleable__label-arrow\">OneHotEncoder</label><div class=\"sk-toggleable__content\"><pre>OneHotEncoder(handle_unknown=&#x27;ignore&#x27;, sparse=False)</pre></div></div></div></div></div></div><div class=\"sk-parallel-item\"><div class=\"sk-item\"><div class=\"sk-label-container\"><div class=\"sk-label sk-toggleable\"><input class=\"sk-toggleable__control sk-hidden--visually\" id=\"b7590fb0-0c51-44b6-831f-7478761021e0\" type=\"checkbox\" ><label for=\"b7590fb0-0c51-44b6-831f-7478761021e0\" class=\"sk-toggleable__label sk-toggleable__label-arrow\">volume_computer</label><div class=\"sk-toggleable__content\"><pre>[&#x27;product_length_cm&#x27;, &#x27;product_height_cm&#x27;, &#x27;product_width_cm&#x27;]</pre></div></div></div><div class=\"sk-serial\"><div class=\"sk-item\"><div class=\"sk-serial\"><div class=\"sk-item\"><div class=\"sk-estimator sk-toggleable\"><input class=\"sk-toggleable__control sk-hidden--visually\" id=\"135e94c9-22bf-4af3-9b21-2ea7e6a0b14c\" type=\"checkbox\" ><label for=\"135e94c9-22bf-4af3-9b21-2ea7e6a0b14c\" class=\"sk-toggleable__label sk-toggleable__label-arrow\">FunctionTransformer</label><div class=\"sk-toggleable__content\"><pre>FunctionTransformer(func=&lt;function multiply at 0x7fe948e761f0&gt;)</pre></div></div></div><div class=\"sk-item\"><div class=\"sk-estimator sk-toggleable\"><input class=\"sk-toggleable__control sk-hidden--visually\" id=\"0e71a4fe-fa37-4ec4-ae5c-d810f310365f\" type=\"checkbox\" ><label for=\"0e71a4fe-fa37-4ec4-ae5c-d810f310365f\" class=\"sk-toggleable__label sk-toggleable__label-arrow\">MinMaxScaler</label><div class=\"sk-toggleable__content\"><pre>MinMaxScaler()</pre></div></div></div></div></div></div></div></div></div></div><div class=\"sk-item\"><div class=\"sk-estimator sk-toggleable\"><input class=\"sk-toggleable__control sk-hidden--visually\" id=\"3b9776f6-957d-4697-9780-092b3c98dbdc\" type=\"checkbox\" ><label for=\"3b9776f6-957d-4697-9780-092b3c98dbdc\" class=\"sk-toggleable__label sk-toggleable__label-arrow\">Ridge</label><div class=\"sk-toggleable__content\"><pre>Ridge()</pre></div></div></div></div></div></div></div>"
      ],
      "text/plain": [
       "Pipeline(steps=[('preprocessing',\n",
       "                 ColumnTransformer(transformers=[('num_encoder', MinMaxScaler(),\n",
       "                                                  <sklearn.compose._column_transformer.make_column_selector object at 0x7fe948dc6c10>),\n",
       "                                                 ('cat_encoder',\n",
       "                                                  OneHotEncoder(handle_unknown='ignore',\n",
       "                                                                sparse=False),\n",
       "                                                  <sklearn.compose._column_transformer.make_column_selector object at 0x7fe948dc6dc0>),\n",
       "                                                 ('volume_computer',\n",
       "                                                  Pipeline(steps=[('compute_volume',\n",
       "                                                                   FunctionTransformer(func=<function multiply at 0x7fe948e761f0>)),\n",
       "                                                                  ('scale_volume',\n",
       "                                                                   MinMaxScaler())]),\n",
       "                                                  ['product_length_cm',\n",
       "                                                   'product_height_cm',\n",
       "                                                   'product_width_cm'])])),\n",
       "                ('linear_regression', Ridge())])"
      ]
     },
     "execution_count": 11,
     "metadata": {},
     "output_type": "execute_result"
    }
   ],
   "source": [
    "def multiply(df):\n",
    "    return pd.DataFrame(df['product_length_cm'] * df['product_height_cm'] *\n",
    "                        df['product_width_cm'])\n",
    "\n",
    "\n",
    "volume_computer = Pipeline([('compute_volume', FunctionTransformer(multiply)),\n",
    "                            ('scale_volume', MinMaxScaler())])\n",
    "\n",
    "final_preprocessor = ColumnTransformer([\n",
    "    ('num_encoder', MinMaxScaler(),\n",
    "     make_column_selector(dtype_include=\"int64\")),\n",
    "    ('cat_encoder', OneHotEncoder(handle_unknown='ignore', sparse=False),\n",
    "     make_column_selector(dtype_include=\"object\")),\n",
    "    ('volume_computer', volume_computer,\n",
    "     ['product_length_cm', 'product_height_cm', 'product_width_cm'])\n",
    "])\n",
    "\n",
    "pipe = Pipeline([('preprocessing', final_preprocessor),\n",
    "                 ('linear_regression', Ridge())])\n",
    "\n",
    "pipe"
   ]
  },
  {
   "cell_type": "markdown",
   "id": "d2eba46d",
   "metadata": {},
   "source": [
    "#### Caso use as padrões"
   ]
  },
  {
   "cell_type": "code",
   "execution_count": 15,
   "id": "79636783",
   "metadata": {},
   "outputs": [
    {
     "data": {
      "text/html": [
       "<style>#sk-88a50a8b-79ab-4f58-acb0-ec9c5799e7c9 {color: black;background-color: white;}#sk-88a50a8b-79ab-4f58-acb0-ec9c5799e7c9 pre{padding: 0;}#sk-88a50a8b-79ab-4f58-acb0-ec9c5799e7c9 div.sk-toggleable {background-color: white;}#sk-88a50a8b-79ab-4f58-acb0-ec9c5799e7c9 label.sk-toggleable__label {cursor: pointer;display: block;width: 100%;margin-bottom: 0;padding: 0.3em;box-sizing: border-box;text-align: center;}#sk-88a50a8b-79ab-4f58-acb0-ec9c5799e7c9 label.sk-toggleable__label-arrow:before {content: \"▸\";float: left;margin-right: 0.25em;color: #696969;}#sk-88a50a8b-79ab-4f58-acb0-ec9c5799e7c9 label.sk-toggleable__label-arrow:hover:before {color: black;}#sk-88a50a8b-79ab-4f58-acb0-ec9c5799e7c9 div.sk-estimator:hover label.sk-toggleable__label-arrow:before {color: black;}#sk-88a50a8b-79ab-4f58-acb0-ec9c5799e7c9 div.sk-toggleable__content {max-height: 0;max-width: 0;overflow: hidden;text-align: left;background-color: #f0f8ff;}#sk-88a50a8b-79ab-4f58-acb0-ec9c5799e7c9 div.sk-toggleable__content pre {margin: 0.2em;color: black;border-radius: 0.25em;background-color: #f0f8ff;}#sk-88a50a8b-79ab-4f58-acb0-ec9c5799e7c9 input.sk-toggleable__control:checked~div.sk-toggleable__content {max-height: 200px;max-width: 100%;overflow: auto;}#sk-88a50a8b-79ab-4f58-acb0-ec9c5799e7c9 input.sk-toggleable__control:checked~label.sk-toggleable__label-arrow:before {content: \"▾\";}#sk-88a50a8b-79ab-4f58-acb0-ec9c5799e7c9 div.sk-estimator input.sk-toggleable__control:checked~label.sk-toggleable__label {background-color: #d4ebff;}#sk-88a50a8b-79ab-4f58-acb0-ec9c5799e7c9 div.sk-label input.sk-toggleable__control:checked~label.sk-toggleable__label {background-color: #d4ebff;}#sk-88a50a8b-79ab-4f58-acb0-ec9c5799e7c9 input.sk-hidden--visually {border: 0;clip: rect(1px 1px 1px 1px);clip: rect(1px, 1px, 1px, 1px);height: 1px;margin: -1px;overflow: hidden;padding: 0;position: absolute;width: 1px;}#sk-88a50a8b-79ab-4f58-acb0-ec9c5799e7c9 div.sk-estimator {font-family: monospace;background-color: #f0f8ff;border: 1px dotted black;border-radius: 0.25em;box-sizing: border-box;margin-bottom: 0.5em;}#sk-88a50a8b-79ab-4f58-acb0-ec9c5799e7c9 div.sk-estimator:hover {background-color: #d4ebff;}#sk-88a50a8b-79ab-4f58-acb0-ec9c5799e7c9 div.sk-parallel-item::after {content: \"\";width: 100%;border-bottom: 1px solid gray;flex-grow: 1;}#sk-88a50a8b-79ab-4f58-acb0-ec9c5799e7c9 div.sk-label:hover label.sk-toggleable__label {background-color: #d4ebff;}#sk-88a50a8b-79ab-4f58-acb0-ec9c5799e7c9 div.sk-serial::before {content: \"\";position: absolute;border-left: 1px solid gray;box-sizing: border-box;top: 2em;bottom: 0;left: 50%;}#sk-88a50a8b-79ab-4f58-acb0-ec9c5799e7c9 div.sk-serial {display: flex;flex-direction: column;align-items: center;background-color: white;padding-right: 0.2em;padding-left: 0.2em;}#sk-88a50a8b-79ab-4f58-acb0-ec9c5799e7c9 div.sk-item {z-index: 1;}#sk-88a50a8b-79ab-4f58-acb0-ec9c5799e7c9 div.sk-parallel {display: flex;align-items: stretch;justify-content: center;background-color: white;}#sk-88a50a8b-79ab-4f58-acb0-ec9c5799e7c9 div.sk-parallel::before {content: \"\";position: absolute;border-left: 1px solid gray;box-sizing: border-box;top: 2em;bottom: 0;left: 50%;}#sk-88a50a8b-79ab-4f58-acb0-ec9c5799e7c9 div.sk-parallel-item {display: flex;flex-direction: column;position: relative;background-color: white;}#sk-88a50a8b-79ab-4f58-acb0-ec9c5799e7c9 div.sk-parallel-item:first-child::after {align-self: flex-end;width: 50%;}#sk-88a50a8b-79ab-4f58-acb0-ec9c5799e7c9 div.sk-parallel-item:last-child::after {align-self: flex-start;width: 50%;}#sk-88a50a8b-79ab-4f58-acb0-ec9c5799e7c9 div.sk-parallel-item:only-child::after {width: 0;}#sk-88a50a8b-79ab-4f58-acb0-ec9c5799e7c9 div.sk-dashed-wrapped {border: 1px dashed gray;margin: 0 0.4em 0.5em 0.4em;box-sizing: border-box;padding-bottom: 0.4em;background-color: white;position: relative;}#sk-88a50a8b-79ab-4f58-acb0-ec9c5799e7c9 div.sk-label label {font-family: monospace;font-weight: bold;background-color: white;display: inline-block;line-height: 1.2em;}#sk-88a50a8b-79ab-4f58-acb0-ec9c5799e7c9 div.sk-label-container {position: relative;z-index: 2;text-align: center;}#sk-88a50a8b-79ab-4f58-acb0-ec9c5799e7c9 div.sk-container {/* jupyter's `normalize.less` sets `[hidden] { display: none; }` but bootstrap.min.css set `[hidden] { display: none !important; }` so we also need the `!important` here to be able to override the default hidden behavior on the sphinx rendered scikit-learn.org. See: https://github.com/scikit-learn/scikit-learn/issues/21755 */display: inline-block !important;position: relative;}#sk-88a50a8b-79ab-4f58-acb0-ec9c5799e7c9 div.sk-text-repr-fallback {display: none;}</style><div id=\"sk-88a50a8b-79ab-4f58-acb0-ec9c5799e7c9\" class=\"sk-top-container\"><div class=\"sk-text-repr-fallback\"><pre>Pipeline(steps=[(&#x27;preprocessing&#x27;,\n",
       "                 ColumnTransformer(transformers=[(&#x27;num_encoder&#x27;, MinMaxScaler(),\n",
       "                                                  &lt;sklearn.compose._column_transformer.make_column_selector object at 0x7fe942e0b1c0&gt;),\n",
       "                                                 (&#x27;cat_encoder&#x27;,\n",
       "                                                  OneHotEncoder(handle_unknown=&#x27;ignore&#x27;,\n",
       "                                                                sparse=False),\n",
       "                                                  &lt;sklearn.compose._column_transformer.make_column_selector object at 0x7fe942e0baf0&gt;)])),\n",
       "                (&#x27;linear_regression&#x27;, Ridge())])</pre><b>Please rerun this cell to show the HTML repr or trust the notebook.</b></div><div class=\"sk-container\" hidden><div class=\"sk-item sk-dashed-wrapped\"><div class=\"sk-label-container\"><div class=\"sk-label sk-toggleable\"><input class=\"sk-toggleable__control sk-hidden--visually\" id=\"edcf7256-4a94-4e65-b774-afb57874c194\" type=\"checkbox\" ><label for=\"edcf7256-4a94-4e65-b774-afb57874c194\" class=\"sk-toggleable__label sk-toggleable__label-arrow\">Pipeline</label><div class=\"sk-toggleable__content\"><pre>Pipeline(steps=[(&#x27;preprocessing&#x27;,\n",
       "                 ColumnTransformer(transformers=[(&#x27;num_encoder&#x27;, MinMaxScaler(),\n",
       "                                                  &lt;sklearn.compose._column_transformer.make_column_selector object at 0x7fe942e0b1c0&gt;),\n",
       "                                                 (&#x27;cat_encoder&#x27;,\n",
       "                                                  OneHotEncoder(handle_unknown=&#x27;ignore&#x27;,\n",
       "                                                                sparse=False),\n",
       "                                                  &lt;sklearn.compose._column_transformer.make_column_selector object at 0x7fe942e0baf0&gt;)])),\n",
       "                (&#x27;linear_regression&#x27;, Ridge())])</pre></div></div></div><div class=\"sk-serial\"><div class=\"sk-item sk-dashed-wrapped\"><div class=\"sk-label-container\"><div class=\"sk-label sk-toggleable\"><input class=\"sk-toggleable__control sk-hidden--visually\" id=\"83f9e06c-9ce1-47fc-b8d9-2f1399f64eb5\" type=\"checkbox\" ><label for=\"83f9e06c-9ce1-47fc-b8d9-2f1399f64eb5\" class=\"sk-toggleable__label sk-toggleable__label-arrow\">preprocessing: ColumnTransformer</label><div class=\"sk-toggleable__content\"><pre>ColumnTransformer(transformers=[(&#x27;num_encoder&#x27;, MinMaxScaler(),\n",
       "                                 &lt;sklearn.compose._column_transformer.make_column_selector object at 0x7fe942e0b1c0&gt;),\n",
       "                                (&#x27;cat_encoder&#x27;,\n",
       "                                 OneHotEncoder(handle_unknown=&#x27;ignore&#x27;,\n",
       "                                               sparse=False),\n",
       "                                 &lt;sklearn.compose._column_transformer.make_column_selector object at 0x7fe942e0baf0&gt;)])</pre></div></div></div><div class=\"sk-parallel\"><div class=\"sk-parallel-item\"><div class=\"sk-item\"><div class=\"sk-label-container\"><div class=\"sk-label sk-toggleable\"><input class=\"sk-toggleable__control sk-hidden--visually\" id=\"ba63aeda-42a0-4284-9c90-a453b688fd51\" type=\"checkbox\" ><label for=\"ba63aeda-42a0-4284-9c90-a453b688fd51\" class=\"sk-toggleable__label sk-toggleable__label-arrow\">num_encoder</label><div class=\"sk-toggleable__content\"><pre>&lt;sklearn.compose._column_transformer.make_column_selector object at 0x7fe942e0b1c0&gt;</pre></div></div></div><div class=\"sk-serial\"><div class=\"sk-item\"><div class=\"sk-estimator sk-toggleable\"><input class=\"sk-toggleable__control sk-hidden--visually\" id=\"c1f4133b-da95-4705-9f85-36a120348247\" type=\"checkbox\" ><label for=\"c1f4133b-da95-4705-9f85-36a120348247\" class=\"sk-toggleable__label sk-toggleable__label-arrow\">MinMaxScaler</label><div class=\"sk-toggleable__content\"><pre>MinMaxScaler()</pre></div></div></div></div></div></div><div class=\"sk-parallel-item\"><div class=\"sk-item\"><div class=\"sk-label-container\"><div class=\"sk-label sk-toggleable\"><input class=\"sk-toggleable__control sk-hidden--visually\" id=\"2fa9fa6f-bca5-48a5-8b0d-b8cb49c6660a\" type=\"checkbox\" ><label for=\"2fa9fa6f-bca5-48a5-8b0d-b8cb49c6660a\" class=\"sk-toggleable__label sk-toggleable__label-arrow\">cat_encoder</label><div class=\"sk-toggleable__content\"><pre>&lt;sklearn.compose._column_transformer.make_column_selector object at 0x7fe942e0baf0&gt;</pre></div></div></div><div class=\"sk-serial\"><div class=\"sk-item\"><div class=\"sk-estimator sk-toggleable\"><input class=\"sk-toggleable__control sk-hidden--visually\" id=\"3d70385b-5806-4f4b-89e6-04e3a9d3b0f7\" type=\"checkbox\" ><label for=\"3d70385b-5806-4f4b-89e6-04e3a9d3b0f7\" class=\"sk-toggleable__label sk-toggleable__label-arrow\">OneHotEncoder</label><div class=\"sk-toggleable__content\"><pre>OneHotEncoder(handle_unknown=&#x27;ignore&#x27;, sparse=False)</pre></div></div></div></div></div></div></div></div><div class=\"sk-item\"><div class=\"sk-estimator sk-toggleable\"><input class=\"sk-toggleable__control sk-hidden--visually\" id=\"f8738d9a-4a4e-4f66-afd9-d6de53d33b0f\" type=\"checkbox\" ><label for=\"f8738d9a-4a4e-4f66-afd9-d6de53d33b0f\" class=\"sk-toggleable__label sk-toggleable__label-arrow\">Ridge</label><div class=\"sk-toggleable__content\"><pre>Ridge()</pre></div></div></div></div></div></div></div>"
      ],
      "text/plain": [
       "Pipeline(steps=[('preprocessing',\n",
       "                 ColumnTransformer(transformers=[('num_encoder', MinMaxScaler(),\n",
       "                                                  <sklearn.compose._column_transformer.make_column_selector object at 0x7fe942e0b1c0>),\n",
       "                                                 ('cat_encoder',\n",
       "                                                  OneHotEncoder(handle_unknown='ignore',\n",
       "                                                                sparse=False),\n",
       "                                                  <sklearn.compose._column_transformer.make_column_selector object at 0x7fe942e0baf0>)])),\n",
       "                ('linear_regression', Ridge())])"
      ]
     },
     "execution_count": 15,
     "metadata": {},
     "output_type": "execute_result"
    }
   ],
   "source": [
    "\n",
    "\n",
    "final_preprocessor = ColumnTransformer([\n",
    "    ('num_encoder', MinMaxScaler(),\n",
    "     make_column_selector(dtype_include=\"float64\")),\n",
    "\n",
    "    ('cat_encoder', OneHotEncoder(handle_unknown='ignore', sparse=False),\n",
    "     make_column_selector(dtype_include=\"object\"))])\n",
    "\n",
    "pipe = Pipeline([('preprocessing', final_preprocessor),\n",
    "                 ('linear_regression', Ridge())])\n",
    "\n",
    "pipe"
   ]
  },
  {
   "cell_type": "code",
   "execution_count": 16,
   "id": "5d06e48c",
   "metadata": {},
   "outputs": [
    {
     "ename": "TypeError",
     "evalue": "Encoders require their input to be uniformly strings or numbers. Got ['ndarray']",
     "output_type": "error",
     "traceback": [
      "\u001b[0;31m---------------------------------------------------------------------------\u001b[0m",
      "\u001b[0;31mTypeError\u001b[0m                                 Traceback (most recent call last)",
      "File \u001b[0;32m~/.pyenv/versions/3.8.12/envs/web3/lib/python3.8/site-packages/sklearn/utils/_encode.py:132\u001b[0m, in \u001b[0;36m_unique_python\u001b[0;34m(values, return_inverse)\u001b[0m\n\u001b[1;32m    <a href='file:///home/lchaves/.pyenv/versions/3.8.12/envs/web3/lib/python3.8/site-packages/sklearn/utils/_encode.py?line=130'>131</a>\u001b[0m \u001b[39mtry\u001b[39;00m:\n\u001b[0;32m--> <a href='file:///home/lchaves/.pyenv/versions/3.8.12/envs/web3/lib/python3.8/site-packages/sklearn/utils/_encode.py?line=131'>132</a>\u001b[0m     uniques_set \u001b[39m=\u001b[39m \u001b[39mset\u001b[39;49m(values)\n\u001b[1;32m    <a href='file:///home/lchaves/.pyenv/versions/3.8.12/envs/web3/lib/python3.8/site-packages/sklearn/utils/_encode.py?line=132'>133</a>\u001b[0m     uniques_set, missing_values \u001b[39m=\u001b[39m _extract_missing(uniques_set)\n",
      "\u001b[0;31mTypeError\u001b[0m: unhashable type: 'numpy.ndarray'",
      "\nDuring handling of the above exception, another exception occurred:\n",
      "\u001b[0;31mTypeError\u001b[0m                                 Traceback (most recent call last)",
      "\u001b[1;32m/home/lchaves/Desktop/Web3-Project/notebooks/ModeloInicial-Leo.ipynb Cell 21'\u001b[0m in \u001b[0;36m<cell line: 1>\u001b[0;34m()\u001b[0m\n\u001b[0;32m----> <a href='vscode-notebook-cell:/home/lchaves/Desktop/Web3-Project/notebooks/ModeloInicial-Leo.ipynb#ch0000020?line=0'>1</a>\u001b[0m pipe\u001b[39m.\u001b[39;49mfit_transform(df)\n",
      "File \u001b[0;32m~/.pyenv/versions/3.8.12/envs/web3/lib/python3.8/site-packages/sklearn/pipeline.py:426\u001b[0m, in \u001b[0;36mPipeline.fit_transform\u001b[0;34m(self, X, y, **fit_params)\u001b[0m\n\u001b[1;32m    <a href='file:///home/lchaves/.pyenv/versions/3.8.12/envs/web3/lib/python3.8/site-packages/sklearn/pipeline.py?line=398'>399</a>\u001b[0m \u001b[39m\"\"\"Fit the model and transform with the final estimator.\u001b[39;00m\n\u001b[1;32m    <a href='file:///home/lchaves/.pyenv/versions/3.8.12/envs/web3/lib/python3.8/site-packages/sklearn/pipeline.py?line=399'>400</a>\u001b[0m \n\u001b[1;32m    <a href='file:///home/lchaves/.pyenv/versions/3.8.12/envs/web3/lib/python3.8/site-packages/sklearn/pipeline.py?line=400'>401</a>\u001b[0m \u001b[39mFits all the transformers one after the other and transform the\u001b[39;00m\n\u001b[0;32m   (...)\u001b[0m\n\u001b[1;32m    <a href='file:///home/lchaves/.pyenv/versions/3.8.12/envs/web3/lib/python3.8/site-packages/sklearn/pipeline.py?line=422'>423</a>\u001b[0m \u001b[39m    Transformed samples.\u001b[39;00m\n\u001b[1;32m    <a href='file:///home/lchaves/.pyenv/versions/3.8.12/envs/web3/lib/python3.8/site-packages/sklearn/pipeline.py?line=423'>424</a>\u001b[0m \u001b[39m\"\"\"\u001b[39;00m\n\u001b[1;32m    <a href='file:///home/lchaves/.pyenv/versions/3.8.12/envs/web3/lib/python3.8/site-packages/sklearn/pipeline.py?line=424'>425</a>\u001b[0m fit_params_steps \u001b[39m=\u001b[39m \u001b[39mself\u001b[39m\u001b[39m.\u001b[39m_check_fit_params(\u001b[39m*\u001b[39m\u001b[39m*\u001b[39mfit_params)\n\u001b[0;32m--> <a href='file:///home/lchaves/.pyenv/versions/3.8.12/envs/web3/lib/python3.8/site-packages/sklearn/pipeline.py?line=425'>426</a>\u001b[0m Xt \u001b[39m=\u001b[39m \u001b[39mself\u001b[39;49m\u001b[39m.\u001b[39;49m_fit(X, y, \u001b[39m*\u001b[39;49m\u001b[39m*\u001b[39;49mfit_params_steps)\n\u001b[1;32m    <a href='file:///home/lchaves/.pyenv/versions/3.8.12/envs/web3/lib/python3.8/site-packages/sklearn/pipeline.py?line=427'>428</a>\u001b[0m last_step \u001b[39m=\u001b[39m \u001b[39mself\u001b[39m\u001b[39m.\u001b[39m_final_estimator\n\u001b[1;32m    <a href='file:///home/lchaves/.pyenv/versions/3.8.12/envs/web3/lib/python3.8/site-packages/sklearn/pipeline.py?line=428'>429</a>\u001b[0m \u001b[39mwith\u001b[39;00m _print_elapsed_time(\u001b[39m\"\u001b[39m\u001b[39mPipeline\u001b[39m\u001b[39m\"\u001b[39m, \u001b[39mself\u001b[39m\u001b[39m.\u001b[39m_log_message(\u001b[39mlen\u001b[39m(\u001b[39mself\u001b[39m\u001b[39m.\u001b[39msteps) \u001b[39m-\u001b[39m \u001b[39m1\u001b[39m)):\n",
      "File \u001b[0;32m~/.pyenv/versions/3.8.12/envs/web3/lib/python3.8/site-packages/sklearn/pipeline.py:348\u001b[0m, in \u001b[0;36mPipeline._fit\u001b[0;34m(self, X, y, **fit_params_steps)\u001b[0m\n\u001b[1;32m    <a href='file:///home/lchaves/.pyenv/versions/3.8.12/envs/web3/lib/python3.8/site-packages/sklearn/pipeline.py?line=345'>346</a>\u001b[0m     cloned_transformer \u001b[39m=\u001b[39m clone(transformer)\n\u001b[1;32m    <a href='file:///home/lchaves/.pyenv/versions/3.8.12/envs/web3/lib/python3.8/site-packages/sklearn/pipeline.py?line=346'>347</a>\u001b[0m \u001b[39m# Fit or load from cache the current transformer\u001b[39;00m\n\u001b[0;32m--> <a href='file:///home/lchaves/.pyenv/versions/3.8.12/envs/web3/lib/python3.8/site-packages/sklearn/pipeline.py?line=347'>348</a>\u001b[0m X, fitted_transformer \u001b[39m=\u001b[39m fit_transform_one_cached(\n\u001b[1;32m    <a href='file:///home/lchaves/.pyenv/versions/3.8.12/envs/web3/lib/python3.8/site-packages/sklearn/pipeline.py?line=348'>349</a>\u001b[0m     cloned_transformer,\n\u001b[1;32m    <a href='file:///home/lchaves/.pyenv/versions/3.8.12/envs/web3/lib/python3.8/site-packages/sklearn/pipeline.py?line=349'>350</a>\u001b[0m     X,\n\u001b[1;32m    <a href='file:///home/lchaves/.pyenv/versions/3.8.12/envs/web3/lib/python3.8/site-packages/sklearn/pipeline.py?line=350'>351</a>\u001b[0m     y,\n\u001b[1;32m    <a href='file:///home/lchaves/.pyenv/versions/3.8.12/envs/web3/lib/python3.8/site-packages/sklearn/pipeline.py?line=351'>352</a>\u001b[0m     \u001b[39mNone\u001b[39;49;00m,\n\u001b[1;32m    <a href='file:///home/lchaves/.pyenv/versions/3.8.12/envs/web3/lib/python3.8/site-packages/sklearn/pipeline.py?line=352'>353</a>\u001b[0m     message_clsname\u001b[39m=\u001b[39;49m\u001b[39m\"\u001b[39;49m\u001b[39mPipeline\u001b[39;49m\u001b[39m\"\u001b[39;49m,\n\u001b[1;32m    <a href='file:///home/lchaves/.pyenv/versions/3.8.12/envs/web3/lib/python3.8/site-packages/sklearn/pipeline.py?line=353'>354</a>\u001b[0m     message\u001b[39m=\u001b[39;49m\u001b[39mself\u001b[39;49m\u001b[39m.\u001b[39;49m_log_message(step_idx),\n\u001b[1;32m    <a href='file:///home/lchaves/.pyenv/versions/3.8.12/envs/web3/lib/python3.8/site-packages/sklearn/pipeline.py?line=354'>355</a>\u001b[0m     \u001b[39m*\u001b[39;49m\u001b[39m*\u001b[39;49mfit_params_steps[name],\n\u001b[1;32m    <a href='file:///home/lchaves/.pyenv/versions/3.8.12/envs/web3/lib/python3.8/site-packages/sklearn/pipeline.py?line=355'>356</a>\u001b[0m )\n\u001b[1;32m    <a href='file:///home/lchaves/.pyenv/versions/3.8.12/envs/web3/lib/python3.8/site-packages/sklearn/pipeline.py?line=356'>357</a>\u001b[0m \u001b[39m# Replace the transformer of the step with the fitted\u001b[39;00m\n\u001b[1;32m    <a href='file:///home/lchaves/.pyenv/versions/3.8.12/envs/web3/lib/python3.8/site-packages/sklearn/pipeline.py?line=357'>358</a>\u001b[0m \u001b[39m# transformer. This is necessary when loading the transformer\u001b[39;00m\n\u001b[1;32m    <a href='file:///home/lchaves/.pyenv/versions/3.8.12/envs/web3/lib/python3.8/site-packages/sklearn/pipeline.py?line=358'>359</a>\u001b[0m \u001b[39m# from the cache.\u001b[39;00m\n\u001b[1;32m    <a href='file:///home/lchaves/.pyenv/versions/3.8.12/envs/web3/lib/python3.8/site-packages/sklearn/pipeline.py?line=359'>360</a>\u001b[0m \u001b[39mself\u001b[39m\u001b[39m.\u001b[39msteps[step_idx] \u001b[39m=\u001b[39m (name, fitted_transformer)\n",
      "File \u001b[0;32m~/.pyenv/versions/3.8.12/envs/web3/lib/python3.8/site-packages/joblib/memory.py:349\u001b[0m, in \u001b[0;36mNotMemorizedFunc.__call__\u001b[0;34m(self, *args, **kwargs)\u001b[0m\n\u001b[1;32m    <a href='file:///home/lchaves/.pyenv/versions/3.8.12/envs/web3/lib/python3.8/site-packages/joblib/memory.py?line=347'>348</a>\u001b[0m \u001b[39mdef\u001b[39;00m \u001b[39m__call__\u001b[39m(\u001b[39mself\u001b[39m, \u001b[39m*\u001b[39margs, \u001b[39m*\u001b[39m\u001b[39m*\u001b[39mkwargs):\n\u001b[0;32m--> <a href='file:///home/lchaves/.pyenv/versions/3.8.12/envs/web3/lib/python3.8/site-packages/joblib/memory.py?line=348'>349</a>\u001b[0m     \u001b[39mreturn\u001b[39;00m \u001b[39mself\u001b[39;49m\u001b[39m.\u001b[39;49mfunc(\u001b[39m*\u001b[39;49margs, \u001b[39m*\u001b[39;49m\u001b[39m*\u001b[39;49mkwargs)\n",
      "File \u001b[0;32m~/.pyenv/versions/3.8.12/envs/web3/lib/python3.8/site-packages/sklearn/pipeline.py:893\u001b[0m, in \u001b[0;36m_fit_transform_one\u001b[0;34m(transformer, X, y, weight, message_clsname, message, **fit_params)\u001b[0m\n\u001b[1;32m    <a href='file:///home/lchaves/.pyenv/versions/3.8.12/envs/web3/lib/python3.8/site-packages/sklearn/pipeline.py?line=890'>891</a>\u001b[0m \u001b[39mwith\u001b[39;00m _print_elapsed_time(message_clsname, message):\n\u001b[1;32m    <a href='file:///home/lchaves/.pyenv/versions/3.8.12/envs/web3/lib/python3.8/site-packages/sklearn/pipeline.py?line=891'>892</a>\u001b[0m     \u001b[39mif\u001b[39;00m \u001b[39mhasattr\u001b[39m(transformer, \u001b[39m\"\u001b[39m\u001b[39mfit_transform\u001b[39m\u001b[39m\"\u001b[39m):\n\u001b[0;32m--> <a href='file:///home/lchaves/.pyenv/versions/3.8.12/envs/web3/lib/python3.8/site-packages/sklearn/pipeline.py?line=892'>893</a>\u001b[0m         res \u001b[39m=\u001b[39m transformer\u001b[39m.\u001b[39;49mfit_transform(X, y, \u001b[39m*\u001b[39;49m\u001b[39m*\u001b[39;49mfit_params)\n\u001b[1;32m    <a href='file:///home/lchaves/.pyenv/versions/3.8.12/envs/web3/lib/python3.8/site-packages/sklearn/pipeline.py?line=893'>894</a>\u001b[0m     \u001b[39melse\u001b[39;00m:\n\u001b[1;32m    <a href='file:///home/lchaves/.pyenv/versions/3.8.12/envs/web3/lib/python3.8/site-packages/sklearn/pipeline.py?line=894'>895</a>\u001b[0m         res \u001b[39m=\u001b[39m transformer\u001b[39m.\u001b[39mfit(X, y, \u001b[39m*\u001b[39m\u001b[39m*\u001b[39mfit_params)\u001b[39m.\u001b[39mtransform(X)\n",
      "File \u001b[0;32m~/.pyenv/versions/3.8.12/envs/web3/lib/python3.8/site-packages/sklearn/compose/_column_transformer.py:675\u001b[0m, in \u001b[0;36mColumnTransformer.fit_transform\u001b[0;34m(self, X, y)\u001b[0m\n\u001b[1;32m    <a href='file:///home/lchaves/.pyenv/versions/3.8.12/envs/web3/lib/python3.8/site-packages/sklearn/compose/_column_transformer.py?line=671'>672</a>\u001b[0m \u001b[39mself\u001b[39m\u001b[39m.\u001b[39m_validate_column_callables(X)\n\u001b[1;32m    <a href='file:///home/lchaves/.pyenv/versions/3.8.12/envs/web3/lib/python3.8/site-packages/sklearn/compose/_column_transformer.py?line=672'>673</a>\u001b[0m \u001b[39mself\u001b[39m\u001b[39m.\u001b[39m_validate_remainder(X)\n\u001b[0;32m--> <a href='file:///home/lchaves/.pyenv/versions/3.8.12/envs/web3/lib/python3.8/site-packages/sklearn/compose/_column_transformer.py?line=674'>675</a>\u001b[0m result \u001b[39m=\u001b[39m \u001b[39mself\u001b[39;49m\u001b[39m.\u001b[39;49m_fit_transform(X, y, _fit_transform_one)\n\u001b[1;32m    <a href='file:///home/lchaves/.pyenv/versions/3.8.12/envs/web3/lib/python3.8/site-packages/sklearn/compose/_column_transformer.py?line=676'>677</a>\u001b[0m \u001b[39mif\u001b[39;00m \u001b[39mnot\u001b[39;00m result:\n\u001b[1;32m    <a href='file:///home/lchaves/.pyenv/versions/3.8.12/envs/web3/lib/python3.8/site-packages/sklearn/compose/_column_transformer.py?line=677'>678</a>\u001b[0m     \u001b[39mself\u001b[39m\u001b[39m.\u001b[39m_update_fitted_transformers([])\n",
      "File \u001b[0;32m~/.pyenv/versions/3.8.12/envs/web3/lib/python3.8/site-packages/sklearn/compose/_column_transformer.py:606\u001b[0m, in \u001b[0;36mColumnTransformer._fit_transform\u001b[0;34m(self, X, y, func, fitted, column_as_strings)\u001b[0m\n\u001b[1;32m    <a href='file:///home/lchaves/.pyenv/versions/3.8.12/envs/web3/lib/python3.8/site-packages/sklearn/compose/_column_transformer.py?line=599'>600</a>\u001b[0m transformers \u001b[39m=\u001b[39m \u001b[39mlist\u001b[39m(\n\u001b[1;32m    <a href='file:///home/lchaves/.pyenv/versions/3.8.12/envs/web3/lib/python3.8/site-packages/sklearn/compose/_column_transformer.py?line=600'>601</a>\u001b[0m     \u001b[39mself\u001b[39m\u001b[39m.\u001b[39m_iter(\n\u001b[1;32m    <a href='file:///home/lchaves/.pyenv/versions/3.8.12/envs/web3/lib/python3.8/site-packages/sklearn/compose/_column_transformer.py?line=601'>602</a>\u001b[0m         fitted\u001b[39m=\u001b[39mfitted, replace_strings\u001b[39m=\u001b[39m\u001b[39mTrue\u001b[39;00m, column_as_strings\u001b[39m=\u001b[39mcolumn_as_strings\n\u001b[1;32m    <a href='file:///home/lchaves/.pyenv/versions/3.8.12/envs/web3/lib/python3.8/site-packages/sklearn/compose/_column_transformer.py?line=602'>603</a>\u001b[0m     )\n\u001b[1;32m    <a href='file:///home/lchaves/.pyenv/versions/3.8.12/envs/web3/lib/python3.8/site-packages/sklearn/compose/_column_transformer.py?line=603'>604</a>\u001b[0m )\n\u001b[1;32m    <a href='file:///home/lchaves/.pyenv/versions/3.8.12/envs/web3/lib/python3.8/site-packages/sklearn/compose/_column_transformer.py?line=604'>605</a>\u001b[0m \u001b[39mtry\u001b[39;00m:\n\u001b[0;32m--> <a href='file:///home/lchaves/.pyenv/versions/3.8.12/envs/web3/lib/python3.8/site-packages/sklearn/compose/_column_transformer.py?line=605'>606</a>\u001b[0m     \u001b[39mreturn\u001b[39;00m Parallel(n_jobs\u001b[39m=\u001b[39;49m\u001b[39mself\u001b[39;49m\u001b[39m.\u001b[39;49mn_jobs)(\n\u001b[1;32m    <a href='file:///home/lchaves/.pyenv/versions/3.8.12/envs/web3/lib/python3.8/site-packages/sklearn/compose/_column_transformer.py?line=606'>607</a>\u001b[0m         delayed(func)(\n\u001b[1;32m    <a href='file:///home/lchaves/.pyenv/versions/3.8.12/envs/web3/lib/python3.8/site-packages/sklearn/compose/_column_transformer.py?line=607'>608</a>\u001b[0m             transformer\u001b[39m=\u001b[39;49mclone(trans) \u001b[39mif\u001b[39;49;00m \u001b[39mnot\u001b[39;49;00m fitted \u001b[39melse\u001b[39;49;00m trans,\n\u001b[1;32m    <a href='file:///home/lchaves/.pyenv/versions/3.8.12/envs/web3/lib/python3.8/site-packages/sklearn/compose/_column_transformer.py?line=608'>609</a>\u001b[0m             X\u001b[39m=\u001b[39;49m_safe_indexing(X, column, axis\u001b[39m=\u001b[39;49m\u001b[39m1\u001b[39;49m),\n\u001b[1;32m    <a href='file:///home/lchaves/.pyenv/versions/3.8.12/envs/web3/lib/python3.8/site-packages/sklearn/compose/_column_transformer.py?line=609'>610</a>\u001b[0m             y\u001b[39m=\u001b[39;49my,\n\u001b[1;32m    <a href='file:///home/lchaves/.pyenv/versions/3.8.12/envs/web3/lib/python3.8/site-packages/sklearn/compose/_column_transformer.py?line=610'>611</a>\u001b[0m             weight\u001b[39m=\u001b[39;49mweight,\n\u001b[1;32m    <a href='file:///home/lchaves/.pyenv/versions/3.8.12/envs/web3/lib/python3.8/site-packages/sklearn/compose/_column_transformer.py?line=611'>612</a>\u001b[0m             message_clsname\u001b[39m=\u001b[39;49m\u001b[39m\"\u001b[39;49m\u001b[39mColumnTransformer\u001b[39;49m\u001b[39m\"\u001b[39;49m,\n\u001b[1;32m    <a href='file:///home/lchaves/.pyenv/versions/3.8.12/envs/web3/lib/python3.8/site-packages/sklearn/compose/_column_transformer.py?line=612'>613</a>\u001b[0m             message\u001b[39m=\u001b[39;49m\u001b[39mself\u001b[39;49m\u001b[39m.\u001b[39;49m_log_message(name, idx, \u001b[39mlen\u001b[39;49m(transformers)),\n\u001b[1;32m    <a href='file:///home/lchaves/.pyenv/versions/3.8.12/envs/web3/lib/python3.8/site-packages/sklearn/compose/_column_transformer.py?line=613'>614</a>\u001b[0m         )\n\u001b[1;32m    <a href='file:///home/lchaves/.pyenv/versions/3.8.12/envs/web3/lib/python3.8/site-packages/sklearn/compose/_column_transformer.py?line=614'>615</a>\u001b[0m         \u001b[39mfor\u001b[39;49;00m idx, (name, trans, column, weight) \u001b[39min\u001b[39;49;00m \u001b[39menumerate\u001b[39;49m(transformers, \u001b[39m1\u001b[39;49m)\n\u001b[1;32m    <a href='file:///home/lchaves/.pyenv/versions/3.8.12/envs/web3/lib/python3.8/site-packages/sklearn/compose/_column_transformer.py?line=615'>616</a>\u001b[0m     )\n\u001b[1;32m    <a href='file:///home/lchaves/.pyenv/versions/3.8.12/envs/web3/lib/python3.8/site-packages/sklearn/compose/_column_transformer.py?line=616'>617</a>\u001b[0m \u001b[39mexcept\u001b[39;00m \u001b[39mValueError\u001b[39;00m \u001b[39mas\u001b[39;00m e:\n\u001b[1;32m    <a href='file:///home/lchaves/.pyenv/versions/3.8.12/envs/web3/lib/python3.8/site-packages/sklearn/compose/_column_transformer.py?line=617'>618</a>\u001b[0m     \u001b[39mif\u001b[39;00m \u001b[39m\"\u001b[39m\u001b[39mExpected 2D array, got 1D array instead\u001b[39m\u001b[39m\"\u001b[39m \u001b[39min\u001b[39;00m \u001b[39mstr\u001b[39m(e):\n",
      "File \u001b[0;32m~/.pyenv/versions/3.8.12/envs/web3/lib/python3.8/site-packages/joblib/parallel.py:1046\u001b[0m, in \u001b[0;36mParallel.__call__\u001b[0;34m(self, iterable)\u001b[0m\n\u001b[1;32m   <a href='file:///home/lchaves/.pyenv/versions/3.8.12/envs/web3/lib/python3.8/site-packages/joblib/parallel.py?line=1042'>1043</a>\u001b[0m \u001b[39mif\u001b[39;00m \u001b[39mself\u001b[39m\u001b[39m.\u001b[39mdispatch_one_batch(iterator):\n\u001b[1;32m   <a href='file:///home/lchaves/.pyenv/versions/3.8.12/envs/web3/lib/python3.8/site-packages/joblib/parallel.py?line=1043'>1044</a>\u001b[0m     \u001b[39mself\u001b[39m\u001b[39m.\u001b[39m_iterating \u001b[39m=\u001b[39m \u001b[39mself\u001b[39m\u001b[39m.\u001b[39m_original_iterator \u001b[39mis\u001b[39;00m \u001b[39mnot\u001b[39;00m \u001b[39mNone\u001b[39;00m\n\u001b[0;32m-> <a href='file:///home/lchaves/.pyenv/versions/3.8.12/envs/web3/lib/python3.8/site-packages/joblib/parallel.py?line=1045'>1046</a>\u001b[0m \u001b[39mwhile\u001b[39;00m \u001b[39mself\u001b[39;49m\u001b[39m.\u001b[39;49mdispatch_one_batch(iterator):\n\u001b[1;32m   <a href='file:///home/lchaves/.pyenv/versions/3.8.12/envs/web3/lib/python3.8/site-packages/joblib/parallel.py?line=1046'>1047</a>\u001b[0m     \u001b[39mpass\u001b[39;00m\n\u001b[1;32m   <a href='file:///home/lchaves/.pyenv/versions/3.8.12/envs/web3/lib/python3.8/site-packages/joblib/parallel.py?line=1048'>1049</a>\u001b[0m \u001b[39mif\u001b[39;00m pre_dispatch \u001b[39m==\u001b[39m \u001b[39m\"\u001b[39m\u001b[39mall\u001b[39m\u001b[39m\"\u001b[39m \u001b[39mor\u001b[39;00m n_jobs \u001b[39m==\u001b[39m \u001b[39m1\u001b[39m:\n\u001b[1;32m   <a href='file:///home/lchaves/.pyenv/versions/3.8.12/envs/web3/lib/python3.8/site-packages/joblib/parallel.py?line=1049'>1050</a>\u001b[0m     \u001b[39m# The iterable was consumed all at once by the above for loop.\u001b[39;00m\n\u001b[1;32m   <a href='file:///home/lchaves/.pyenv/versions/3.8.12/envs/web3/lib/python3.8/site-packages/joblib/parallel.py?line=1050'>1051</a>\u001b[0m     \u001b[39m# No need to wait for async callbacks to trigger to\u001b[39;00m\n\u001b[1;32m   <a href='file:///home/lchaves/.pyenv/versions/3.8.12/envs/web3/lib/python3.8/site-packages/joblib/parallel.py?line=1051'>1052</a>\u001b[0m     \u001b[39m# consumption.\u001b[39;00m\n",
      "File \u001b[0;32m~/.pyenv/versions/3.8.12/envs/web3/lib/python3.8/site-packages/joblib/parallel.py:861\u001b[0m, in \u001b[0;36mParallel.dispatch_one_batch\u001b[0;34m(self, iterator)\u001b[0m\n\u001b[1;32m    <a href='file:///home/lchaves/.pyenv/versions/3.8.12/envs/web3/lib/python3.8/site-packages/joblib/parallel.py?line=858'>859</a>\u001b[0m     \u001b[39mreturn\u001b[39;00m \u001b[39mFalse\u001b[39;00m\n\u001b[1;32m    <a href='file:///home/lchaves/.pyenv/versions/3.8.12/envs/web3/lib/python3.8/site-packages/joblib/parallel.py?line=859'>860</a>\u001b[0m \u001b[39melse\u001b[39;00m:\n\u001b[0;32m--> <a href='file:///home/lchaves/.pyenv/versions/3.8.12/envs/web3/lib/python3.8/site-packages/joblib/parallel.py?line=860'>861</a>\u001b[0m     \u001b[39mself\u001b[39;49m\u001b[39m.\u001b[39;49m_dispatch(tasks)\n\u001b[1;32m    <a href='file:///home/lchaves/.pyenv/versions/3.8.12/envs/web3/lib/python3.8/site-packages/joblib/parallel.py?line=861'>862</a>\u001b[0m     \u001b[39mreturn\u001b[39;00m \u001b[39mTrue\u001b[39;00m\n",
      "File \u001b[0;32m~/.pyenv/versions/3.8.12/envs/web3/lib/python3.8/site-packages/joblib/parallel.py:779\u001b[0m, in \u001b[0;36mParallel._dispatch\u001b[0;34m(self, batch)\u001b[0m\n\u001b[1;32m    <a href='file:///home/lchaves/.pyenv/versions/3.8.12/envs/web3/lib/python3.8/site-packages/joblib/parallel.py?line=776'>777</a>\u001b[0m \u001b[39mwith\u001b[39;00m \u001b[39mself\u001b[39m\u001b[39m.\u001b[39m_lock:\n\u001b[1;32m    <a href='file:///home/lchaves/.pyenv/versions/3.8.12/envs/web3/lib/python3.8/site-packages/joblib/parallel.py?line=777'>778</a>\u001b[0m     job_idx \u001b[39m=\u001b[39m \u001b[39mlen\u001b[39m(\u001b[39mself\u001b[39m\u001b[39m.\u001b[39m_jobs)\n\u001b[0;32m--> <a href='file:///home/lchaves/.pyenv/versions/3.8.12/envs/web3/lib/python3.8/site-packages/joblib/parallel.py?line=778'>779</a>\u001b[0m     job \u001b[39m=\u001b[39m \u001b[39mself\u001b[39;49m\u001b[39m.\u001b[39;49m_backend\u001b[39m.\u001b[39;49mapply_async(batch, callback\u001b[39m=\u001b[39;49mcb)\n\u001b[1;32m    <a href='file:///home/lchaves/.pyenv/versions/3.8.12/envs/web3/lib/python3.8/site-packages/joblib/parallel.py?line=779'>780</a>\u001b[0m     \u001b[39m# A job can complete so quickly than its callback is\u001b[39;00m\n\u001b[1;32m    <a href='file:///home/lchaves/.pyenv/versions/3.8.12/envs/web3/lib/python3.8/site-packages/joblib/parallel.py?line=780'>781</a>\u001b[0m     \u001b[39m# called before we get here, causing self._jobs to\u001b[39;00m\n\u001b[1;32m    <a href='file:///home/lchaves/.pyenv/versions/3.8.12/envs/web3/lib/python3.8/site-packages/joblib/parallel.py?line=781'>782</a>\u001b[0m     \u001b[39m# grow. To ensure correct results ordering, .insert is\u001b[39;00m\n\u001b[1;32m    <a href='file:///home/lchaves/.pyenv/versions/3.8.12/envs/web3/lib/python3.8/site-packages/joblib/parallel.py?line=782'>783</a>\u001b[0m     \u001b[39m# used (rather than .append) in the following line\u001b[39;00m\n\u001b[1;32m    <a href='file:///home/lchaves/.pyenv/versions/3.8.12/envs/web3/lib/python3.8/site-packages/joblib/parallel.py?line=783'>784</a>\u001b[0m     \u001b[39mself\u001b[39m\u001b[39m.\u001b[39m_jobs\u001b[39m.\u001b[39minsert(job_idx, job)\n",
      "File \u001b[0;32m~/.pyenv/versions/3.8.12/envs/web3/lib/python3.8/site-packages/joblib/_parallel_backends.py:208\u001b[0m, in \u001b[0;36mSequentialBackend.apply_async\u001b[0;34m(self, func, callback)\u001b[0m\n\u001b[1;32m    <a href='file:///home/lchaves/.pyenv/versions/3.8.12/envs/web3/lib/python3.8/site-packages/joblib/_parallel_backends.py?line=205'>206</a>\u001b[0m \u001b[39mdef\u001b[39;00m \u001b[39mapply_async\u001b[39m(\u001b[39mself\u001b[39m, func, callback\u001b[39m=\u001b[39m\u001b[39mNone\u001b[39;00m):\n\u001b[1;32m    <a href='file:///home/lchaves/.pyenv/versions/3.8.12/envs/web3/lib/python3.8/site-packages/joblib/_parallel_backends.py?line=206'>207</a>\u001b[0m     \u001b[39m\"\"\"Schedule a func to be run\"\"\"\u001b[39;00m\n\u001b[0;32m--> <a href='file:///home/lchaves/.pyenv/versions/3.8.12/envs/web3/lib/python3.8/site-packages/joblib/_parallel_backends.py?line=207'>208</a>\u001b[0m     result \u001b[39m=\u001b[39m ImmediateResult(func)\n\u001b[1;32m    <a href='file:///home/lchaves/.pyenv/versions/3.8.12/envs/web3/lib/python3.8/site-packages/joblib/_parallel_backends.py?line=208'>209</a>\u001b[0m     \u001b[39mif\u001b[39;00m callback:\n\u001b[1;32m    <a href='file:///home/lchaves/.pyenv/versions/3.8.12/envs/web3/lib/python3.8/site-packages/joblib/_parallel_backends.py?line=209'>210</a>\u001b[0m         callback(result)\n",
      "File \u001b[0;32m~/.pyenv/versions/3.8.12/envs/web3/lib/python3.8/site-packages/joblib/_parallel_backends.py:572\u001b[0m, in \u001b[0;36mImmediateResult.__init__\u001b[0;34m(self, batch)\u001b[0m\n\u001b[1;32m    <a href='file:///home/lchaves/.pyenv/versions/3.8.12/envs/web3/lib/python3.8/site-packages/joblib/_parallel_backends.py?line=568'>569</a>\u001b[0m \u001b[39mdef\u001b[39;00m \u001b[39m__init__\u001b[39m(\u001b[39mself\u001b[39m, batch):\n\u001b[1;32m    <a href='file:///home/lchaves/.pyenv/versions/3.8.12/envs/web3/lib/python3.8/site-packages/joblib/_parallel_backends.py?line=569'>570</a>\u001b[0m     \u001b[39m# Don't delay the application, to avoid keeping the input\u001b[39;00m\n\u001b[1;32m    <a href='file:///home/lchaves/.pyenv/versions/3.8.12/envs/web3/lib/python3.8/site-packages/joblib/_parallel_backends.py?line=570'>571</a>\u001b[0m     \u001b[39m# arguments in memory\u001b[39;00m\n\u001b[0;32m--> <a href='file:///home/lchaves/.pyenv/versions/3.8.12/envs/web3/lib/python3.8/site-packages/joblib/_parallel_backends.py?line=571'>572</a>\u001b[0m     \u001b[39mself\u001b[39m\u001b[39m.\u001b[39mresults \u001b[39m=\u001b[39m batch()\n",
      "File \u001b[0;32m~/.pyenv/versions/3.8.12/envs/web3/lib/python3.8/site-packages/joblib/parallel.py:262\u001b[0m, in \u001b[0;36mBatchedCalls.__call__\u001b[0;34m(self)\u001b[0m\n\u001b[1;32m    <a href='file:///home/lchaves/.pyenv/versions/3.8.12/envs/web3/lib/python3.8/site-packages/joblib/parallel.py?line=257'>258</a>\u001b[0m \u001b[39mdef\u001b[39;00m \u001b[39m__call__\u001b[39m(\u001b[39mself\u001b[39m):\n\u001b[1;32m    <a href='file:///home/lchaves/.pyenv/versions/3.8.12/envs/web3/lib/python3.8/site-packages/joblib/parallel.py?line=258'>259</a>\u001b[0m     \u001b[39m# Set the default nested backend to self._backend but do not set the\u001b[39;00m\n\u001b[1;32m    <a href='file:///home/lchaves/.pyenv/versions/3.8.12/envs/web3/lib/python3.8/site-packages/joblib/parallel.py?line=259'>260</a>\u001b[0m     \u001b[39m# change the default number of processes to -1\u001b[39;00m\n\u001b[1;32m    <a href='file:///home/lchaves/.pyenv/versions/3.8.12/envs/web3/lib/python3.8/site-packages/joblib/parallel.py?line=260'>261</a>\u001b[0m     \u001b[39mwith\u001b[39;00m parallel_backend(\u001b[39mself\u001b[39m\u001b[39m.\u001b[39m_backend, n_jobs\u001b[39m=\u001b[39m\u001b[39mself\u001b[39m\u001b[39m.\u001b[39m_n_jobs):\n\u001b[0;32m--> <a href='file:///home/lchaves/.pyenv/versions/3.8.12/envs/web3/lib/python3.8/site-packages/joblib/parallel.py?line=261'>262</a>\u001b[0m         \u001b[39mreturn\u001b[39;00m [func(\u001b[39m*\u001b[39margs, \u001b[39m*\u001b[39m\u001b[39m*\u001b[39mkwargs)\n\u001b[1;32m    <a href='file:///home/lchaves/.pyenv/versions/3.8.12/envs/web3/lib/python3.8/site-packages/joblib/parallel.py?line=262'>263</a>\u001b[0m                 \u001b[39mfor\u001b[39;00m func, args, kwargs \u001b[39min\u001b[39;00m \u001b[39mself\u001b[39m\u001b[39m.\u001b[39mitems]\n",
      "File \u001b[0;32m~/.pyenv/versions/3.8.12/envs/web3/lib/python3.8/site-packages/joblib/parallel.py:262\u001b[0m, in \u001b[0;36m<listcomp>\u001b[0;34m(.0)\u001b[0m\n\u001b[1;32m    <a href='file:///home/lchaves/.pyenv/versions/3.8.12/envs/web3/lib/python3.8/site-packages/joblib/parallel.py?line=257'>258</a>\u001b[0m \u001b[39mdef\u001b[39;00m \u001b[39m__call__\u001b[39m(\u001b[39mself\u001b[39m):\n\u001b[1;32m    <a href='file:///home/lchaves/.pyenv/versions/3.8.12/envs/web3/lib/python3.8/site-packages/joblib/parallel.py?line=258'>259</a>\u001b[0m     \u001b[39m# Set the default nested backend to self._backend but do not set the\u001b[39;00m\n\u001b[1;32m    <a href='file:///home/lchaves/.pyenv/versions/3.8.12/envs/web3/lib/python3.8/site-packages/joblib/parallel.py?line=259'>260</a>\u001b[0m     \u001b[39m# change the default number of processes to -1\u001b[39;00m\n\u001b[1;32m    <a href='file:///home/lchaves/.pyenv/versions/3.8.12/envs/web3/lib/python3.8/site-packages/joblib/parallel.py?line=260'>261</a>\u001b[0m     \u001b[39mwith\u001b[39;00m parallel_backend(\u001b[39mself\u001b[39m\u001b[39m.\u001b[39m_backend, n_jobs\u001b[39m=\u001b[39m\u001b[39mself\u001b[39m\u001b[39m.\u001b[39m_n_jobs):\n\u001b[0;32m--> <a href='file:///home/lchaves/.pyenv/versions/3.8.12/envs/web3/lib/python3.8/site-packages/joblib/parallel.py?line=261'>262</a>\u001b[0m         \u001b[39mreturn\u001b[39;00m [func(\u001b[39m*\u001b[39;49margs, \u001b[39m*\u001b[39;49m\u001b[39m*\u001b[39;49mkwargs)\n\u001b[1;32m    <a href='file:///home/lchaves/.pyenv/versions/3.8.12/envs/web3/lib/python3.8/site-packages/joblib/parallel.py?line=262'>263</a>\u001b[0m                 \u001b[39mfor\u001b[39;00m func, args, kwargs \u001b[39min\u001b[39;00m \u001b[39mself\u001b[39m\u001b[39m.\u001b[39mitems]\n",
      "File \u001b[0;32m~/.pyenv/versions/3.8.12/envs/web3/lib/python3.8/site-packages/sklearn/utils/fixes.py:216\u001b[0m, in \u001b[0;36m_FuncWrapper.__call__\u001b[0;34m(self, *args, **kwargs)\u001b[0m\n\u001b[1;32m    <a href='file:///home/lchaves/.pyenv/versions/3.8.12/envs/web3/lib/python3.8/site-packages/sklearn/utils/fixes.py?line=213'>214</a>\u001b[0m \u001b[39mdef\u001b[39;00m \u001b[39m__call__\u001b[39m(\u001b[39mself\u001b[39m, \u001b[39m*\u001b[39margs, \u001b[39m*\u001b[39m\u001b[39m*\u001b[39mkwargs):\n\u001b[1;32m    <a href='file:///home/lchaves/.pyenv/versions/3.8.12/envs/web3/lib/python3.8/site-packages/sklearn/utils/fixes.py?line=214'>215</a>\u001b[0m     \u001b[39mwith\u001b[39;00m config_context(\u001b[39m*\u001b[39m\u001b[39m*\u001b[39m\u001b[39mself\u001b[39m\u001b[39m.\u001b[39mconfig):\n\u001b[0;32m--> <a href='file:///home/lchaves/.pyenv/versions/3.8.12/envs/web3/lib/python3.8/site-packages/sklearn/utils/fixes.py?line=215'>216</a>\u001b[0m         \u001b[39mreturn\u001b[39;00m \u001b[39mself\u001b[39;49m\u001b[39m.\u001b[39;49mfunction(\u001b[39m*\u001b[39;49margs, \u001b[39m*\u001b[39;49m\u001b[39m*\u001b[39;49mkwargs)\n",
      "File \u001b[0;32m~/.pyenv/versions/3.8.12/envs/web3/lib/python3.8/site-packages/sklearn/pipeline.py:893\u001b[0m, in \u001b[0;36m_fit_transform_one\u001b[0;34m(transformer, X, y, weight, message_clsname, message, **fit_params)\u001b[0m\n\u001b[1;32m    <a href='file:///home/lchaves/.pyenv/versions/3.8.12/envs/web3/lib/python3.8/site-packages/sklearn/pipeline.py?line=890'>891</a>\u001b[0m \u001b[39mwith\u001b[39;00m _print_elapsed_time(message_clsname, message):\n\u001b[1;32m    <a href='file:///home/lchaves/.pyenv/versions/3.8.12/envs/web3/lib/python3.8/site-packages/sklearn/pipeline.py?line=891'>892</a>\u001b[0m     \u001b[39mif\u001b[39;00m \u001b[39mhasattr\u001b[39m(transformer, \u001b[39m\"\u001b[39m\u001b[39mfit_transform\u001b[39m\u001b[39m\"\u001b[39m):\n\u001b[0;32m--> <a href='file:///home/lchaves/.pyenv/versions/3.8.12/envs/web3/lib/python3.8/site-packages/sklearn/pipeline.py?line=892'>893</a>\u001b[0m         res \u001b[39m=\u001b[39m transformer\u001b[39m.\u001b[39;49mfit_transform(X, y, \u001b[39m*\u001b[39;49m\u001b[39m*\u001b[39;49mfit_params)\n\u001b[1;32m    <a href='file:///home/lchaves/.pyenv/versions/3.8.12/envs/web3/lib/python3.8/site-packages/sklearn/pipeline.py?line=893'>894</a>\u001b[0m     \u001b[39melse\u001b[39;00m:\n\u001b[1;32m    <a href='file:///home/lchaves/.pyenv/versions/3.8.12/envs/web3/lib/python3.8/site-packages/sklearn/pipeline.py?line=894'>895</a>\u001b[0m         res \u001b[39m=\u001b[39m transformer\u001b[39m.\u001b[39mfit(X, y, \u001b[39m*\u001b[39m\u001b[39m*\u001b[39mfit_params)\u001b[39m.\u001b[39mtransform(X)\n",
      "File \u001b[0;32m~/.pyenv/versions/3.8.12/envs/web3/lib/python3.8/site-packages/sklearn/preprocessing/_encoders.py:488\u001b[0m, in \u001b[0;36mOneHotEncoder.fit_transform\u001b[0;34m(self, X, y)\u001b[0m\n\u001b[1;32m    <a href='file:///home/lchaves/.pyenv/versions/3.8.12/envs/web3/lib/python3.8/site-packages/sklearn/preprocessing/_encoders.py?line=465'>466</a>\u001b[0m \u001b[39m\"\"\"\u001b[39;00m\n\u001b[1;32m    <a href='file:///home/lchaves/.pyenv/versions/3.8.12/envs/web3/lib/python3.8/site-packages/sklearn/preprocessing/_encoders.py?line=466'>467</a>\u001b[0m \u001b[39mFit OneHotEncoder to X, then transform X.\u001b[39;00m\n\u001b[1;32m    <a href='file:///home/lchaves/.pyenv/versions/3.8.12/envs/web3/lib/python3.8/site-packages/sklearn/preprocessing/_encoders.py?line=467'>468</a>\u001b[0m \n\u001b[0;32m   (...)\u001b[0m\n\u001b[1;32m    <a href='file:///home/lchaves/.pyenv/versions/3.8.12/envs/web3/lib/python3.8/site-packages/sklearn/preprocessing/_encoders.py?line=484'>485</a>\u001b[0m \u001b[39m    returned.\u001b[39;00m\n\u001b[1;32m    <a href='file:///home/lchaves/.pyenv/versions/3.8.12/envs/web3/lib/python3.8/site-packages/sklearn/preprocessing/_encoders.py?line=485'>486</a>\u001b[0m \u001b[39m\"\"\"\u001b[39;00m\n\u001b[1;32m    <a href='file:///home/lchaves/.pyenv/versions/3.8.12/envs/web3/lib/python3.8/site-packages/sklearn/preprocessing/_encoders.py?line=486'>487</a>\u001b[0m \u001b[39mself\u001b[39m\u001b[39m.\u001b[39m_validate_keywords()\n\u001b[0;32m--> <a href='file:///home/lchaves/.pyenv/versions/3.8.12/envs/web3/lib/python3.8/site-packages/sklearn/preprocessing/_encoders.py?line=487'>488</a>\u001b[0m \u001b[39mreturn\u001b[39;00m \u001b[39msuper\u001b[39;49m()\u001b[39m.\u001b[39;49mfit_transform(X, y)\n",
      "File \u001b[0;32m~/.pyenv/versions/3.8.12/envs/web3/lib/python3.8/site-packages/sklearn/base.py:852\u001b[0m, in \u001b[0;36mTransformerMixin.fit_transform\u001b[0;34m(self, X, y, **fit_params)\u001b[0m\n\u001b[1;32m    <a href='file:///home/lchaves/.pyenv/versions/3.8.12/envs/web3/lib/python3.8/site-packages/sklearn/base.py?line=847'>848</a>\u001b[0m \u001b[39m# non-optimized default implementation; override when a better\u001b[39;00m\n\u001b[1;32m    <a href='file:///home/lchaves/.pyenv/versions/3.8.12/envs/web3/lib/python3.8/site-packages/sklearn/base.py?line=848'>849</a>\u001b[0m \u001b[39m# method is possible for a given clustering algorithm\u001b[39;00m\n\u001b[1;32m    <a href='file:///home/lchaves/.pyenv/versions/3.8.12/envs/web3/lib/python3.8/site-packages/sklearn/base.py?line=849'>850</a>\u001b[0m \u001b[39mif\u001b[39;00m y \u001b[39mis\u001b[39;00m \u001b[39mNone\u001b[39;00m:\n\u001b[1;32m    <a href='file:///home/lchaves/.pyenv/versions/3.8.12/envs/web3/lib/python3.8/site-packages/sklearn/base.py?line=850'>851</a>\u001b[0m     \u001b[39m# fit method of arity 1 (unsupervised transformation)\u001b[39;00m\n\u001b[0;32m--> <a href='file:///home/lchaves/.pyenv/versions/3.8.12/envs/web3/lib/python3.8/site-packages/sklearn/base.py?line=851'>852</a>\u001b[0m     \u001b[39mreturn\u001b[39;00m \u001b[39mself\u001b[39;49m\u001b[39m.\u001b[39;49mfit(X, \u001b[39m*\u001b[39;49m\u001b[39m*\u001b[39;49mfit_params)\u001b[39m.\u001b[39mtransform(X)\n\u001b[1;32m    <a href='file:///home/lchaves/.pyenv/versions/3.8.12/envs/web3/lib/python3.8/site-packages/sklearn/base.py?line=852'>853</a>\u001b[0m \u001b[39melse\u001b[39;00m:\n\u001b[1;32m    <a href='file:///home/lchaves/.pyenv/versions/3.8.12/envs/web3/lib/python3.8/site-packages/sklearn/base.py?line=853'>854</a>\u001b[0m     \u001b[39m# fit method of arity 2 (supervised transformation)\u001b[39;00m\n\u001b[1;32m    <a href='file:///home/lchaves/.pyenv/versions/3.8.12/envs/web3/lib/python3.8/site-packages/sklearn/base.py?line=854'>855</a>\u001b[0m     \u001b[39mreturn\u001b[39;00m \u001b[39mself\u001b[39m\u001b[39m.\u001b[39mfit(X, y, \u001b[39m*\u001b[39m\u001b[39m*\u001b[39mfit_params)\u001b[39m.\u001b[39mtransform(X)\n",
      "File \u001b[0;32m~/.pyenv/versions/3.8.12/envs/web3/lib/python3.8/site-packages/sklearn/preprocessing/_encoders.py:461\u001b[0m, in \u001b[0;36mOneHotEncoder.fit\u001b[0;34m(self, X, y)\u001b[0m\n\u001b[1;32m    <a href='file:///home/lchaves/.pyenv/versions/3.8.12/envs/web3/lib/python3.8/site-packages/sklearn/preprocessing/_encoders.py?line=442'>443</a>\u001b[0m \u001b[39m\"\"\"\u001b[39;00m\n\u001b[1;32m    <a href='file:///home/lchaves/.pyenv/versions/3.8.12/envs/web3/lib/python3.8/site-packages/sklearn/preprocessing/_encoders.py?line=443'>444</a>\u001b[0m \u001b[39mFit OneHotEncoder to X.\u001b[39;00m\n\u001b[1;32m    <a href='file:///home/lchaves/.pyenv/versions/3.8.12/envs/web3/lib/python3.8/site-packages/sklearn/preprocessing/_encoders.py?line=444'>445</a>\u001b[0m \n\u001b[0;32m   (...)\u001b[0m\n\u001b[1;32m    <a href='file:///home/lchaves/.pyenv/versions/3.8.12/envs/web3/lib/python3.8/site-packages/sklearn/preprocessing/_encoders.py?line=457'>458</a>\u001b[0m \u001b[39m    Fitted encoder.\u001b[39;00m\n\u001b[1;32m    <a href='file:///home/lchaves/.pyenv/versions/3.8.12/envs/web3/lib/python3.8/site-packages/sklearn/preprocessing/_encoders.py?line=458'>459</a>\u001b[0m \u001b[39m\"\"\"\u001b[39;00m\n\u001b[1;32m    <a href='file:///home/lchaves/.pyenv/versions/3.8.12/envs/web3/lib/python3.8/site-packages/sklearn/preprocessing/_encoders.py?line=459'>460</a>\u001b[0m \u001b[39mself\u001b[39m\u001b[39m.\u001b[39m_validate_keywords()\n\u001b[0;32m--> <a href='file:///home/lchaves/.pyenv/versions/3.8.12/envs/web3/lib/python3.8/site-packages/sklearn/preprocessing/_encoders.py?line=460'>461</a>\u001b[0m \u001b[39mself\u001b[39;49m\u001b[39m.\u001b[39;49m_fit(X, handle_unknown\u001b[39m=\u001b[39;49m\u001b[39mself\u001b[39;49m\u001b[39m.\u001b[39;49mhandle_unknown, force_all_finite\u001b[39m=\u001b[39;49m\u001b[39m\"\u001b[39;49m\u001b[39mallow-nan\u001b[39;49m\u001b[39m\"\u001b[39;49m)\n\u001b[1;32m    <a href='file:///home/lchaves/.pyenv/versions/3.8.12/envs/web3/lib/python3.8/site-packages/sklearn/preprocessing/_encoders.py?line=461'>462</a>\u001b[0m \u001b[39mself\u001b[39m\u001b[39m.\u001b[39mdrop_idx_ \u001b[39m=\u001b[39m \u001b[39mself\u001b[39m\u001b[39m.\u001b[39m_compute_drop_idx()\n\u001b[1;32m    <a href='file:///home/lchaves/.pyenv/versions/3.8.12/envs/web3/lib/python3.8/site-packages/sklearn/preprocessing/_encoders.py?line=462'>463</a>\u001b[0m \u001b[39mreturn\u001b[39;00m \u001b[39mself\u001b[39m\n",
      "File \u001b[0;32m~/.pyenv/versions/3.8.12/envs/web3/lib/python3.8/site-packages/sklearn/preprocessing/_encoders.py:94\u001b[0m, in \u001b[0;36m_BaseEncoder._fit\u001b[0;34m(self, X, handle_unknown, force_all_finite)\u001b[0m\n\u001b[1;32m     <a href='file:///home/lchaves/.pyenv/versions/3.8.12/envs/web3/lib/python3.8/site-packages/sklearn/preprocessing/_encoders.py?line=91'>92</a>\u001b[0m Xi \u001b[39m=\u001b[39m X_list[i]\n\u001b[1;32m     <a href='file:///home/lchaves/.pyenv/versions/3.8.12/envs/web3/lib/python3.8/site-packages/sklearn/preprocessing/_encoders.py?line=92'>93</a>\u001b[0m \u001b[39mif\u001b[39;00m \u001b[39mself\u001b[39m\u001b[39m.\u001b[39mcategories \u001b[39m==\u001b[39m \u001b[39m\"\u001b[39m\u001b[39mauto\u001b[39m\u001b[39m\"\u001b[39m:\n\u001b[0;32m---> <a href='file:///home/lchaves/.pyenv/versions/3.8.12/envs/web3/lib/python3.8/site-packages/sklearn/preprocessing/_encoders.py?line=93'>94</a>\u001b[0m     cats \u001b[39m=\u001b[39m _unique(Xi)\n\u001b[1;32m     <a href='file:///home/lchaves/.pyenv/versions/3.8.12/envs/web3/lib/python3.8/site-packages/sklearn/preprocessing/_encoders.py?line=94'>95</a>\u001b[0m \u001b[39melse\u001b[39;00m:\n\u001b[1;32m     <a href='file:///home/lchaves/.pyenv/versions/3.8.12/envs/web3/lib/python3.8/site-packages/sklearn/preprocessing/_encoders.py?line=95'>96</a>\u001b[0m     cats \u001b[39m=\u001b[39m np\u001b[39m.\u001b[39marray(\u001b[39mself\u001b[39m\u001b[39m.\u001b[39mcategories[i], dtype\u001b[39m=\u001b[39mXi\u001b[39m.\u001b[39mdtype)\n",
      "File \u001b[0;32m~/.pyenv/versions/3.8.12/envs/web3/lib/python3.8/site-packages/sklearn/utils/_encode.py:31\u001b[0m, in \u001b[0;36m_unique\u001b[0;34m(values, return_inverse)\u001b[0m\n\u001b[1;32m      <a href='file:///home/lchaves/.pyenv/versions/3.8.12/envs/web3/lib/python3.8/site-packages/sklearn/utils/_encode.py?line=7'>8</a>\u001b[0m \u001b[39m\"\"\"Helper function to find unique values with support for python objects.\u001b[39;00m\n\u001b[1;32m      <a href='file:///home/lchaves/.pyenv/versions/3.8.12/envs/web3/lib/python3.8/site-packages/sklearn/utils/_encode.py?line=8'>9</a>\u001b[0m \n\u001b[1;32m     <a href='file:///home/lchaves/.pyenv/versions/3.8.12/envs/web3/lib/python3.8/site-packages/sklearn/utils/_encode.py?line=9'>10</a>\u001b[0m \u001b[39mUses pure python method for object dtype, and numpy method for\u001b[39;00m\n\u001b[0;32m   (...)\u001b[0m\n\u001b[1;32m     <a href='file:///home/lchaves/.pyenv/versions/3.8.12/envs/web3/lib/python3.8/site-packages/sklearn/utils/_encode.py?line=27'>28</a>\u001b[0m \u001b[39m    Only provided if `return_inverse` is True.\u001b[39;00m\n\u001b[1;32m     <a href='file:///home/lchaves/.pyenv/versions/3.8.12/envs/web3/lib/python3.8/site-packages/sklearn/utils/_encode.py?line=28'>29</a>\u001b[0m \u001b[39m\"\"\"\u001b[39;00m\n\u001b[1;32m     <a href='file:///home/lchaves/.pyenv/versions/3.8.12/envs/web3/lib/python3.8/site-packages/sklearn/utils/_encode.py?line=29'>30</a>\u001b[0m \u001b[39mif\u001b[39;00m values\u001b[39m.\u001b[39mdtype \u001b[39m==\u001b[39m \u001b[39mobject\u001b[39m:\n\u001b[0;32m---> <a href='file:///home/lchaves/.pyenv/versions/3.8.12/envs/web3/lib/python3.8/site-packages/sklearn/utils/_encode.py?line=30'>31</a>\u001b[0m     \u001b[39mreturn\u001b[39;00m _unique_python(values, return_inverse\u001b[39m=\u001b[39;49mreturn_inverse)\n\u001b[1;32m     <a href='file:///home/lchaves/.pyenv/versions/3.8.12/envs/web3/lib/python3.8/site-packages/sklearn/utils/_encode.py?line=31'>32</a>\u001b[0m \u001b[39m# numerical\u001b[39;00m\n\u001b[1;32m     <a href='file:///home/lchaves/.pyenv/versions/3.8.12/envs/web3/lib/python3.8/site-packages/sklearn/utils/_encode.py?line=32'>33</a>\u001b[0m out \u001b[39m=\u001b[39m np\u001b[39m.\u001b[39munique(values, return_inverse\u001b[39m=\u001b[39mreturn_inverse)\n",
      "File \u001b[0;32m~/.pyenv/versions/3.8.12/envs/web3/lib/python3.8/site-packages/sklearn/utils/_encode.py:140\u001b[0m, in \u001b[0;36m_unique_python\u001b[0;34m(values, return_inverse)\u001b[0m\n\u001b[1;32m    <a href='file:///home/lchaves/.pyenv/versions/3.8.12/envs/web3/lib/python3.8/site-packages/sklearn/utils/_encode.py?line=137'>138</a>\u001b[0m \u001b[39mexcept\u001b[39;00m \u001b[39mTypeError\u001b[39;00m:\n\u001b[1;32m    <a href='file:///home/lchaves/.pyenv/versions/3.8.12/envs/web3/lib/python3.8/site-packages/sklearn/utils/_encode.py?line=138'>139</a>\u001b[0m     types \u001b[39m=\u001b[39m \u001b[39msorted\u001b[39m(t\u001b[39m.\u001b[39m\u001b[39m__qualname__\u001b[39m \u001b[39mfor\u001b[39;00m t \u001b[39min\u001b[39;00m \u001b[39mset\u001b[39m(\u001b[39mtype\u001b[39m(v) \u001b[39mfor\u001b[39;00m v \u001b[39min\u001b[39;00m values))\n\u001b[0;32m--> <a href='file:///home/lchaves/.pyenv/versions/3.8.12/envs/web3/lib/python3.8/site-packages/sklearn/utils/_encode.py?line=139'>140</a>\u001b[0m     \u001b[39mraise\u001b[39;00m \u001b[39mTypeError\u001b[39;00m(\n\u001b[1;32m    <a href='file:///home/lchaves/.pyenv/versions/3.8.12/envs/web3/lib/python3.8/site-packages/sklearn/utils/_encode.py?line=140'>141</a>\u001b[0m         \u001b[39m\"\u001b[39m\u001b[39mEncoders require their input to be uniformly \u001b[39m\u001b[39m\"\u001b[39m\n\u001b[1;32m    <a href='file:///home/lchaves/.pyenv/versions/3.8.12/envs/web3/lib/python3.8/site-packages/sklearn/utils/_encode.py?line=141'>142</a>\u001b[0m         \u001b[39mf\u001b[39m\u001b[39m\"\u001b[39m\u001b[39mstrings or numbers. Got \u001b[39m\u001b[39m{\u001b[39;00mtypes\u001b[39m}\u001b[39;00m\u001b[39m\"\u001b[39m\n\u001b[1;32m    <a href='file:///home/lchaves/.pyenv/versions/3.8.12/envs/web3/lib/python3.8/site-packages/sklearn/utils/_encode.py?line=142'>143</a>\u001b[0m     )\n\u001b[1;32m    <a href='file:///home/lchaves/.pyenv/versions/3.8.12/envs/web3/lib/python3.8/site-packages/sklearn/utils/_encode.py?line=144'>145</a>\u001b[0m \u001b[39mif\u001b[39;00m return_inverse:\n\u001b[1;32m    <a href='file:///home/lchaves/.pyenv/versions/3.8.12/envs/web3/lib/python3.8/site-packages/sklearn/utils/_encode.py?line=145'>146</a>\u001b[0m     \u001b[39mreturn\u001b[39;00m uniques, _map_to_integer(values, uniques)\n",
      "\u001b[0;31mTypeError\u001b[0m: Encoders require their input to be uniformly strings or numbers. Got ['ndarray']"
     ]
    }
   ],
   "source": [
    "pipe.fit_transform(df)"
   ]
  }
 ],
 "metadata": {
  "kernelspec": {
   "display_name": "Python 3",
   "language": "python",
   "name": "python3"
  },
  "language_info": {
   "codemirror_mode": {
    "name": "ipython",
    "version": 3
   },
   "file_extension": ".py",
   "mimetype": "text/x-python",
   "name": "python",
   "nbconvert_exporter": "python",
   "pygments_lexer": "ipython3",
   "version": "3.8.12"
  }
 },
 "nbformat": 4,
 "nbformat_minor": 5
}
