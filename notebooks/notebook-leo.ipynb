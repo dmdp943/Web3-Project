{
 "cells": [
  {
   "cell_type": "code",
   "execution_count": null,
   "metadata": {},
   "outputs": [],
   "source": [
    "from selenium import webdriver\n",
    "from webdriver_manager.chrome import ChromeDriverManager\n",
    "from selenium.webdriver.common.by import By\n",
    "from selenium.common.exceptions import NoSuchElementException\n",
    "from selenium.webdriver.common.action_chains import ActionChains\n",
    "from selenium.webdriver.remote.webelement import WebElement\n",
    "from selenium.webdriver.support.ui import WebDriverWait\n",
    "import time\n",
    "from selenium.webdriver.support import expected_conditions as EC\n",
    "from selenium.webdriver.common.keys import Keys\n",
    "from selenium.webdriver.chrome.options import Options\n",
    "\n",
    "import pandas as pd\n",
    "import requests\n",
    "from bs4 import BeautifulSoup\n"
   ]
  },
  {
   "cell_type": "code",
   "execution_count": null,
   "metadata": {},
   "outputs": [],
   "source": [
    "options = Options()\n",
    "options.add_argument(\"--start-maximized\")\n",
    "driver = webdriver.Chrome(ChromeDriverManager().install(),\n",
    "                          chrome_options=options)\n",
    "infos_main_screen = []\n",
    "\n",
    "for i in range(1, 12):\n",
    "    url = f\"https://polkastarter.com/projects?page={i}#search\"\n",
    "    driver.get(url)\n",
    "\n",
    "    f = driver.find_element(\n",
    "        By.XPATH, '//table[@id=\"ps--funded-projects__table\"]//tbody')\n",
    "    for name in f.find_elements_by_xpath(\".//tr\"):\n",
    "\n",
    "        info = name.find_elements_by_xpath(\".//td\")\n",
    "        temp_list = [i.text for i in info]\n",
    "        print(temp_list)\n",
    "        infos_main_screen.append(temp_list)\n",
    "        # breakpoint()\n"
   ]
  },
  {
   "cell_type": "code",
   "execution_count": null,
   "metadata": {},
   "outputs": [],
   "source": [
    "cols = [\n",
    "    \"Project Name\", \"Type\", \"Participants\", \"Total Raised\", \"Current Price\",\n",
    "    \"ATH Since IDO\", \"Ended in (UTC)\", \"Networks\"\n",
    "]\n",
    "\n",
    "df = pd.DataFrame(infos_main_screen, columns=[cols]).drop_duplicates()"
   ]
  },
  {
   "cell_type": "code",
   "execution_count": null,
   "metadata": {},
   "outputs": [],
   "source": [
    "df[['Project Name', 'Ticker']] = df['Project Name'].str.split(\"\\n\",\n",
    "                                                              expand=True)"
   ]
  },
  {
   "cell_type": "code",
   "execution_count": null,
   "metadata": {},
   "outputs": [],
   "source": [
    "df['Link'] = \"https://polkastarter.com/projects/\" + (\n",
    "    df['Project Name'].str.lower()).str.replace(\" \", \"-\").str.replace(\n",
    "        \".\", \"-\")\n"
   ]
  },
  {
   "cell_type": "code",
   "execution_count": null,
   "metadata": {},
   "outputs": [],
   "source": [
    "df['Link'] = df['Link'].str.replace(\"polychain-monsters\", \"polkamon\")\n",
    "df['Link'] = df['Link'].str.replace(\"shyft-network-inc-\", \"shyft-network-inc\")\n"
   ]
  },
  {
   "cell_type": "code",
   "execution_count": null,
   "metadata": {},
   "outputs": [],
   "source": [
    "cont_final = []\n",
    "for url in df['Link']:\n",
    "    print(url)\n",
    "    content = requests.get(url)\n",
    "    soup = BeautifulSoup(content.content, 'html.parser')\n",
    "    data = soup.find(\"div\", {\"id\": \"app-content\"}).find_next()\n",
    "    start = str(data).find(\"{\")\n",
    "    end = str(data).find(\"}\")\n",
    "    cont_final.append(str(data)[start:end])\n"
   ]
  },
  {
   "cell_type": "code",
   "execution_count": null,
   "metadata": {},
   "outputs": [],
   "source": [
    "\n",
    "cont_final = pd.Series(cont_final)\n",
    "\n",
    "a = cont_final.str.replace(\"\\r\",\"\").str.replace(\"\\n\",\"\")\n"
   ]
  }
 ],
 "metadata": {
  "interpreter": {
   "hash": "0600588c3b5f4418cbe7b5ebc6825b479f3bc010269d8b60d75058cdd010adfe"
  },
  "kernelspec": {
   "display_name": "Python 3.7.8rc1 64-bit",
   "language": "python",
   "name": "python3"
  },
  "language_info": {
   "codemirror_mode": {
    "name": "ipython",
    "version": 3
   },
   "file_extension": ".py",
   "mimetype": "text/x-python",
   "name": "python",
   "nbconvert_exporter": "python",
   "pygments_lexer": "ipython3",
   "version": "3.7.8"
  },
  "orig_nbformat": 4
 },
 "nbformat": 4,
 "nbformat_minor": 2
}
