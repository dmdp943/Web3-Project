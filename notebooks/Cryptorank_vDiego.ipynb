{
 "cells": [
  {
   "cell_type": "code",
   "execution_count": 5,
   "id": "f711f3c4",
   "metadata": {},
   "outputs": [],
   "source": [
    "from selenium import webdriver\n",
    "from selenium.webdriver.common.keys import Keys\n",
    "import time\n",
    "import pandas as pd\n",
    "import csv\n",
    "from os import path\n",
    "from selenium import webdriver\n",
    "from selenium.webdriver.chrome.options import Options\n",
    "from webdriver_manager.chrome import ChromeDriverManager\n",
    "from selenium.webdriver.chrome.service import Service\n",
    "from selenium.webdriver.common.by import By\n",
    "from bs4 import BeautifulSoup \n",
    "import requests\n",
    "import csv"
   ]
  },
  {
   "cell_type": "code",
   "execution_count": 6,
   "id": "dde791c5",
   "metadata": {},
   "outputs": [],
   "source": [
    "options = Options()\n",
    "options.add_argument('headless') #avoid chromedriver opening\n",
    "options.add_argument('window-size=1920x1080')\n",
    "options.add_argument(\"disable-gpu\")\n",
    "options.add_argument(\"--lang=en\"); #set english as language\n"
   ]
  },
  {
   "cell_type": "code",
   "execution_count": 7,
   "id": "9a02e2c7",
   "metadata": {},
   "outputs": [
    {
     "name": "stderr",
     "output_type": "stream",
     "text": [
      "\n",
      "\n",
      "====== WebDriver manager ======\n",
      "Current google-chrome version is 100.0.4896\n",
      "Get LATEST chromedriver version for 100.0.4896 google-chrome\n",
      "There is no [mac64] chromedriver for browser 100.0.4896 in cache\n",
      "Trying to download new driver from https://chromedriver.storage.googleapis.com/100.0.4896.60/chromedriver_mac64.zip\n",
      "Driver has been saved in cache [/Users/diegopico/.wdm/drivers/chromedriver/mac64/100.0.4896.60]\n",
      "/var/folders/ct/hz49ts_123q0xjdwrm22m8400000gn/T/ipykernel_86290/2767233116.py:1: DeprecationWarning: executable_path has been deprecated, please pass in a Service object\n",
      "  driver = webdriver.Chrome(ChromeDriverManager().install())\n"
     ]
    }
   ],
   "source": [
    "driver = webdriver.Chrome(ChromeDriverManager().install())\n"
   ]
  },
  {
   "cell_type": "code",
   "execution_count": 8,
   "id": "b79be2c7",
   "metadata": {},
   "outputs": [],
   "source": [
    "driver.get('https://cryptorank.io/ico')\n"
   ]
  },
  {
   "cell_type": "code",
   "execution_count": 9,
   "id": "564338f9",
   "metadata": {},
   "outputs": [
    {
     "name": "stderr",
     "output_type": "stream",
     "text": [
      "/var/folders/ct/hz49ts_123q0xjdwrm22m8400000gn/T/ipykernel_86290/894950793.py:1: DeprecationWarning: find_element_by_tag_name is deprecated. Please use find_element(by=By.TAG_NAME, value=name) instead\n",
      "  len(driver.find_element_by_tag_name('table').text)\n"
     ]
    },
    {
     "data": {
      "text/plain": [
       "8971"
      ]
     },
     "execution_count": 9,
     "metadata": {},
     "output_type": "execute_result"
    }
   ],
   "source": [
    "len(driver.find_element_by_tag_name('table').text)\n",
    "\n",
    "\n"
   ]
  },
  {
   "cell_type": "code",
   "execution_count": 8,
   "id": "732cadd6",
   "metadata": {},
   "outputs": [
    {
     "name": "stderr",
     "output_type": "stream",
     "text": [
      "<ipython-input-8-ab560730f64b>:1: DeprecationWarning: find_element_by_tag_name is deprecated. Please use find_element(by=By.TAG_NAME, value=name) instead\n",
      "  len(driver.find_element_by_tag_name('table').text)\n"
     ]
    },
    {
     "data": {
      "text/plain": [
       "36237"
      ]
     },
     "execution_count": 8,
     "metadata": {},
     "output_type": "execute_result"
    }
   ],
   "source": [
    "len(driver.find_element_by_tag_name('table').text)\n"
   ]
  },
  {
   "cell_type": "code",
   "execution_count": 10,
   "id": "7f5d6f6e",
   "metadata": {},
   "outputs": [
    {
     "name": "stderr",
     "output_type": "stream",
     "text": [
      "/var/folders/ct/hz49ts_123q0xjdwrm22m8400000gn/T/ipykernel_86290/4052819810.py:1: DeprecationWarning: find_element_by_tag_name is deprecated. Please use find_element(by=By.TAG_NAME, value=name) instead\n",
      "  len(driver.find_element_by_tag_name('table').text)\n"
     ]
    },
    {
     "data": {
      "text/plain": [
       "8971"
      ]
     },
     "execution_count": 10,
     "metadata": {},
     "output_type": "execute_result"
    }
   ],
   "source": [
    "len(driver.find_element_by_tag_name('table').text)"
   ]
  },
  {
   "cell_type": "code",
   "execution_count": 12,
   "id": "74c935f5",
   "metadata": {},
   "outputs": [
    {
     "name": "stderr",
     "output_type": "stream",
     "text": [
      "/var/folders/ct/hz49ts_123q0xjdwrm22m8400000gn/T/ipykernel_86290/1908275969.py:1: DeprecationWarning: find_element_by_tag_name is deprecated. Please use find_element(by=By.TAG_NAME, value=name) instead\n",
      "  variavel = driver.find_element_by_tag_name('table')\n"
     ]
    }
   ],
   "source": [
    "variavel = driver.find_element_by_tag_name('table')"
   ]
  },
  {
   "cell_type": "code",
   "execution_count": 13,
   "id": "0d468813",
   "metadata": {},
   "outputs": [],
   "source": [
    "from bs4 import BeautifulSoup"
   ]
  },
  {
   "cell_type": "code",
   "execution_count": 14,
   "id": "490b3421",
   "metadata": {},
   "outputs": [],
   "source": [
    "soup = BeautifulSoup(driver.page_source)"
   ]
  },
  {
   "cell_type": "code",
   "execution_count": 15,
   "id": "8121c8e8",
   "metadata": {},
   "outputs": [],
   "source": [
    "df = pd.read_html(str(soup.find('table')))"
   ]
  },
  {
   "cell_type": "code",
   "execution_count": 16,
   "id": "beb83f58",
   "metadata": {},
   "outputs": [],
   "source": [
    "df[0].to_csv(\"cryptoranktable.csv\")"
   ]
  },
  {
   "cell_type": "code",
   "execution_count": 17,
   "id": "f48879eb-a5f5-4bcd-a605-6279ee2dbb13",
   "metadata": {},
   "outputs": [
    {
     "data": {
      "text/plain": [
       "[                       Name     Price Sale Price Market Cap        Raise  \\\n",
       " 0   Realms Of EthernityRETH   Not Set     $ 0.03    Not Set    $ 300,000   \n",
       " 1   Realms Of EthernityRETH   Not Set     $ 0.03    Not Set    $ 161,500   \n",
       " 2            MetaMateNFTMTM  $ 0.0165     $ 0.01  $ 388.77K    $ 280,000   \n",
       " 3             Bold PointBPT   Not Set   $ 0.0175    Not Set  $ 1,500,000   \n",
       " 4        Sugar KingdomCANDY   Not Set    $ 0.160    Not Set     $ 75,000   \n",
       " ..                      ...       ...        ...        ...          ...   \n",
       " 95            Bot PlanetBOT  $ 0.0197    $ 0.016    Not Set     $ 23,750   \n",
       " 96             GoldfingrGFT   Not Set     $ 0.06    Not Set    $ 100,000   \n",
       " 97          Galaxy BlitzMIT    $ 1.12     $ 1.00    Not Set    $ 190,000   \n",
       " 98             MetaWearWEAR  $ 0.0109    $ 0.005  $ 936.13K    $ 400,000   \n",
       " 99             MetaWearWEAR  $ 0.0109    $ 0.005  $ 936.13K    $ 100,000   \n",
       " \n",
       "    ROI USD ATH ROI USD Type  TGE Platform   Ended       Category  \n",
       " 0      NaN         NaN  IDO       Seedify  12 Apr         Gaming  \n",
       " 1      NaN         NaN  IDO      TrustPad  12 Apr         Gaming  \n",
       " 2    1.65x       4.16x  IDO      GameZone  11 Apr  Entertainment  \n",
       " 3      NaN         NaN  IDO     Avalaunch  11 Apr         Gaming  \n",
       " 4      NaN         NaN  IDO    BinStarter  10 Apr         Gaming  \n",
       " ..     ...         ...  ...           ...     ...            ...  \n",
       " 95   1.23x       1.53x  IDO   DuckSTARTER  21 Mar           Dapp  \n",
       " 96     NaN         NaN  IDO   MoonStarter  21 Mar         Social  \n",
       " 97   1.12x       1.71x  IDO      TrustPad  21 Mar         Gaming  \n",
       " 98   2.17x       3.79x  IDO       Seedify  20 Mar         Market  \n",
       " 99   2.17x       3.79x  IDO  PAID Network  20 Mar         Market  \n",
       " \n",
       " [100 rows x 11 columns]]"
      ]
     },
     "execution_count": 17,
     "metadata": {},
     "output_type": "execute_result"
    }
   ],
   "source": [
    "df"
   ]
  },
  {
   "cell_type": "code",
   "execution_count": null,
   "id": "2f69889f-4438-4476-b4ce-2050baefffea",
   "metadata": {},
   "outputs": [],
   "source": []
  }
 ],
 "metadata": {
  "kernelspec": {
   "display_name": "Python 3 (ipykernel)",
   "language": "python",
   "name": "python3"
  },
  "language_info": {
   "codemirror_mode": {
    "name": "ipython",
    "version": 3
   },
   "file_extension": ".py",
   "mimetype": "text/x-python",
   "name": "python",
   "nbconvert_exporter": "python",
   "pygments_lexer": "ipython3",
   "version": "3.8.12"
  },
  "toc": {
   "base_numbering": 1,
   "nav_menu": {},
   "number_sections": true,
   "sideBar": true,
   "skip_h1_title": false,
   "title_cell": "Table of Contents",
   "title_sidebar": "Contents",
   "toc_cell": false,
   "toc_position": {},
   "toc_section_display": true,
   "toc_window_display": false
  }
 },
 "nbformat": 4,
 "nbformat_minor": 5
}
